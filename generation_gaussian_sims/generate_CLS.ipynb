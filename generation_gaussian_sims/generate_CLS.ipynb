{
 "cells": [
  {
   "cell_type": "code",
   "execution_count": 1,
   "metadata": {},
   "outputs": [],
   "source": [
    "import pyccl\n",
    "import numpy as np\n",
    "import matplotlib.pyplot as plt"
   ]
  },
  {
   "cell_type": "code",
   "execution_count": 2,
   "metadata": {},
   "outputs": [],
   "source": [
    "# taken from cosmology object on TXPipe theory stage\n",
    "cosmo = pyccl.Cosmology(Omega_c=0.2199999, Omega_b=0.0448, h=0.71, n_s=0.963, sigma8=0.8, A_s=None, Omega_k=0.0, Omega_g=None, Neff=3.046, w0=-1.0, wa=0.0, T_CMB=None, bcm_log10Mc=14.07918, bcm_etab=0.5, bcm_ks=55.0, mu_0=0.0, sigma_0=0.0, c1_mg=1.0, c2_mg=1.0, lambda_mg=0.0, m_nu=0.0, m_nu_type=None, z_mg=None, df_mg=None, transfer_function='boltzmann_camb', matter_power_spectrum='halofit', baryons_power_spectrum='nobaryons', mass_function='tinker10', halo_concentration='duffy2008', emulator_neutrinos='strict')"
   ]
  },
  {
   "cell_type": "code",
   "execution_count": 3,
   "metadata": {},
   "outputs": [],
   "source": [
    "# Load SRD nzs\n",
    "lens = np.loadtxt('srd_nzs/nz_y1_lens_5bins_srd.txt').T\n",
    "source = np.loadtxt('srd_nzs/nz_y1_srcs_5bins_srd.txt').T\n",
    "\n",
    "\n",
    "z_l = lens[0]\n",
    "z_s = source[0]\n",
    "nzs_l = lens[1:]\n",
    "nzs_s = source[1:]\n",
    "ell_max = 50000"
   ]
  },
  {
   "cell_type": "code",
   "execution_count": 6,
   "metadata": {},
   "outputs": [
    {
     "ename": "CCLError",
     "evalue": "Error CCL_ERROR_INTEG: ",
     "output_type": "error",
     "traceback": [
      "\u001b[0;31m---------------------------------------------------------------------------\u001b[0m",
      "\u001b[0;31mCCLError\u001b[0m                                  Traceback (most recent call last)",
      "\u001b[0;32m<ipython-input-6-64288b170b21>\u001b[0m in \u001b[0;36m<module>\u001b[0;34m\u001b[0m\n\u001b[0;32m----> 1\u001b[0;31m \u001b[0mpyccl\u001b[0m\u001b[0;34m.\u001b[0m\u001b[0mWeakLensingTracer\u001b[0m\u001b[0;34m(\u001b[0m\u001b[0mcosmo\u001b[0m\u001b[0;34m,\u001b[0m \u001b[0mdndz\u001b[0m\u001b[0;34m=\u001b[0m\u001b[0;34m(\u001b[0m\u001b[0mz_s\u001b[0m\u001b[0;34m,\u001b[0m \u001b[0mnzs_s\u001b[0m\u001b[0;34m[\u001b[0m\u001b[0;36m4\u001b[0m\u001b[0;34m]\u001b[0m\u001b[0;34m)\u001b[0m\u001b[0;34m)\u001b[0m\u001b[0;34m\u001b[0m\u001b[0;34m\u001b[0m\u001b[0m\n\u001b[0m",
      "\u001b[0;32m/opt/lsst/software/stack/python/miniconda3-4.7.10/envs/lsst-scipipe-4d7b902/lib/python3.7/site-packages/pyccl/tracers.py\u001b[0m in \u001b[0;36m__init__\u001b[0;34m(self, cosmo, dndz, has_shear, ia_bias, use_A_ia)\u001b[0m\n\u001b[1;32m    613\u001b[0m \u001b[0;34m\u001b[0m\u001b[0m\n\u001b[1;32m    614\u001b[0m         \u001b[0;32mif\u001b[0m \u001b[0mhas_shear\u001b[0m\u001b[0;34m:\u001b[0m\u001b[0;34m\u001b[0m\u001b[0;34m\u001b[0m\u001b[0m\n\u001b[0;32m--> 615\u001b[0;31m             \u001b[0mkernel_l\u001b[0m \u001b[0;34m=\u001b[0m \u001b[0mget_lensing_kernel\u001b[0m\u001b[0;34m(\u001b[0m\u001b[0mcosmo\u001b[0m\u001b[0;34m,\u001b[0m \u001b[0mdndz\u001b[0m\u001b[0;34m)\u001b[0m\u001b[0;34m\u001b[0m\u001b[0;34m\u001b[0m\u001b[0m\n\u001b[0m\u001b[1;32m    616\u001b[0m             \u001b[0;32mif\u001b[0m \u001b[0;34m(\u001b[0m\u001b[0mcosmo\u001b[0m\u001b[0;34m[\u001b[0m\u001b[0;34m'sigma_0'\u001b[0m\u001b[0;34m]\u001b[0m \u001b[0;34m==\u001b[0m \u001b[0;36m0\u001b[0m\u001b[0;34m)\u001b[0m\u001b[0;34m:\u001b[0m\u001b[0;34m\u001b[0m\u001b[0;34m\u001b[0m\u001b[0m\n\u001b[1;32m    617\u001b[0m                 \u001b[0;31m# GR case\u001b[0m\u001b[0;34m\u001b[0m\u001b[0;34m\u001b[0m\u001b[0;34m\u001b[0m\u001b[0m\n",
      "\u001b[0;32m/opt/lsst/software/stack/python/miniconda3-4.7.10/envs/lsst-scipipe-4d7b902/lib/python3.7/site-packages/pyccl/tracers.py\u001b[0m in \u001b[0;36mget_lensing_kernel\u001b[0;34m(cosmo, dndz, mag_bias)\u001b[0m\n\u001b[1;32m     91\u001b[0m                                                   \u001b[0mint\u001b[0m\u001b[0;34m(\u001b[0m\u001b[0mhas_magbias\u001b[0m\u001b[0;34m)\u001b[0m\u001b[0;34m,\u001b[0m \u001b[0mz_s\u001b[0m\u001b[0;34m,\u001b[0m \u001b[0ms\u001b[0m\u001b[0;34m,\u001b[0m\u001b[0;34m\u001b[0m\u001b[0;34m\u001b[0m\u001b[0m\n\u001b[1;32m     92\u001b[0m                                                   chi, nchi, status)\n\u001b[0;32m---> 93\u001b[0;31m     \u001b[0mcheck\u001b[0m\u001b[0;34m(\u001b[0m\u001b[0mstatus\u001b[0m\u001b[0;34m)\u001b[0m\u001b[0;34m\u001b[0m\u001b[0;34m\u001b[0m\u001b[0m\n\u001b[0m\u001b[1;32m     94\u001b[0m     \u001b[0;32mreturn\u001b[0m \u001b[0mchi\u001b[0m\u001b[0;34m,\u001b[0m \u001b[0mwchi\u001b[0m\u001b[0;34m\u001b[0m\u001b[0;34m\u001b[0m\u001b[0m\n\u001b[1;32m     95\u001b[0m \u001b[0;34m\u001b[0m\u001b[0m\n",
      "\u001b[0;32m/opt/lsst/software/stack/python/miniconda3-4.7.10/envs/lsst-scipipe-4d7b902/lib/python3.7/site-packages/pyccl/pyutils.py\u001b[0m in \u001b[0;36mcheck\u001b[0;34m(status, cosmo)\u001b[0m\n\u001b[1;32m     46\u001b[0m     \u001b[0;31m# Check for known error status\u001b[0m\u001b[0;34m\u001b[0m\u001b[0;34m\u001b[0m\u001b[0;34m\u001b[0m\u001b[0m\n\u001b[1;32m     47\u001b[0m     \u001b[0;32mif\u001b[0m \u001b[0mstatus\u001b[0m \u001b[0;32min\u001b[0m \u001b[0merror_types\u001b[0m\u001b[0;34m.\u001b[0m\u001b[0mkeys\u001b[0m\u001b[0;34m(\u001b[0m\u001b[0;34m)\u001b[0m\u001b[0;34m:\u001b[0m\u001b[0;34m\u001b[0m\u001b[0;34m\u001b[0m\u001b[0m\n\u001b[0;32m---> 48\u001b[0;31m         \u001b[0;32mraise\u001b[0m \u001b[0mCCLError\u001b[0m\u001b[0;34m(\u001b[0m\u001b[0;34m\"Error %s: %s\"\u001b[0m \u001b[0;34m%\u001b[0m \u001b[0;34m(\u001b[0m\u001b[0merror_types\u001b[0m\u001b[0;34m[\u001b[0m\u001b[0mstatus\u001b[0m\u001b[0;34m]\u001b[0m\u001b[0;34m,\u001b[0m \u001b[0mmsg\u001b[0m\u001b[0;34m)\u001b[0m\u001b[0;34m)\u001b[0m\u001b[0;34m\u001b[0m\u001b[0;34m\u001b[0m\u001b[0m\n\u001b[0m\u001b[1;32m     49\u001b[0m \u001b[0;34m\u001b[0m\u001b[0m\n\u001b[1;32m     50\u001b[0m     \u001b[0;31m# Check for unknown error\u001b[0m\u001b[0;34m\u001b[0m\u001b[0;34m\u001b[0m\u001b[0;34m\u001b[0m\u001b[0m\n",
      "\u001b[0;31mCCLError\u001b[0m: Error CCL_ERROR_INTEG: "
     ]
    }
   ],
   "source": [
    "pyccl.WeakLensingTracer(cosmo, dndz=(z_s, nzs_s[4]))"
   ]
  },
  {
   "cell_type": "code",
   "execution_count": 4,
   "metadata": {},
   "outputs": [
    {
     "data": {
      "text/plain": [
       "5"
      ]
     },
     "execution_count": 4,
     "metadata": {},
     "output_type": "execute_result"
    }
   ],
   "source": [
    "len(nzs_s)"
   ]
  },
  {
   "cell_type": "code",
   "execution_count": 39,
   "metadata": {},
   "outputs": [
    {
     "name": "stdout",
     "output_type": "stream",
     "text": [
      "0 0\n",
      "0 1\n",
      "0 2\n",
      "0 3\n",
      "0 4\n",
      "1 1\n",
      "1 2\n",
      "1 3\n",
      "1 4\n",
      "2 2\n",
      "2 3\n",
      "2 4\n",
      "3 3\n",
      "3 4\n",
      "4 4\n"
     ]
    }
   ],
   "source": [
    "# cosmic shear cls\n",
    "reduce = 1\n",
    "ell = np.arange(0,ell_max)\n",
    "for s1 in range(len(nzs_s)):\n",
    "    for s2 in range(len(nzs_s)):\n",
    "        if s2>=s1:\n",
    "            print(s1, s2)\n",
    "            if s1==4:\n",
    "                reduce = 2 \n",
    "            else:\n",
    "                reduce = 1\n",
    "            tracer1 = pyccl.WeakLensingTracer(cosmo, dndz=(z_s[::reduce], nzs_s[s1][::reduce]))\n",
    "            #plt.plot(z_s[::reduce], nzs_s[s1][::reduce])\n",
    "            if s2==4:\n",
    "                reduce = 2\n",
    "            else:\n",
    "                reduce = 1\n",
    "            tracer2 = pyccl.WeakLensingTracer(cosmo, dndz=(z_s[::reduce], nzs_s[s2][::reduce]))\n",
    "            #plt.plot(z_s[::reduce], nzs_s[s2][::reduce])\n",
    "            #cl = pyccl.angular_cl(cosmo, tracer1, tracer2, ell)\n",
    "\n",
    "            #np.savetxt('cls/cosmicshear_cl_s%d_s%d.txt'%(s1,s2), np.c_[ell, cl])"
   ]
  },
  {
   "cell_type": "code",
   "execution_count": 40,
   "metadata": {},
   "outputs": [
    {
     "name": "stdout",
     "output_type": "stream",
     "text": [
      "0 0\n",
      "0 1\n",
      "0 2\n",
      "0 3\n",
      "0 4\n",
      "1 0\n",
      "1 1\n",
      "1 2\n",
      "1 3\n",
      "1 4\n",
      "2 0\n",
      "2 1\n",
      "2 2\n",
      "2 3\n",
      "2 4\n",
      "3 0\n",
      "3 1\n",
      "3 2\n",
      "3 3\n",
      "3 4\n",
      "4 0\n",
      "4 1\n",
      "4 2\n",
      "4 3\n",
      "4 4\n"
     ]
    }
   ],
   "source": [
    "# density-shear cls\n",
    "reduce = 1\n",
    "ell = np.arange(0,ell_max)\n",
    "for l in range(len(nzs_l)):\n",
    "    for s in range(len(nzs_s)):\n",
    "        \n",
    "            print(l, s)\n",
    "            if s==4:\n",
    "                reduce = 2 \n",
    "            else:\n",
    "                reduce = 1\n",
    "            shear_tracer = pyccl.WeakLensingTracer(cosmo, dndz=(z_s[::reduce], nzs_s[s][::reduce]))\n",
    "            #plt.plot(z_s[::reduce], nzs_s[s1][::reduce])\n",
    "\n",
    "            density_tracer =  pyccl.NumberCountsTracer(cosmo, has_rsd=False, dndz=(z_l, nzs_l[l]), bias=(z_l, np.ones_like(z_l)))\n",
    "            #plt.plot(z_s[::reduce], nzs_s[s2][::reduce])\n",
    "            cl = pyccl.angular_cl(cosmo, shear_tracer, density_tracer, ell)\n",
    "\n",
    "            np.savetxt('cls/densityshear_cl_l%d_s%d.txt'%(l,s), np.c_[ell, cl])"
   ]
  },
  {
   "cell_type": "code",
   "execution_count": 41,
   "metadata": {},
   "outputs": [
    {
     "name": "stdout",
     "output_type": "stream",
     "text": [
      "0 0\n",
      "0 1\n",
      "0 2\n",
      "0 3\n",
      "0 4\n",
      "1 1\n",
      "1 2\n",
      "1 3\n",
      "1 4\n",
      "2 2\n",
      "2 3\n",
      "2 4\n",
      "3 3\n",
      "3 4\n",
      "4 4\n"
     ]
    }
   ],
   "source": [
    "# density cls\n",
    "reduce = 1\n",
    "ell = np.arange(0,ell_max)\n",
    "for l1 in range(len(nzs_l)):\n",
    "    for l2 in range(len(nzs_l)):\n",
    "        if l2>=l1:\n",
    "            print(l1, l2)\n",
    "            density_tracer1 =  pyccl.NumberCountsTracer(cosmo, has_rsd=False,  dndz=(z_l, nzs_l[l1]), bias=(z_l, np.ones_like(z_l)))\n",
    "            density_tracer2 =  pyccl.NumberCountsTracer(cosmo, has_rsd=False,  dndz=(z_l, nzs_l[l2]), bias=(z_l, np.ones_like(z_l)))\n",
    "\n",
    "            cl = pyccl.angular_cl(cosmo, density_tracer1, density_tracer2, ell)\n",
    "\n",
    "            np.savetxt('cls/density_cl_l%d_l%d.txt'%(l1,l2), np.c_[ell, cl])"
   ]
  },
  {
   "cell_type": "code",
   "execution_count": null,
   "metadata": {},
   "outputs": [],
   "source": []
  }
 ],
 "metadata": {
  "kernelspec": {
   "display_name": "Python 3",
   "language": "python",
   "name": "python3"
  },
  "language_info": {
   "codemirror_mode": {
    "name": "ipython",
    "version": 3
   },
   "file_extension": ".py",
   "mimetype": "text/x-python",
   "name": "python",
   "nbconvert_exporter": "python",
   "pygments_lexer": "ipython3",
   "version": "3.7.4"
  }
 },
 "nbformat": 4,
 "nbformat_minor": 5
}
