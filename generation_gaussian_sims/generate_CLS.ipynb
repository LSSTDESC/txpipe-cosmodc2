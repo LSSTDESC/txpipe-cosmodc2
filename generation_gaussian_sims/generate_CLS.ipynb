{
 "cells": [
  {
   "cell_type": "code",
   "execution_count": null,
   "id": "a6638859-8b7d-4312-9612-35655c3b03a3",
   "metadata": {},
   "outputs": [],
   "source": [
    "import pyccl\n",
    "import numpy as np\n",
    "import matplotlib.pyplot as plt"
   ]
  },
  {
   "cell_type": "code",
   "execution_count": null,
   "id": "27079423-5bd3-4e01-9ba8-e62bfa9e7a59",
   "metadata": {},
   "outputs": [],
   "source": [
    "# taken from cosmology object on TXPipe theory stage\n",
    "cosmo = pyccl.Cosmology(Omega_c=0.2199999, Omega_b=0.0448, h=0.71, n_s=0.963, sigma8=0.8, A_s=None, Omega_k=0.0, Omega_g=None, Neff=3.046, w0=-1.0, wa=0.0, T_CMB=None, bcm_log10Mc=14.07918, bcm_etab=0.5, bcm_ks=55.0, mu_0=0.0, sigma_0=0.0, c1_mg=1.0, c2_mg=1.0, lambda_mg=0.0, m_nu=0.0, m_nu_type=None, z_mg=None, df_mg=None, transfer_function='boltzmann_camb', matter_power_spectrum='halofit', baryons_power_spectrum='nobaryons', mass_function='tinker10', halo_concentration='duffy2008', emulator_neutrinos='strict')"
   ]
  },
  {
   "cell_type": "code",
   "execution_count": null,
   "id": "f18dc19d-7b4b-45c6-a2f5-7aa27658be38",
   "metadata": {},
   "outputs": [],
   "source": [
    "# Load SRD nzs\n",
    "lens = np.loadtxt('srd_nzs/nz_y1_lens_5bins_srd.txt').T\n",
    "source = np.loadtxt('srd_nzs/nz_y1_srcs_5bins_srd.txt').T\n",
    "\n",
    "\n",
    "z_l = lens[0]\n",
    "z_s = source[0]\n",
    "nzs_l = lens[1:]\n",
    "nzs_s = source[1:]\n",
    "ell_max = 50000"
   ]
  },
  {
   "cell_type": "code",
   "execution_count": null,
   "id": "8b8c6e75-bff7-47ac-8424-9a7b1ed06fce",
   "metadata": {},
   "outputs": [],
   "source": [
    "len(nzs_s)"
   ]
  },
  {
   "cell_type": "code",
   "execution_count": 39,
   "id": "237cd630-372b-4afa-86bc-dcbcaa0949d8",
   "metadata": {},
   "outputs": [
    {
     "name": "stdout",
     "output_type": "stream",
     "text": [
      "0 0\n",
      "0 1\n",
      "0 2\n",
      "0 3\n",
      "0 4\n",
      "1 1\n",
      "1 2\n",
      "1 3\n",
      "1 4\n",
      "2 2\n",
      "2 3\n",
      "2 4\n",
      "3 3\n",
      "3 4\n",
      "4 4\n"
     ]
    }
   ],
   "source": [
    "# cosmic shear cls\n",
    "reduce = 1\n",
    "ell = np.arange(0,ell_max)\n",
    "for s1 in range(len(nzs_s)):\n",
    "    for s2 in range(len(nzs_s)):\n",
    "        if s2>=s1:\n",
    "            print(s1, s2)\n",
    "            if s1==4:\n",
    "                reduce = 2 \n",
    "            else:\n",
    "                reduce = 1\n",
    "            tracer1 = pyccl.WeakLensingTracer(cosmo, dndz=(z_s[::reduce], nzs_s[s1][::reduce]))\n",
    "            #plt.plot(z_s[::reduce], nzs_s[s1][::reduce])\n",
    "            if s2==4:\n",
    "                reduce = 2\n",
    "            else:\n",
    "                reduce = 1\n",
    "            tracer2 = pyccl.WeakLensingTracer(cosmo, dndz=(z_s[::reduce], nzs_s[s2][::reduce]))\n",
    "            #plt.plot(z_s[::reduce], nzs_s[s2][::reduce])\n",
    "            cl = pyccl.angular_cl(cosmo, tracer1, tracer2, ell)\n",
    "\n",
    "            np.savetxt('cls/cosmicshear_cl_s%d_s%d.txt'%(s1,s2), np.c_[ell, cl])"
   ]
  },
  {
   "cell_type": "code",
   "execution_count": 40,
   "id": "961f2a1a-13e1-47ca-bfd4-b23d913d67c0",
   "metadata": {},
   "outputs": [
    {
     "name": "stdout",
     "output_type": "stream",
     "text": [
      "0 0\n",
      "0 1\n",
      "0 2\n",
      "0 3\n",
      "0 4\n",
      "1 0\n",
      "1 1\n",
      "1 2\n",
      "1 3\n",
      "1 4\n",
      "2 0\n",
      "2 1\n",
      "2 2\n",
      "2 3\n",
      "2 4\n",
      "3 0\n",
      "3 1\n",
      "3 2\n",
      "3 3\n",
      "3 4\n",
      "4 0\n",
      "4 1\n",
      "4 2\n",
      "4 3\n",
      "4 4\n"
     ]
    }
   ],
   "source": [
    "# density-shear cls\n",
    "reduce = 1\n",
    "ell = np.arange(0,ell_max)\n",
    "for l in range(len(nzs_l)):\n",
    "    for s in range(len(nzs_s)):\n",
    "        \n",
    "            print(l, s)\n",
    "            if s==4:\n",
    "                reduce = 2 \n",
    "            else:\n",
    "                reduce = 1\n",
    "            shear_tracer = pyccl.WeakLensingTracer(cosmo, dndz=(z_s[::reduce], nzs_s[s][::reduce]))\n",
    "            #plt.plot(z_s[::reduce], nzs_s[s1][::reduce])\n",
    "\n",
    "            density_tracer =  pyccl.NumberCountsTracer(cosmo, has_rsd=False, dndz=(z_l, nzs_l[l]), bias=(z_l, np.ones_like(z_l)))\n",
    "            #plt.plot(z_s[::reduce], nzs_s[s2][::reduce])\n",
    "            cl = pyccl.angular_cl(cosmo, shear_tracer, density_tracer, ell)\n",
    "\n",
    "            np.savetxt('cls/densityshear_cl_l%d_s%d.txt'%(l,s), np.c_[ell, cl])"
   ]
  },
  {
   "cell_type": "code",
   "execution_count": 41,
   "id": "e37a736a-56d1-4b99-92cc-dbb4684f271b",
   "metadata": {},
   "outputs": [
    {
     "name": "stdout",
     "output_type": "stream",
     "text": [
      "0 0\n",
      "0 1\n",
      "0 2\n",
      "0 3\n",
      "0 4\n",
      "1 1\n",
      "1 2\n",
      "1 3\n",
      "1 4\n",
      "2 2\n",
      "2 3\n",
      "2 4\n",
      "3 3\n",
      "3 4\n",
      "4 4\n"
     ]
    }
   ],
   "source": [
    "# density cls\n",
    "reduce = 1\n",
    "ell = np.arange(0,ell_max)\n",
    "for l1 in range(len(nzs_l)):\n",
    "    for l2 in range(len(nzs_l)):\n",
    "        if l2>=l1:\n",
    "            print(l1, l2)\n",
    "            density_tracer1 =  pyccl.NumberCountsTracer(cosmo, has_rsd=False,  dndz=(z_l, nzs_l[l1]), bias=(z_l, np.ones_like(z_l)))\n",
    "            density_tracer2 =  pyccl.NumberCountsTracer(cosmo, has_rsd=False,  dndz=(z_l, nzs_l[l2]), bias=(z_l, np.ones_like(z_l)))\n",
    "\n",
    "            cl = pyccl.angular_cl(cosmo, density_tracer1, density_tracer2, ell)\n",
    "\n",
    "            np.savetxt('cls/density_cl_l%d_l%d.txt'%(l1,l2), np.c_[ell, cl])"
   ]
  },
  {
   "cell_type": "code",
   "execution_count": null,
   "id": "bdcec4c7-3b59-401c-8441-b045188cd6d8",
   "metadata": {},
   "outputs": [],
   "source": []
  }
 ],
 "metadata": {
  "kernelspec": {
   "display_name": "desc-stack",
   "language": "python",
   "name": "desc-stack"
  },
  "language_info": {
   "codemirror_mode": {
    "name": "ipython",
    "version": 3
   },
   "file_extension": ".py",
   "mimetype": "text/x-python",
   "name": "python",
   "nbconvert_exporter": "python",
   "pygments_lexer": "ipython3",
   "version": "3.7.2"
  }
 },
 "nbformat": 4,
 "nbformat_minor": 5
}
