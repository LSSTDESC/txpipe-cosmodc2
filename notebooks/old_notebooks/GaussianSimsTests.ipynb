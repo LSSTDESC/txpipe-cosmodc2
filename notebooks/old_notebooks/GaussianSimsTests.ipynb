{
 "cells": [
  {
   "cell_type": "code",
   "execution_count": 1,
   "id": "165e1392-55a9-455e-89d9-7f695111a983",
   "metadata": {},
   "outputs": [],
   "source": [
    "from astropy.io import fits\n",
    "import h5py\n",
    "import numpy as np\n",
    "import matplotlib.pyplot as plt\n",
    "import healpy as hp\n",
    "import treecorr "
   ]
  },
  {
   "cell_type": "markdown",
   "id": "642f1637-ee05-4ce1-8b48-a5964b5fde0e",
   "metadata": {},
   "source": [
    "### Load lens catalogs that are input to the TXPipe run"
   ]
  },
  {
   "cell_type": "code",
   "execution_count": 2,
   "id": "f52ed147-3e0c-40bf-859f-3c016eef3e53",
   "metadata": {},
   "outputs": [],
   "source": [
    "lens_cat_path = '/global/projecta/projectdirs/lsst/groups/WL/users/jprat/gaussian_sims_srdnzs_fullsky/012922/area12300/TXPipe_inputs/lens_catalog.hdf5'\n",
    "lens_tomo_path = '/global/projecta/projectdirs/lsst/groups/WL/users/jprat/gaussian_sims_srdnzs_fullsky/012922/area12300/TXPipe_inputs/lens_tomography_catalog.hdf5'"
   ]
  },
  {
   "cell_type": "code",
   "execution_count": 3,
   "id": "b0347dab-fe41-4bb5-a9ff-7fecede70b2b",
   "metadata": {},
   "outputs": [],
   "source": [
    "lenscat = h5py.File(lens_cat_path, 'r')\n",
    "lenstomo = h5py.File(lens_tomo_path, 'r')"
   ]
  },
  {
   "cell_type": "code",
   "execution_count": 4,
   "id": "fa763879-d71e-4001-9edb-5630a40ffc8e",
   "metadata": {},
   "outputs": [],
   "source": [
    "ra_l = lenscat['lens/ra'][:]\n",
    "dec_l = lenscat['lens/dec'][:]\n",
    "lbin = lenstomo['tomography/lens_bin'][:]"
   ]
  },
  {
   "cell_type": "markdown",
   "id": "9c43ee15-8f88-4253-9b94-22bd5fc58ad0",
   "metadata": {},
   "source": [
    "#### Select one redshfit bin"
   ]
  },
  {
   "cell_type": "code",
   "execution_count": 5,
   "id": "2dfee337-8500-4ba2-b7c9-eed21a21afbe",
   "metadata": {},
   "outputs": [],
   "source": [
    "bin = 3\n",
    "ra_l = ra_l[lbin == bin]\n",
    "dec_l = dec_l[lbin == bin]"
   ]
  },
  {
   "cell_type": "markdown",
   "id": "72e66a33-7ad6-4e6a-8b85-cdfc1515ab5b",
   "metadata": {},
   "source": [
    "### Load random catalog from outputs"
   ]
  },
  {
   "cell_type": "code",
   "execution_count": 6,
   "id": "b1f71f93-8680-498e-ba1c-5214364dcd53",
   "metadata": {},
   "outputs": [],
   "source": [
    "path_outputs =  '/global/cscratch1/sd/jprat/TXPipe/data/gaussian_sims/outputs_gaussian_sims/gaussian_sims_srdnzs_fullsky/012922/area12300/without_shape_noise/2022/Feb4/'"
   ]
  },
  {
   "cell_type": "code",
   "execution_count": 7,
   "id": "6b9791f9-7bfe-47a5-b5fd-ce25676bb5bc",
   "metadata": {},
   "outputs": [],
   "source": [
    "rancat = h5py.File(path_outputs + 'binned_random_catalog.hdf5', 'r')\n",
    "ra_r = rancat['randoms/bin_%d/ra'%bin][:]\n",
    "dec_r = rancat['randoms/bin_%d/dec'%bin][:]"
   ]
  },
  {
   "cell_type": "markdown",
   "id": "7cd4dfd1-a719-4793-af72-d86c4a22c912",
   "metadata": {},
   "source": [
    "### Reduce catalog to run faster and compute wtheta"
   ]
  },
  {
   "cell_type": "code",
   "execution_count": 8,
   "id": "8729907d-702c-499d-b58d-5fda7302d1b9",
   "metadata": {},
   "outputs": [],
   "source": [
    "mask_l = ra_l<10\n",
    "mask_r = ra_r<10"
   ]
  },
  {
   "cell_type": "code",
   "execution_count": 9,
   "id": "2cac6ade-995a-4427-af10-40c815c2f369",
   "metadata": {},
   "outputs": [
    {
     "data": {
      "text/plain": [
       "(48093522, 560074802, 11.645535172075773)"
      ]
     },
     "execution_count": 9,
     "metadata": {},
     "output_type": "execute_result"
    }
   ],
   "source": [
    "len(ra_l[mask_l]), len(ra_r[mask_r]), len(ra_r[mask_r])/len(ra_l[mask_l])"
   ]
  },
  {
   "cell_type": "code",
   "execution_count": 10,
   "id": "9ca89c46-d369-4504-aa02-1052a333b4e2",
   "metadata": {},
   "outputs": [],
   "source": [
    "cat_l = treecorr.Catalog(ra=ra_l[mask_l], dec=dec_l[mask_l],  ra_units='degrees', dec_units='degrees')\n",
    "cat_r = treecorr.Catalog(ra=ra_r[mask_r], dec=dec_r[mask_r],  ra_units='degrees', dec_units='degrees')"
   ]
  },
  {
   "cell_type": "code",
   "execution_count": 11,
   "id": "2d7a039d-bb8f-4cda-9986-93107eabe21b",
   "metadata": {},
   "outputs": [],
   "source": [
    "nn = treecorr.NNCorrelation(nbins=15, min_sep=2.5, max_sep = 100, bin_slop=0.1, sep_units='arcmin')\n",
    "nn.process(cat_l)\n",
    "rr = treecorr.NNCorrelation(nbins=15, min_sep=2.5, max_sep = 100, bin_slop=0.1, sep_units='arcmin')\n",
    "rr.process(cat_r)\n",
    "dr = treecorr.NNCorrelation(nbins=15, min_sep=2.5, max_sep = 100, bin_slop=0.1, sep_units='arcmin')\n",
    "dr.process(cat_l, cat_r)\n",
    "xi,varxi = nn.calculateXi(rr=rr,dr=dr)"
   ]
  },
  {
   "cell_type": "code",
   "execution_count": 14,
   "id": "6997d35e-0211-4f81-8a9b-886518f5248d",
   "metadata": {},
   "outputs": [
    {
     "data": {
      "image/png": "[encoded data removed]",
      "text/plain": [
       "<Figure size 432x288 with 1 Axes>"
      ]
     },
     "metadata": {
      "needs_background": "light"
     },
     "output_type": "display_data"
    }
   ],
   "source": [
    "th = np.exp(nn.logr)\n",
    "plt.errorbar(th, xi*10, yerr=np.sqrt(varxi)*10)\n",
    "plt.xscale('log')\n",
    "#plt.yscale('log')"
   ]
  },
  {
   "cell_type": "code",
   "execution_count": 13,
   "id": "bffff696-ee58-40ff-b1d0-9bb749fb019e",
   "metadata": {},
   "outputs": [
    {
     "data": {
      "text/plain": [
       "(array([ 7.30729480e-02, -1.11673202e-03,  1.18659801e-02, -5.96710417e-03,\n",
       "        -1.15520570e-02,  9.99300209e-03,  3.18681825e-05,  6.98562305e-04,\n",
       "         1.06685506e-03,  4.43818968e-04,  2.25875396e-04,  3.31180776e-04,\n",
       "         3.56999222e-04, -1.04647665e-04,  1.21003035e-04]),\n",
       " array([3.57934961e-05, 2.79933833e-05, 2.18939211e-05, 1.71246683e-05,\n",
       "        1.33948505e-05, 1.04785776e-05, 8.19770317e-06, 6.41479065e-06,\n",
       "        5.02007814e-06, 3.92943101e-06, 3.07702502e-06, 2.41016985e-06,\n",
       "        1.88858642e-06, 1.48113418e-06, 1.16226325e-06]))"
      ]
     },
     "execution_count": 13,
     "metadata": {},
     "output_type": "execute_result"
    }
   ],
   "source": [
    "xi, np.sqrt(varxi)"
   ]
  },
  {
   "cell_type": "code",
   "execution_count": 15,
   "id": "60b52190-fc38-4841-9f1c-9f4554a0c2e0",
   "metadata": {},
   "outputs": [
    {
     "data": {
      "text/plain": [
       "array([ 7.30729480e-02, -1.11673202e-03,  1.18659801e-02, -5.96710417e-03,\n",
       "       -1.15520570e-02,  9.99300209e-03,  3.18681825e-05,  6.98562305e-04,\n",
       "        1.06685506e-03,  4.43818968e-04,  2.25875396e-04,  3.31180776e-04,\n",
       "        3.56999222e-04, -1.04647665e-04,  1.21003035e-04])"
      ]
     },
     "execution_count": 15,
     "metadata": {},
     "output_type": "execute_result"
    }
   ],
   "source": [
    "xi"
   ]
  },
  {
   "cell_type": "code",
   "execution_count": 16,
   "id": "6a79851d-980b-4a0d-bd19-53fc8931a9ec",
   "metadata": {},
   "outputs": [],
   "source": [
    "before = [ 7.30227538e-02, -1.13834416e-03,  1.19377491e-02, -5.97169781e-03,\n",
    "        -1.15263086e-02,  9.97721454e-03,  1.27211733e-04,  6.24344068e-04,\n",
    "         1.12617808e-03,  5.44818333e-04,  1.25212865e-04,  4.79166989e-04,\n",
    "         2.13504450e-04, -8.52527261e-05,  3.39478356e-04]"
   ]
  },
  {
   "cell_type": "code",
   "execution_count": 17,
   "id": "f8df5016-9943-49f8-9f53-820fe265c39d",
   "metadata": {},
   "outputs": [
    {
     "data": {
      "text/plain": [
       "array([0.99931309, 1.01935302, 1.0060483 , 1.00076983, 0.9977711 ,\n",
       "       0.99842014, 3.9918101 , 0.89375574, 1.05560551, 1.22756883,\n",
       "       0.55434486, 1.44684421, 0.59805298, 0.81466439, 2.80553589])"
      ]
     },
     "execution_count": 17,
     "metadata": {},
     "output_type": "execute_result"
    }
   ],
   "source": [
    "before/xi"
   ]
  },
  {
   "cell_type": "code",
   "execution_count": null,
   "id": "6d5a7a6b-6bd5-4ab3-8c39-ced552ea213f",
   "metadata": {},
   "outputs": [],
   "source": []
  }
 ],
 "metadata": {
  "kernelspec": {
   "display_name": "desc-stack",
   "language": "python",
   "name": "desc-stack"
  },
  "language_info": {
   "codemirror_mode": {
    "name": "ipython",
    "version": 3
   },
   "file_extension": ".py",
   "mimetype": "text/x-python",
   "name": "python",
   "nbconvert_exporter": "python",
   "pygments_lexer": "ipython3",
   "version": "3.7.2"
  }
 },
 "nbformat": 4,
 "nbformat_minor": 5
}
