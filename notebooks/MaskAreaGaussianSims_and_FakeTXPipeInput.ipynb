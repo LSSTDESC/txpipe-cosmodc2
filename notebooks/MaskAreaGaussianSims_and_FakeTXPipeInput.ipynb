{
 "cells": [
  {
   "cell_type": "code",
   "execution_count": 1,
   "id": "5819a554-885b-488c-a612-86312766d249",
   "metadata": {},
   "outputs": [],
   "source": [
    "from astropy.io import fits\n",
    "import h5py\n",
    "import numpy as np"
   ]
  },
  {
   "cell_type": "code",
   "execution_count": 2,
   "id": "c5cb8e1f-e4f9-481d-81a9-439a35222679",
   "metadata": {},
   "outputs": [],
   "source": [
    "folder = '/global/projecta/projectdirs/lsst/groups/WL/users/jprat/gaussian_sims_srdnzs_fullsky/111221/'"
   ]
  },
  {
   "cell_type": "markdown",
   "id": "cf31b85e-097a-4373-94dc-29300c4430a6",
   "metadata": {},
   "source": [
    "## Compute what declination cut we need to mimic LSST Y1 area"
   ]
  },
  {
   "cell_type": "code",
   "execution_count": null,
   "id": "2cac4a87-c3d4-462e-8f77-b445a11a2db3",
   "metadata": {},
   "outputs": [],
   "source": [
    "def deg2_to_rad2(deg2):\n",
    "    return deg2*(np.pi/180)**2\n",
    "\n",
    "def h_func(A, r):\n",
    "    return (2*np.pi*r**2-A)/(2*np.pi*r) # area of a slice is A= 2*pi*r(r-h)\n",
    "\n",
    "def dec_lim_func(h, r):\n",
    "    return np.arccos((r-h)/r)\n",
    "\n",
    "# We want to get an area of 12,300 deg^2 (LSST Y1)\n",
    "A = deg2_to_rad2(12300)\n",
    "h = h_func(A, r=1)\n",
    "dec_lim = -dec_lim_func(h, r=1)*180/np.pi # negative because lsst is in the south\n",
    "print(h)\n",
    "print(dec_lim)"
   ]
  },
  {
   "cell_type": "markdown",
   "id": "320c18d9-90de-4c49-8841-da4294f8eb22",
   "metadata": {},
   "source": [
    "## Now mask the source catalogs"
   ]
  },
  {
   "cell_type": "code",
   "execution_count": null,
   "id": "7714112b-d85e-4e9f-b1e8-e1c3d9856af8",
   "metadata": {},
   "outputs": [],
   "source": [
    "for zbin in range(1,6):\n",
    "    filename = 'shearcat_shearalm_zbin%d_ra_dec_g1_g2_withshapenoise'%zbin\n",
    "    cat = np.load(folder + filename + '.npy')\n",
    "    ra, dec, g1, g2 = cat.T\n",
    "    mask = (dec>dec_lim)&(dec<0)\n",
    "    print(len(ra))\n",
    "    ra_cut, dec_cut, g1_cut, g2_cut = ra[mask], dec[mask], g1[mask], g2[mask]\n",
    "    print(len(ra_cut))\n",
    "    np.save(folder + '/area12300/' + filename + '_areacut', (ra_cut,dec_cut,g1_cut,g2_cut))"
   ]
  },
  {
   "cell_type": "code",
   "execution_count": null,
   "id": "edea0028-8e04-471d-98d4-3514387eadb0",
   "metadata": {},
   "outputs": [],
   "source": [
    "\n",
    "for zbin in range(1,6):\n",
    "    filename = 'shearcat_shearalm_zbin%d_ra_dec_g1_g2'%zbin\n",
    "    cat = np.load(folder + filename + '.npy')\n",
    "    ra, dec, g1, g2 = cat.T\n",
    "    mask = (dec>dec_lim)&(dec<0)\n",
    "    print(len(ra))\n",
    "    ra_cut, dec_cut, g1_cut, g2_cut = ra[mask], dec[mask], g1[mask], g2[mask]\n",
    "    print(len(ra_cut))\n",
    "    np.save(folder + '/area12300/' + filename + '_areacut', (ra_cut,dec_cut,g1_cut,g2_cut))"
   ]
  },
  {
   "cell_type": "code",
   "execution_count": null,
   "id": "e9a8e39b-b2cb-4df4-9408-a64c6c668a15",
   "metadata": {},
   "outputs": [],
   "source": [
    "filename = 'galcat_%d.npy'%zbin\n",
    "lenscat = np.load(folder + 'galcat_2.npy')"
   ]
  },
  {
   "cell_type": "markdown",
   "id": "ae38a939-0a92-46d6-8dad-a5ed3a93f959",
   "metadata": {},
   "source": [
    "## Now cut the lens galaxy catalog"
   ]
  },
  {
   "cell_type": "code",
   "execution_count": null,
   "id": "87524aae-724c-4fd4-81d7-e2e8719d7bf4",
   "metadata": {},
   "outputs": [],
   "source": [
    "for zbin in range(1,6):\n",
    "    filename = 'galcat_%d'%zbin\n",
    "    lenscat = np.load(folder + filename + '.npy')\n",
    "    ra, dec = lenscat.T\n",
    "    mask = (dec>dec_lim)&(dec<0)\n",
    "    print(len(ra))\n",
    "    ra_cut, dec_cut = ra[mask], dec[mask]\n",
    "    print(len(ra_cut))\n",
    "    np.save(folder + '/area12300/' + filename + '_areacut', (ra_cut,dec_cut))"
   ]
  },
  {
   "cell_type": "markdown",
   "id": "7c55eb69-27bc-4449-bd63-8707d8d12aa9",
   "metadata": {},
   "source": [
    "# Now joint source files into a single one, to inject to TXPipe, adding columns it needs"
   ]
  },
  {
   "cell_type": "code",
   "execution_count": 3,
   "id": "d0c987f8-4107-4d31-96c2-f93cf155c21d",
   "metadata": {},
   "outputs": [],
   "source": [
    "# Columns TXPipe needs from the cosmo simulation\n",
    "cols = ['mag_true_u_lsst', 'mag_true_g_lsst', \n",
    "                'mag_true_r_lsst', 'mag_true_i_lsst', \n",
    "                'mag_true_z_lsst', 'mag_true_y_lsst',\n",
    "                'ra', 'dec',\n",
    "                'ellipticity_1_true', 'ellipticity_2_true',\n",
    "                'shear_1', 'shear_2',\n",
    "                'size_true',\n",
    "                'galaxy_id',\n",
    "                'redshift_true',\n",
    "                ]\n"
   ]
  },
  {
   "cell_type": "code",
   "execution_count": 17,
   "id": "00bb5870-047b-46f4-a74c-1aab8acc79e6",
   "metadata": {},
   "outputs": [],
   "source": [
    "filepath_save = folder + '/area12300/' + 'shearcat_shearalm_allbins_ra_dec_g1_g2_z_withshapenoise' + '_areacut'\n",
    "filepath_save_fake = folder + '/area12300/' + 'shearcat_shearalm_allbins_fake_input' + '_areacut'"
   ]
  },
  {
   "cell_type": "code",
   "execution_count": 5,
   "id": "619442ca-de85-4b38-9669-5c91357a2a22",
   "metadata": {},
   "outputs": [
    {
     "name": "stdout",
     "output_type": "stream",
     "text": [
      "[0.3, 0.5, 0.8, 1.0, 1.4, 1.9, 2.5]\n"
     ]
    }
   ],
   "source": [
    "#assign a fake redshift within z lims so that TXPipe assigns it properly when source selector splits in bins\n",
    "source_zbin_edges = np.array([0.19285902, 0.40831394, 0.65503818, 0.94499109, 1.2947086, 1.72779632, 2.27855242, 3. ]) # 7 bins\n",
    "z_fake =[0.3, 0.5, 0.8, 1., 1.4, 1.9, 2.5]\n",
    "print(z_fake)"
   ]
  },
  {
   "cell_type": "code",
   "execution_count": 10,
   "id": "d72fb06a-9da0-4272-9eb2-bc3c631aded2",
   "metadata": {},
   "outputs": [],
   "source": [
    "ras, decs, g1s, g2s, zs = [], [], [], [], []\n",
    "\n",
    "for zbin in range(1,6):\n",
    "    filename = 'shearcat_shearalm_zbin%d_ra_dec_g1_g2_withshapenoise'%zbin\n",
    "    cat = np.load(folder + '/area12300/' + filename + '_areacut'+'.npy')\n",
    "    ra, dec, g1, g2 = cat\n",
    "    ras.extend(ra)\n",
    "    decs.extend(dec)\n",
    "    g1s.extend(g1)   \n",
    "    g2s.extend(g2)\n",
    "    zs.extend([z_fake[zbin-1]]*len(ra))\n",
    "    \n",
    "ras, decs, g1s, g2s, zs = np.array(ras), np.array(decs), np.array(g1s), np.array(g2s), np.array(zs)   \n",
    "np.save(filepath_save, (ras,decs,g1s,g2s,zs))"
   ]
  },
  {
   "cell_type": "code",
   "execution_count": 13,
   "id": "c71e6b04-1911-4553-b860-8234b5cf92aa",
   "metadata": {},
   "outputs": [],
   "source": [
    "cat_all = np.load(filepath_save + '.npy')\n",
    "nobj = len(cat_all[0])"
   ]
  },
  {
   "cell_type": "code",
   "execution_count": 14,
   "id": "027b9f18-7240-4531-9474-eaee07ddb0c6",
   "metadata": {},
   "outputs": [],
   "source": [
    "# Now fake the rest of the columns we need matching the lenth"
   ]
  },
  {
   "cell_type": "code",
   "execution_count": 15,
   "id": "c64cfee8-a167-43ad-81b4-e50cf6248461",
   "metadata": {},
   "outputs": [
    {
     "data": {
      "text/plain": [
       "(530494785, 530494785, 530494785, 530494785, 530494785)"
      ]
     },
     "execution_count": 15,
     "metadata": {},
     "output_type": "execute_result"
    }
   ],
   "source": [
    "len(ras), len(decs), len(g1s), len(g2s), len(zs)"
   ]
  },
  {
   "cell_type": "code",
   "execution_count": 11,
   "id": "b8ada7c7-74eb-49b8-a182-b618525dca3d",
   "metadata": {},
   "outputs": [],
   "source": [
    "# remaining columns to save:\n",
    "cols = ['mag_true_u_lsst', 'mag_true_g_lsst', \n",
    " 'mag_true_r_lsst', 'mag_true_i_lsst', \n",
    "'mag_true_z_lsst', 'mag_true_y_lsst',\n",
    "'ellipticity_1_true', 'ellipticity_2_true',\n",
    "'size_true','galaxy_id']\n"
   ]
  },
  {
   "cell_type": "code",
   "execution_count": 16,
   "id": "76e12a00-49c3-49ef-8067-a026f832506d",
   "metadata": {},
   "outputs": [],
   "source": [
    "m_u = np.random.uniform(low=20, high=30, size=(nobj,))\n",
    "m_g = np.random.uniform(low=20, high=30, size=(nobj,))\n",
    "m_r = np.random.uniform(low=20, high=30, size=(nobj,))\n",
    "m_i = np.random.uniform(low=20, high=30, size=(nobj,))\n",
    "m_z = np.random.uniform(low=20, high=30, size=(nobj,))\n",
    "m_y = np.random.uniform(low=20, high=30, size=(nobj,))\n",
    "etrue1 = np.random.uniform(low=0, high=0.5, size=(nobj,))\n",
    "etrue2 = np.random.uniform(low=0, high=0.5, size=(nobj,))\n",
    "size = np.random.uniform(low=2., high=10., size=(nobj,))\n",
    "galaxy_id = np.arange(0,nobj, 1, dtype=int)"
   ]
  },
  {
   "cell_type": "code",
   "execution_count": 18,
   "id": "3028404c-e601-4ace-9378-ec3e8a3d4cf3",
   "metadata": {},
   "outputs": [],
   "source": [
    "np.save(filepath_save_fake, (m_u,m_g, m_r, m_i, m_z, m_y, etrue1, etrue2, size, galaxy_id))"
   ]
  },
  {
   "cell_type": "code",
   "execution_count": null,
   "id": "5da02682-b8aa-4531-b435-7ce6fd308741",
   "metadata": {},
   "outputs": [],
   "source": []
  }
 ],
 "metadata": {
  "kernelspec": {
   "display_name": "Python 3",
   "language": "python",
   "name": "python3"
  },
  "language_info": {
   "codemirror_mode": {
    "name": "ipython",
    "version": 3
   },
   "file_extension": ".py",
   "mimetype": "text/x-python",
   "name": "python",
   "nbconvert_exporter": "python",
   "pygments_lexer": "ipython3",
   "version": "3.8.8"
  }
 },
 "nbformat": 4,
 "nbformat_minor": 5
}
