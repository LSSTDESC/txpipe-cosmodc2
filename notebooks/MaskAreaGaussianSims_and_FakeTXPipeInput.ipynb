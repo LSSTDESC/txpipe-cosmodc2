{
 "cells": [
  {
   "cell_type": "code",
   "execution_count": 1,
   "id": "5819a554-885b-488c-a612-86312766d249",
   "metadata": {},
   "outputs": [],
   "source": [
    "from astropy.io import fits\n",
    "import h5py\n",
    "import numpy as np\n",
    "import matplotlib.pyplot as plt\n",
    "import healpy as hp\n",
    "import treecorr "
   ]
  },
  {
   "cell_type": "code",
   "execution_count": 2,
   "id": "c5cb8e1f-e4f9-481d-81a9-439a35222679",
   "metadata": {},
   "outputs": [],
   "source": [
    "folder = '/global/projecta/projectdirs/lsst/groups/WL/users/jprat/gaussian_sims_srdnzs_fullsky/012922/'\n",
    "filepath_txpipe_inputs = '/global/projecta/projectdirs/lsst/groups/WL/users/jprat/gaussian_sims_srdnzs_fullsky/012922/area12300/TXPipe_inputs/'"
   ]
  },
  {
   "cell_type": "markdown",
   "id": "cf31b85e-097a-4373-94dc-29300c4430a6",
   "metadata": {},
   "source": [
    "## Compute what declination cut we need to mimic LSST Y1 area"
   ]
  },
  {
   "cell_type": "code",
   "execution_count": 3,
   "id": "2cac4a87-c3d4-462e-8f77-b445a11a2db3",
   "metadata": {},
   "outputs": [
    {
     "name": "stdout",
     "output_type": "stream",
     "text": [
      "0.5963208277647292\n",
      "-36.606848299424534\n"
     ]
    }
   ],
   "source": [
    "def deg2_to_rad2(deg2):\n",
    "    return deg2*(np.pi/180)**2\n",
    "\n",
    "def h_func(A, r):\n",
    "    return A/(2*np.pi) # A = 2*pi*h\n",
    "\n",
    "def dec_lim_func(h, r):\n",
    "    return np.pi/2-np.arccos(h/r)\n",
    "\n",
    "# We want to get an area of 12,300 deg^2 (LSST Y1)\n",
    "\n",
    "A = deg2_to_rad2(12300)\n",
    "h = h_func(A, r=1)\n",
    "dec_lim = -dec_lim_func(h, r=1)*180/np.pi # negative because lsst is in the south\n",
    "print(h)\n",
    "print(dec_lim)"
   ]
  },
  {
   "cell_type": "markdown",
   "id": "320c18d9-90de-4c49-8841-da4294f8eb22",
   "metadata": {},
   "source": [
    "## Now mask the source catalogs"
   ]
  },
  {
   "cell_type": "code",
   "execution_count": 5,
   "id": "7714112b-d85e-4e9f-b1e8-e1c3d9856af8",
   "metadata": {},
   "outputs": [
    {
     "name": "stdout",
     "output_type": "stream",
     "text": [
      "264347918\n",
      "78809359\n",
      "0.3705111106525768\n",
      "264347918\n",
      "78809359\n",
      "0.37054935986402265\n",
      "264347918\n",
      "78809359\n",
      "0.3706879719176018\n",
      "264347918\n",
      "78809359\n",
      "0.3707776276597527\n",
      "264347918\n",
      "78809359\n",
      "0.3708535482189473\n"
     ]
    }
   ],
   "source": [
    "for zbin in range(1,6):\n",
    "    filename = 'shearcat_shearalm_zbin%d_ra_dec_g1_g2_withshapenoise_v012922'%zbin\n",
    "    cat = np.load(folder + filename + '.npy')\n",
    "    ra, dec, g1, g2 = cat.T\n",
    "    mask = (dec>dec_lim)&(dec<0)\n",
    "    print(len(ra))\n",
    "    ra_cut, dec_cut, g1_cut, g2_cut = ra[mask], dec[mask], g1[mask], g2[mask]\n",
    "    print(len(ra_cut))\n",
    "    print(np.std(g1_cut))\n",
    "    #np.save(folder + '/area12300/' + filename + '_areacut', (ra_cut,dec_cut,g1_cut,g2_cut))"
   ]
  },
  {
   "cell_type": "code",
   "execution_count": 6,
   "id": "edea0028-8e04-471d-98d4-3514387eadb0",
   "metadata": {},
   "outputs": [
    {
     "name": "stdout",
     "output_type": "stream",
     "text": [
      "264347918\n",
      "78818335\n",
      "0.003482623686757737\n",
      "264347918\n",
      "78805305\n",
      "0.0064893328935679406\n",
      "264347918\n",
      "78813519\n",
      "0.009764555290384011\n",
      "264347918\n",
      "78810204\n",
      "0.013987489219832934\n",
      "264347918\n",
      "78809359\n",
      "0.016379693562984212\n"
     ]
    }
   ],
   "source": [
    "\n",
    "for zbin in range(1,6):\n",
    "    filename = 'shearcat_shearalm_zbin%d_ra_dec_g1_g2_v012922'%zbin\n",
    "    cat = np.load(folder + filename + '.npy')\n",
    "    ra, dec, g1, g2 = cat.T\n",
    "    mask = (dec>dec_lim)&(dec<0)\n",
    "    print(len(ra))\n",
    "    ra_cut, dec_cut, g1_cut, g2_cut = ra[mask], dec[mask], g1[mask], g2[mask]\n",
    "    print(len(ra_cut))\n",
    "    print(np.std(g1_cut))\n",
    "    #np.save(folder + '/area12300/' + filename + '_areacut', (ra_cut,dec_cut,g1_cut,g2_cut))"
   ]
  },
  {
   "cell_type": "markdown",
   "id": "e01b415f-a15f-4e8e-9269-154896690b21",
   "metadata": {},
   "source": [
    "## Compute twopoint functions"
   ]
  },
  {
   "cell_type": "markdown",
   "id": "37874e17-fcac-4c66-9e93-945d8cd9db80",
   "metadata": {},
   "source": [
    "#### Compute cosmic shear for this catalog"
   ]
  },
  {
   "cell_type": "code",
   "execution_count": 7,
   "id": "6a0bc700-2e24-4ca8-a3be-56e51546e978",
   "metadata": {},
   "outputs": [
    {
     "name": "stdout",
     "output_type": "stream",
     "text": [
      "264347918\n",
      "78813519\n"
     ]
    }
   ],
   "source": [
    "zbin = 5\n",
    "filename = 'shearcat_shearalm_zbin%d_ra_dec_g1_g2_v012922'%zbin\n",
    "cat = np.load(folder + filename + '.npy')\n",
    "ra, dec, g1, g2 = cat.T\n",
    "mask = (dec>dec_lim)&(dec<0)\n",
    "print(len(ra))\n",
    "ra_cut, dec_cut, g1_cut, g2_cut = ra[mask], dec[mask], g1[mask], g2[mask]\n",
    "print(len(ra_cut))"
   ]
  },
  {
   "cell_type": "code",
   "execution_count": 14,
   "id": "ceb4fb67-c1a8-41b8-86d9-e0b88a6dcbac",
   "metadata": {},
   "outputs": [],
   "source": [
    "#r = np.random.uniform(low=0.0, high=1.0, size=len(ra_cut))\n",
    "mask = ra_cut<80\n",
    "cat_s = treecorr.Catalog(ra=ra_cut[mask], dec=dec_cut[mask], g1=g1_cut[mask], g2=-g2_cut[mask], ra_units='deg', dec_units='deg')"
   ]
  },
  {
   "cell_type": "code",
   "execution_count": 29,
   "id": "1102d0df-5e5d-4976-9f7d-49d17a4137e3",
   "metadata": {},
   "outputs": [],
   "source": [
    "gg = treecorr.GGCorrelation(nbins=15, min_sep=2.5, max_sep = 100, bin_slop=0.1, sep_units='arcmin')\n",
    "gg.process(cat_s)\n",
    "th = gg.meanlogr\n",
    "xip = gg.xip"
   ]
  },
  {
   "cell_type": "code",
   "execution_count": null,
   "id": "75ef4993-7d22-4a63-907b-42d4240aac56",
   "metadata": {},
   "outputs": [],
   "source": [
    "gg.npairs"
   ]
  },
  {
   "cell_type": "code",
   "execution_count": 30,
   "id": "f62d8ea6-d3b4-4f72-bdc1-1c3c6d357a21",
   "metadata": {},
   "outputs": [
    {
     "name": "stdout",
     "output_type": "stream",
     "text": [
      "for g1, g2\n"
     ]
    },
    {
     "data": {
      "image/png": "[encoded data removed]",
      "text/plain": [
       "<Figure size 432x288 with 1 Axes>"
      ]
     },
     "metadata": {
      "needs_background": "light"
     },
     "output_type": "display_data"
    }
   ],
   "source": [
    "plt.plot(th, xip)\n",
    "plt.xscale('log')\n",
    "#plt.yscale('log')\n",
    "print('for g1, g2')"
   ]
  },
  {
   "cell_type": "markdown",
   "id": "94a3c7c1-3b32-4178-bc82-b985d30427e7",
   "metadata": {},
   "source": [
    "#### Compute gglensing"
   ]
  },
  {
   "cell_type": "code",
   "execution_count": 4,
   "id": "ee573fff-7c2c-42a0-8829-0a73e2268a88",
   "metadata": {},
   "outputs": [],
   "source": [
    "zbin = 4\n",
    "cat = np.load(folder + '/area12300/' + 'galcat_%d'%zbin + '_areacut.npy')\n",
    "ra_l, dec_l = cat\n",
    "mask_l = ra_l<150\n",
    "cat_l = treecorr.Catalog(ra=ra_l[mask_l], dec=dec_l[mask_l],  ra_units='deg', dec_units='deg')\n",
    "ng = treecorr.NGCorrelation(nbins=15, min_sep=2.5, max_sep = 100, bin_slop=0.1, sep_units='arcmin')"
   ]
  },
  {
   "cell_type": "code",
   "execution_count": 5,
   "id": "f2c9a6f4-3643-46e4-9eb8-a4ba3790e745",
   "metadata": {},
   "outputs": [
    {
     "data": {
      "text/plain": [
       "'/global/projecta/projectdirs/lsst/groups/WL/users/jprat/gaussian_sims_srdnzs_fullsky/012922//area12300/galcat_4_areacut.npy'"
      ]
     },
     "execution_count": 5,
     "metadata": {},
     "output_type": "execute_result"
    }
   ],
   "source": [
    "folder + '/area12300/' + 'galcat_%d'%zbin + '_areacut.npy'"
   ]
  },
  {
   "cell_type": "code",
   "execution_count": 16,
   "id": "31ca4104-3870-4b27-984f-a0a933303990",
   "metadata": {},
   "outputs": [],
   "source": [
    "ng.process(cat_l, cat_s)\n",
    "th = np.exp(ng.logr)\n",
    "gt = ng.xi"
   ]
  },
  {
   "cell_type": "code",
   "execution_count": 17,
   "id": "65a48f42-9392-43f3-8e1a-4e5fde4d68fe",
   "metadata": {},
   "outputs": [
    {
     "data": {
      "image/png": "[encoded data removed]",
      "text/plain": [
       "<Figure size 432x288 with 1 Axes>"
      ]
     },
     "metadata": {
      "needs_background": "light"
     },
     "output_type": "display_data"
    }
   ],
   "source": [
    "plt.plot(th, gt)\n",
    "plt.xscale('log')\n",
    "#plt.yscale('log')"
   ]
  },
  {
   "cell_type": "markdown",
   "id": "035cdf49-7b20-40d0-afcb-a85b967f217e",
   "metadata": {},
   "source": [
    "#### Compute wtheta"
   ]
  },
  {
   "cell_type": "code",
   "execution_count": 6,
   "id": "8d756314-80af-4678-a706-466ab25064e4",
   "metadata": {},
   "outputs": [],
   "source": [
    "path_outputs =  '/global/cscratch1/sd/jprat/TXPipe/data/gaussian_sims/outputs_gaussian_sims/gaussian_sims_srdnzs_fullsky/012922/area12300/without_shape_noise/2022/Feb4/'\n",
    "rancat = h5py.File(path_outputs + 'binned_random_catalog.hdf5', 'r')\n",
    "ra_r = rancat['randoms/bin_3/ra'][:]\n",
    "dec_r = rancat['randoms/bin_3/dec'][:]\n",
    "mask_r = ra_r<80\n",
    "cat_r = treecorr.Catalog(ra=ra_r[mask_r], dec=dec_r[mask_r],  ra_units='deg', dec_units='deg')"
   ]
  },
  {
   "cell_type": "code",
   "execution_count": 7,
   "id": "d9618d6f-57f7-456f-acb9-b86ccf70082d",
   "metadata": {},
   "outputs": [
    {
     "data": {
      "text/plain": [
       "298696346"
      ]
     },
     "execution_count": 7,
     "metadata": {},
     "output_type": "execute_result"
    }
   ],
   "source": [
    "len(ra_l[mask_l]), len(ra_r[mask_r])"
   ]
  },
  {
   "cell_type": "code",
   "execution_count": 8,
   "id": "3f20f41b-b31c-46da-b024-72a88c2e86df",
   "metadata": {},
   "outputs": [
    {
     "data": {
      "text/plain": [
       "11.646721437767075"
      ]
     },
     "execution_count": 8,
     "metadata": {},
     "output_type": "execute_result"
    }
   ],
   "source": [
    "len(ra_r)/len(ra_l)"
   ]
  },
  {
   "cell_type": "code",
   "execution_count": 9,
   "id": "f1f8b8b1-d1bb-40c4-b718-22a5412b9275",
   "metadata": {},
   "outputs": [],
   "source": [
    "nn = treecorr.NNCorrelation(nbins=15, min_sep=2.5, max_sep = 100, bin_slop=0.1, sep_units='arcmin')\n",
    "nn.process(cat_l)\n",
    "rr = treecorr.NNCorrelation(nbins=15, min_sep=2.5, max_sep = 100, bin_slop=0.1, sep_units='arcmin')\n",
    "rr.process(cat_r)\n",
    "dr = treecorr.NNCorrelation(nbins=15, min_sep=2.5, max_sep = 100, bin_slop=0.1, sep_units='arcmin')\n",
    "dr.process(cat_l, cat_r)\n",
    "xi,varxi = nn.calculateXi(rr=rr,dr=dr)"
   ]
  },
  {
   "cell_type": "code",
   "execution_count": 15,
   "id": "8febf422-9859-4658-a93b-54f64e852555",
   "metadata": {},
   "outputs": [],
   "source": [
    "th = np.geomspace(2.5, 100,15)"
   ]
  },
  {
   "cell_type": "code",
   "execution_count": 19,
   "id": "71d333ef-f162-49b9-aca5-08756b1b005d",
   "metadata": {},
   "outputs": [
    {
     "data": {
      "image/png": "[encoded data removed]",
      "text/plain": [
       "<Figure size 432x288 with 1 Axes>"
      ]
     },
     "metadata": {
      "needs_background": "light"
     },
     "output_type": "display_data"
    }
   ],
   "source": [
    "plt.errorbar(th, xi*10, yerr=np.sqrt(varxi))\n",
    "plt.xscale('log')\n",
    "#plt.yscale('log')"
   ]
  },
  {
   "cell_type": "code",
   "execution_count": 11,
   "id": "df036c53-b387-49ff-9ef9-6d06ea5cf5f0",
   "metadata": {},
   "outputs": [
    {
     "ename": "NameError",
     "evalue": "name 'th' is not defined",
     "output_type": "error",
     "traceback": [
      "\u001b[0;31m---------------------------------------------------------------------------\u001b[0m",
      "\u001b[0;31mNameError\u001b[0m                                 Traceback (most recent call last)",
      "\u001b[0;32m<ipython-input-11-175f2f83c3ce>\u001b[0m in \u001b[0;36m<module>\u001b[0;34m\u001b[0m\n\u001b[0;32m----> 1\u001b[0;31m \u001b[0mplt\u001b[0m\u001b[0;34m.\u001b[0m\u001b[0mplot\u001b[0m\u001b[0;34m(\u001b[0m\u001b[0mth\u001b[0m\u001b[0;34m,\u001b[0m \u001b[0mnn\u001b[0m\u001b[0;34m.\u001b[0m\u001b[0mnpairs\u001b[0m\u001b[0;34m)\u001b[0m\u001b[0;34m\u001b[0m\u001b[0;34m\u001b[0m\u001b[0m\n\u001b[0m\u001b[1;32m      2\u001b[0m \u001b[0;31m#plt.plot(th, rr.npairs)\u001b[0m\u001b[0;34m\u001b[0m\u001b[0;34m\u001b[0m\u001b[0;34m\u001b[0m\u001b[0m\n",
      "\u001b[0;31mNameError\u001b[0m: name 'th' is not defined"
     ]
    }
   ],
   "source": [
    "plt.plot(th, nn.npairs)\n",
    "#plt.plot(th, rr.npairs)"
   ]
  },
  {
   "cell_type": "code",
   "execution_count": 36,
   "id": "a30683d8-c3bc-4250-bdd2-f992c6e55ae9",
   "metadata": {},
   "outputs": [
    {
     "data": {
      "text/plain": [
       "(array([ 7.51394041e-02,  4.99466351e-04,  1.26340077e-02, -5.36084246e-03,\n",
       "        -1.11114634e-02,  1.02417332e-02,  4.16293433e-04,  7.73767353e-04,\n",
       "         1.35686263e-03,  7.22364011e-04,  3.65042836e-04,  6.99210006e-04,\n",
       "         4.29401493e-04,  5.38549709e-05,  5.33303408e-04]),\n",
       " array([5.67822092e-05, 4.44094864e-05, 3.47339746e-05, 2.71690611e-05,\n",
       "        2.12526856e-05, 1.66267713e-05, 1.30089131e-05, 1.01806423e-05,\n",
       "        7.96851667e-06, 6.23844962e-06, 4.88639096e-06, 3.82850438e-06,\n",
       "        3.00145050e-06, 2.35498618e-06, 1.84898157e-06]))"
      ]
     },
     "execution_count": 36,
     "metadata": {},
     "output_type": "execute_result"
    }
   ],
   "source": [
    "xi, np.sqrt(varxi)"
   ]
  },
  {
   "cell_type": "markdown",
   "id": "ae38a939-0a92-46d6-8dad-a5ed3a93f959",
   "metadata": {},
   "source": [
    "## Now cut the lens galaxy catalog"
   ]
  },
  {
   "cell_type": "code",
   "execution_count": null,
   "id": "d1b027e9-3747-40dc-a3b1-b75f88697549",
   "metadata": {},
   "outputs": [],
   "source": []
  },
  {
   "cell_type": "code",
   "execution_count": 7,
   "id": "adae12ca-93ae-49d0-b578-927152f3ecc4",
   "metadata": {},
   "outputs": [
    {
     "name": "stdout",
     "output_type": "stream",
     "text": [
      "334429571\n",
      "99746776\n",
      "462368754\n",
      "137860433\n",
      "458425599\n",
      "136718808\n",
      "387115285\n",
      "115417193\n",
      "297660758\n",
      "88745354\n"
     ]
    }
   ],
   "source": [
    "for zbin in range(1,6):\n",
    "    filename = 'galcat_%d'%zbin\n",
    "    lenscat = np.load(folder + filename + '_v012922.npy')\n",
    "    ra, dec = lenscat.T\n",
    "    mask = (dec>dec_lim)&(dec<0)\n",
    "    print(len(ra))\n",
    "    ra_cut, dec_cut = ra[mask], dec[mask]\n",
    "    print(len(ra_cut))\n",
    "    np.save(folder + '/area12300/' + filename + '_areacut', (ra_cut,dec_cut))"
   ]
  },
  {
   "cell_type": "markdown",
   "id": "7c55eb69-27bc-4449-bd63-8707d8d12aa9",
   "metadata": {},
   "source": [
    "# Now joint source files into a single one, to inject to TXPipe, adding columns it needs"
   ]
  },
  {
   "cell_type": "code",
   "execution_count": 8,
   "id": "d0c987f8-4107-4d31-96c2-f93cf155c21d",
   "metadata": {},
   "outputs": [],
   "source": [
    "# Columns TXPipe needs from the cosmo simulation\n",
    "cols = ['mag_true_u_lsst', 'mag_true_g_lsst', \n",
    "                'mag_true_r_lsst', 'mag_true_i_lsst', \n",
    "                'mag_true_z_lsst', 'mag_true_y_lsst',\n",
    "                'ra', 'dec',\n",
    "                'ellipticity_1_true', 'ellipticity_2_true',\n",
    "                'shear_1', 'shear_2',\n",
    "                'size_true',\n",
    "                'galaxy_id',\n",
    "                'redshift_true',\n",
    "                ]\n"
   ]
  },
  {
   "cell_type": "code",
   "execution_count": 8,
   "id": "619442ca-de85-4b38-9669-5c91357a2a22",
   "metadata": {},
   "outputs": [
    {
     "name": "stdout",
     "output_type": "stream",
     "text": [
      "[0.3, 0.5, 0.8, 1.0, 1.4, 1.9, 2.5]\n"
     ]
    }
   ],
   "source": [
    "#assign a fake redshift within z lims so that TXPipe assigns it properly when source selector splits in bins\n",
    "source_zbin_edges = np.array([0.19285902, 0.40831394, 0.65503818, 0.94499109, 1.2947086, 1.72779632, 2.27855242, 3. ]) # 7 bins\n",
    "z_fake =[0.3, 0.5, 0.8, 1., 1.4, 1.9, 2.5]\n",
    "print(z_fake)"
   ]
  },
  {
   "cell_type": "code",
   "execution_count": 9,
   "id": "1062cef4-3c78-4eec-b756-93aa944a275b",
   "metadata": {},
   "outputs": [],
   "source": [
    "ras, decs, g1s, g2s, zs, e1s, e2s = [], [], [], [], [], [], []\n",
    "\n",
    "for zbin in range(1,6):\n",
    "    #filename = 'shearcat_shearalm_zbin%d_ra_dec_g1_g2_withshapenoise_v012922'%zbin\n",
    "    filename = 'shearcat_shearalm_zbin%d_ra_dec_g1_g2_v012922'%zbin\n",
    "    cat = np.load(folder + '/area12300/' + filename + '_areacut'+'.npy')\n",
    "    ra, dec, g1, g2 = cat\n",
    "    ras.extend(ra)\n",
    "    decs.extend(dec)\n",
    "    g1s.extend(g1)   \n",
    "    g2s.extend(g2)\n",
    "    zs.extend([z_fake[zbin-1]]*len(ra))\n",
    "    \n",
    "nobj = len(ras)\n",
    "\n",
    "# Now fake the rest of the columns we need matching the lenth   \n",
    "m_u = np.random.uniform(low=20, high=30, size=(nobj,))\n",
    "m_g = np.random.uniform(low=20, high=30, size=(nobj,))\n",
    "m_r = np.random.uniform(low=20, high=30, size=(nobj,))\n",
    "m_i = np.random.uniform(low=20, high=30, size=(nobj,))\n",
    "m_z = np.random.uniform(low=20, high=30, size=(nobj,))\n",
    "m_y = np.random.uniform(low=20, high=30, size=(nobj,))\n",
    "etrue1 = np.random.uniform(low=0, high=0.5, size=(nobj,))\n",
    "etrue2 = np.random.uniform(low=0, high=0.5, size=(nobj,))\n",
    "size = np.random.uniform(low=2., high=10., size=(nobj,))\n",
    "galaxy_id = np.arange(0,nobj, 1, dtype=int)\n",
    "\n",
    "ras, decs, g1s, g2s, zs = np.array(ras), np.array(decs), np.array(g1s), np.array(g2s), np.array(zs) \n",
    "filepath_save = folder + 'area12300/' + 'shearcat_shearalm_allbins_ra_dec_g1_g2_and_fakecols' + '_areacut'\n",
    "np.save(filepath_save, (ras,decs,g1s,g2s,zs,m_u,m_g, m_r, m_i, m_z, m_y, etrue1, etrue2, size, galaxy_id))\n"
   ]
  },
  {
   "cell_type": "raw",
   "id": "be9c4b72-cb79-48a4-8c39-efa4d865c10b",
   "metadata": {},
   "source": [
    "# NOT USED RIGHT NOW\n",
    "# IN hDF5 format might be useful for later\n",
    "\n",
    "ras, decs, g1s, g2s, zs, e1s, e2s = [], [], [], [], [], [], []\n",
    "\n",
    "for zbin in range(1,6):\n",
    "    filename = 'shearcat_shearalm_zbin%d_ra_dec_g1_g2_withshapenoise_v012922'%zbin\n",
    "    cat = np.load(folder + '/area12300/' + filename + '_areacut'+'.npy')\n",
    "    ra, dec, g1, g2 = cat\n",
    "    ras.extend(ra)\n",
    "    decs.extend(dec)\n",
    "    g1s.extend(g1)   \n",
    "    g2s.extend(g2)\n",
    "    zs.extend([z_fake[zbin-1]]*len(ra))\n",
    "    filename = 'shearcat_shearalm_zbin%d_ra_dec_g1_g2_v012922'%zbin\n",
    "    cat = np.load(folder + '/area12300/' + filename + '_areacut'+'.npy')\n",
    "    _, _, e1, e2 = cat\n",
    "    e1s.extend(e1)   \n",
    "    e2s.extend(e2)\n",
    "\n",
    "nobj = len(ras)\n",
    "\n",
    "# Now fake the rest of the columns we need matching the lenth   \n",
    "m_u = np.random.uniform(low=20, high=30, size=(nobj,))\n",
    "m_g = np.random.uniform(low=20, high=30, size=(nobj,))\n",
    "m_r = np.random.uniform(low=20, high=30, size=(nobj,))\n",
    "m_i = np.random.uniform(low=20, high=30, size=(nobj,))\n",
    "m_z = np.random.uniform(low=20, high=30, size=(nobj,))\n",
    "m_y = np.random.uniform(low=20, high=30, size=(nobj,))\n",
    "size = np.random.uniform(low=2., high=10., size=(nobj,))\n",
    "galaxy_id = np.arange(0,nobj, 1, dtype=int)\n",
    "\n",
    "ras, decs, g1s, g2s, zs = np.array(ras), np.array(decs), np.array(g1s), np.array(g2s), np.array(zs) \n",
    "e1s, e2s = np.array(e1s),np.array(e2s)\n",
    "\n",
    "filepath_save = folder + 'area12300/' + 'shearcat_shearalm_allbins_ra_dec_g1_g2_e1_e2_and_fakecols' + '_areacut'\n",
    "# need to save this in hdf5 format\n",
    "hf = h5py.File('%s.hdf5'%filepath_save, 'w')\n",
    "cat = hf.create_group('cat')\n",
    "cat.create_dataset('ra',data=ras)\n",
    "cat.create_dataset('dec',data=decs)\n",
    "cat.create_dataset('shear_1',data=g1s)\n",
    "cat.create_dataset('shear_2',data=g2s)\n",
    "cat.create_dataset('ellipticity_1_true',data=e1s)\n",
    "cat.create_dataset('ellipticity_2_true',data=e2s)\n",
    "cat.create_dataset('redshift_true',data=zs)\n",
    "cat.create_dataset('m_u',data=m_u)\n",
    "cat.create_dataset('m_g',data=m_g)\n",
    "cat.create_dataset('m_r',data=m_r)\n",
    "cat.create_dataset('m_i',data=m_i)\n",
    "cat.create_dataset('m_z',data=m_z)\n",
    "cat.create_dataset('m_y',data=m_y)\n",
    "cat.create_dataset('size',data=size)\n",
    "cat.create_dataset('galaxy_id',data=galaxy_id)\n",
    "hf.close()\n",
    "\n"
   ]
  },
  {
   "cell_type": "code",
   "execution_count": 5,
   "id": "c71e6b04-1911-4553-b860-8234b5cf92aa",
   "metadata": {},
   "outputs": [],
   "source": [
    "ra,dec,g1,g2,z,m_u,m_g, m_r, m_i, m_z, m_y, etrue1, etrue2, size, galaxy_id = np.load('/global/projecta/projectdirs/lsst/groups/WL/users/jprat/gaussian_sims_srdnzs_fullsky/012922/area12300/shearcat_shearalm_allbins_ra_dec_g1_g2_and_fakecols_withshapenoise_areacut.npy')"
   ]
  },
  {
   "cell_type": "code",
   "execution_count": 6,
   "id": "372e65f6-e1f6-44d5-9459-38cfbc953110",
   "metadata": {},
   "outputs": [],
   "source": [
    "r_u = np.random.uniform(low=0.0, high=1.0, size=len(ra))"
   ]
  },
  {
   "cell_type": "code",
   "execution_count": 7,
   "id": "e53b54bb-d383-4c12-926f-0fe926d867fc",
   "metadata": {},
   "outputs": [],
   "source": [
    "mask_d = r_u<0.0001\n",
    "ra_d = ra[mask_d]\n",
    "dec_d = dec[mask_d]"
   ]
  },
  {
   "cell_type": "code",
   "execution_count": 8,
   "id": "751f12ff-3de9-458e-8395-261e6ef40442",
   "metadata": {},
   "outputs": [
    {
     "data": {
      "text/plain": [
       "[<matplotlib.lines.Line2D at 0x2aaba3c7d048>]"
      ]
     },
     "execution_count": 8,
     "metadata": {},
     "output_type": "execute_result"
    },
    {
     "data": {
      "image/png": "[encoded data removed]",
      "text/plain": [
       "<Figure size 432x288 with 1 Axes>"
      ]
     },
     "metadata": {
      "needs_background": "light"
     },
     "output_type": "display_data"
    }
   ],
   "source": [
    "plt.plot(ra_d, dec_d)"
   ]
  },
  {
   "cell_type": "code",
   "execution_count": 71,
   "id": "294d89f1-ed4d-43e0-a85d-a8bf094f35b6",
   "metadata": {},
   "outputs": [
    {
     "name": "stdout",
     "output_type": "stream",
     "text": [
      "[-0.19064275  0.32866038 -0.60719646 ... -0.23665328 -0.59230241\n",
      " -0.12215333]\n",
      "shearcat_shearalm_zbin1_ra_dec_g1_g2_withshapenoise_v012922\n",
      "78809359\n",
      "[-0.02305466  0.10419215 -0.68600679 ...  0.18918448 -0.25354753\n",
      "  0.05925817]\n",
      "shearcat_shearalm_zbin2_ra_dec_g1_g2_withshapenoise_v012922\n",
      "78809359\n",
      "[-0.07574852  0.80251058 -0.05987507 ...  0.05353942  0.13618739\n",
      "  0.23388943]\n",
      "shearcat_shearalm_zbin3_ra_dec_g1_g2_withshapenoise_v012922\n",
      "78809359\n",
      "[ 0.11629183  0.50068242  0.42046392 ...  0.49527915 -0.03086783\n",
      " -0.12683173]\n",
      "shearcat_shearalm_zbin4_ra_dec_g1_g2_withshapenoise_v012922\n",
      "78809359\n",
      "[ 0.05202255  0.51968553  0.00558584 ...  0.1364006  -0.67195701\n",
      " -0.24490451]\n",
      "shearcat_shearalm_zbin5_ra_dec_g1_g2_withshapenoise_v012922\n",
      "78809359\n"
     ]
    }
   ],
   "source": [
    "# check source counts\n",
    "for zbin in range(1,6):\n",
    "    filename = 'shearcat_shearalm_zbin%d_ra_dec_g1_g2_withshapenoise_v012922'%zbin\n",
    "    cat = np.load(folder + '/area12300/' + filename + '_areacut'+'.npy')\n",
    "    ra, dec, g1, g2 = cat\n",
    "    print(g1)\n",
    "    print(filename)\n",
    "    print(len(g1))\n",
    "    "
   ]
  },
  {
   "cell_type": "markdown",
   "id": "224be820-ca5c-4a8d-b6bf-be7538038535",
   "metadata": {},
   "source": [
    "## Now produce the lens TXPipe inputs"
   ]
  },
  {
   "cell_type": "code",
   "execution_count": 12,
   "id": "b5db5d24-3733-4826-b8a5-a7bbcfca865c",
   "metadata": {},
   "outputs": [],
   "source": [
    "# we need to fake some of these columns\n",
    "cols = ['chisq', 'ra','dec', 'zredmagic',\n",
    "        'mag_g', 'mag_i', 'mag_r', 'mag_y', 'mag_z',\n",
    "        'mag_err_g', 'mag_err_i', 'mag_err_r', 'mag_err_y', 'mag_err_z']\n",
    "# let's try first if we can get away with just ra, dec in this cat. "
   ]
  },
  {
   "cell_type": "code",
   "execution_count": 14,
   "id": "bb5cd497-eeb5-4c35-8c14-35bdefa11070",
   "metadata": {},
   "outputs": [],
   "source": [
    "# Produce the lens_catalog.hdf5\n",
    "ras, decs = [], []\n",
    "\n",
    "for zbin in range(1,6):\n",
    "    cat = np.load(folder + '/area12300/' + 'galcat_%d'%zbin + '_areacut.npy')\n",
    "    ra, dec = cat\n",
    "    ras.extend(ra)\n",
    "    decs.extend(dec)\n",
    "\n",
    "ras, decs = np.array(ras), np.array(decs)\n",
    "filepath_save = filepath_txpipe_inputs + 'lens_catalog'\n",
    "\n",
    "# need to save this in hdf5 format\n",
    "hf = h5py.File('%s.hdf5'%filepath_save, 'w')\n",
    "g_lens = hf.create_group('lens')\n",
    "g_lens.create_dataset('ra',data=ras)\n",
    "g_lens.create_dataset('dec',data=decs)\n",
    "hf.close()"
   ]
  },
  {
   "cell_type": "code",
   "execution_count": 15,
   "id": "4ce7c12f-efcc-4ac2-9885-932b33ec49a0",
   "metadata": {},
   "outputs": [
    {
     "data": {
      "text/plain": [
       "'/global/projecta/projectdirs/lsst/groups/WL/users/jprat/gaussian_sims_srdnzs_fullsky/012922/area12300/TXPipe_inputs/lens_catalog'"
      ]
     },
     "execution_count": 15,
     "metadata": {},
     "output_type": "execute_result"
    }
   ],
   "source": [
    "filepath_save"
   ]
  },
  {
   "cell_type": "code",
   "execution_count": 16,
   "id": "ece82bf2-6c39-4f4c-a4a7-c76ed1c5aa44",
   "metadata": {},
   "outputs": [],
   "source": [
    "# Produce the lens_tomography_catalog.hdf5\n",
    "zbins, counts = [], []\n",
    "\n",
    "for zbin in range(1,6):\n",
    "    cat = np.load(folder + '/area12300/' + 'galcat_%d'%zbin + '_areacut.npy')\n",
    "    ra, dec = cat\n",
    "    zbins.extend([zbin-1]*len(ra)) #starts with 0 in txpipe\n",
    "    counts.append(len(ra))\n",
    "\n",
    "zbins, counts = np.array(zbins), np.array(counts)\n",
    "counts_2d = np.array([counts.sum()])\n",
    "ws = np.array([1.]*counts_2d[0])\n",
    "\n",
    "filepath_save = filepath_txpipe_inputs + 'lens_tomography_catalog'\n",
    "\n",
    "# need to save this in hdf5 format\n",
    "hf = h5py.File('%s.hdf5'%filepath_save, 'w')\n",
    "t_lens = hf.create_group('tomography')\n",
    "t_lens.create_dataset('lens_bin',data=zbins)\n",
    "t_lens.create_dataset('lens_counts',data=counts)\n",
    "t_lens.create_dataset('lens_counts_2d',data=counts_2d )\n",
    "t_lens.create_dataset('lens_weight',data=ws)\n",
    "t_lens.attrs['nbin_lens'] = 5\n",
    "hf.close()"
   ]
  },
  {
   "cell_type": "markdown",
   "id": "ccf7ba59-61b9-42f6-9786-c0cc7e0ad4b3",
   "metadata": {},
   "source": [
    "## Let's check what we saved and plot it!"
   ]
  },
  {
   "cell_type": "code",
   "execution_count": 17,
   "id": "38f5a2f5-949b-48e3-9b0f-08fd9dc979ed",
   "metadata": {},
   "outputs": [],
   "source": [
    "lens_cat_check = h5py.File(filepath_txpipe_inputs + 'lens_catalog.hdf5', 'r')"
   ]
  },
  {
   "cell_type": "code",
   "execution_count": 18,
   "id": "a56afb53-df4a-4c66-88c7-eaa0b52eabfa",
   "metadata": {},
   "outputs": [
    {
     "data": {
      "text/plain": [
       "<KeysViewHDF5 ['dec', 'ra']>"
      ]
     },
     "execution_count": 18,
     "metadata": {},
     "output_type": "execute_result"
    }
   ],
   "source": [
    "lens_cat_check['lens'].keys()"
   ]
  },
  {
   "cell_type": "code",
   "execution_count": 19,
   "id": "4be59cca-9e47-4818-811d-ab4f5ee229e2",
   "metadata": {},
   "outputs": [],
   "source": [
    "ra = lens_cat_check['lens/ra'][:]\n",
    "dec = lens_cat_check['lens/dec'][:]"
   ]
  },
  {
   "cell_type": "code",
   "execution_count": 20,
   "id": "f478c384-ff2c-4fa1-ba38-07fefb2314b6",
   "metadata": {},
   "outputs": [],
   "source": [
    "r_u = np.random.uniform(low=0.0, high=1.0, size=len(ra))"
   ]
  },
  {
   "cell_type": "code",
   "execution_count": 21,
   "id": "b7098f5a-4883-4492-96aa-9180f7139b9e",
   "metadata": {},
   "outputs": [],
   "source": [
    "mask_d = r_u<0.001\n",
    "ra_d = ra[mask_d]\n",
    "dec_d = dec[mask_d]"
   ]
  },
  {
   "cell_type": "code",
   "execution_count": 22,
   "id": "862b34fa-33dd-4974-8224-e8fc23cd80f9",
   "metadata": {},
   "outputs": [
    {
     "data": {
      "text/plain": [
       "[<matplotlib.lines.Line2D at 0x2aaaf0e0e828>]"
      ]
     },
     "execution_count": 22,
     "metadata": {},
     "output_type": "execute_result"
    },
    {
     "data": {
      "image/png": "[encoded data removed]",
      "text/plain": [
       "<Figure size 432x288 with 1 Axes>"
      ]
     },
     "metadata": {
      "needs_background": "light"
     },
     "output_type": "display_data"
    }
   ],
   "source": [
    "plt.plot(ra_d, dec_d)"
   ]
  },
  {
   "cell_type": "code",
   "execution_count": 23,
   "id": "1af037f6-aeb0-4654-8715-52fc268c10e3",
   "metadata": {},
   "outputs": [],
   "source": [
    "lens_tomo_check = h5py.File(filepath_txpipe_inputs + 'lens_tomography_catalog.hdf5', 'r')"
   ]
  },
  {
   "cell_type": "code",
   "execution_count": 24,
   "id": "e8a52b9c-e1fe-4b99-9f6a-525c8ebd7093",
   "metadata": {},
   "outputs": [
    {
     "data": {
      "text/plain": [
       "array([ 99746776, 137860433, 136718808, 115417193,  88745354])"
      ]
     },
     "execution_count": 24,
     "metadata": {},
     "output_type": "execute_result"
    }
   ],
   "source": [
    "lens_tomo_check['tomography/lens_counts'][:]"
   ]
  },
  {
   "cell_type": "markdown",
   "id": "25c585a0-6bb4-4b80-9991-9db599125814",
   "metadata": {},
   "source": [
    "# Now save the redshift distributions in the TXPipe format"
   ]
  },
  {
   "cell_type": "code",
   "execution_count": 25,
   "id": "bb6dfbe0-a6ed-49d9-8e84-c93733cb573e",
   "metadata": {},
   "outputs": [],
   "source": [
    "# these redshift distributions were used as input for the CLS that go into the generation of the gaussian sims"
   ]
  },
  {
   "cell_type": "code",
   "execution_count": 26,
   "id": "91768f2c-6b3f-416a-bc9b-b6382644e91d",
   "metadata": {},
   "outputs": [],
   "source": [
    "# Load SRD nzs\n",
    "lens = np.loadtxt('../generation_gaussian_sims/srd_nzs/nz_y1_lens_5bins_srd.txt').T\n",
    "source = np.loadtxt('../generation_gaussian_sims/srd_nzs/nz_y1_srcs_5bins_srd.txt').T\n",
    "\n",
    "z_l = lens[0]\n",
    "z_s = source[0]\n",
    "nzs_l = lens[1:]\n",
    "nzs_s = source[1:]"
   ]
  },
  {
   "cell_type": "code",
   "execution_count": 27,
   "id": "f93853af-fd15-4c1b-890f-de628ece61fc",
   "metadata": {},
   "outputs": [],
   "source": [
    "# Lens sample\n",
    "pz_l = h5py.File(filepath_txpipe_inputs + 'lens_photoz_stack.hdf5', 'w')\n",
    "n_of_z = pz_l.create_group('n_of_z')\n",
    "lens = pz_l.create_group('n_of_z/lens')\n",
    "\n",
    "l_bins = 5\n",
    "lens.create_dataset('z',data=z_l)\n",
    "for i in range(l_bins):\n",
    "    lens.create_dataset('bin_%d'%i,data=nzs_l[i])\n",
    "lens.attrs['nbin'] = l_bins\n",
    "pz_l.close()\n"
   ]
  },
  {
   "cell_type": "code",
   "execution_count": 28,
   "id": "19c78cec-87ef-4771-af36-fc2283cf41e9",
   "metadata": {},
   "outputs": [],
   "source": [
    "# source sample\n",
    "pz_s = h5py.File(filepath_txpipe_inputs + 'shear_photoz_stack.hdf5', 'w')\n",
    "n_of_z = pz_s.create_group('n_of_z')\n",
    "source = pz_s.create_group('n_of_z/source')\n",
    "source2d = pz_s.create_group('n_of_z/source2d')\n",
    "\n",
    "source.create_dataset('z',data=z_s)\n",
    "source2d.create_dataset('z',data=z_s)\n",
    "\n",
    "s_bins = 5\n",
    "for i in range(s_bins):\n",
    "    source.create_dataset('bin_%d'%i,data=nzs_s[i])\n",
    "source2d.create_dataset('bin_0',data=nzs_s)\n",
    "source.attrs['nbin'] = s_bins\n",
    "pz_s.close()"
   ]
  },
  {
   "cell_type": "markdown",
   "id": "801e378d-4fe9-43e3-8e7a-33417300388d",
   "metadata": {},
   "source": [
    "## Check mask that is being created in TXPipe"
   ]
  },
  {
   "cell_type": "code",
   "execution_count": 63,
   "id": "8aa61fcc-6132-4c2d-8497-71974a14c45d",
   "metadata": {},
   "outputs": [],
   "source": [
    "path_mask = '/global/cscratch1/sd/jprat/TXPipe/data/cosmodc2/outputs_redmagic/2021/december14/7sbins/mask.hdf5'"
   ]
  },
  {
   "cell_type": "code",
   "execution_count": 64,
   "id": "8837bf52-c09c-4d36-a232-78e60d1de690",
   "metadata": {},
   "outputs": [],
   "source": [
    "mask_check = h5py.File(path_mask, 'r')"
   ]
  },
  {
   "cell_type": "code",
   "execution_count": 65,
   "id": "bc63d83c-8653-405f-b8ee-f89316173fe4",
   "metadata": {},
   "outputs": [],
   "source": [
    "pix = mask_check['maps/mask/pixel'][:]\n",
    "value = mask_check['maps/mask/value'][:]"
   ]
  },
  {
   "cell_type": "code",
   "execution_count": 79,
   "id": "2bbd59c8-9255-4589-b1c7-87cd0bece828",
   "metadata": {},
   "outputs": [
    {
     "data": {
      "text/plain": [
       "<KeysViewHDF5 ['area', 'bright_obj_threshold', 'chunk_rows', 'depth_band', 'f_sky', 'nest', 'npix', 'nside', 'pixelization', 'snr_delta', 'snr_threshold', 'sparse']>"
      ]
     },
     "execution_count": 79,
     "metadata": {},
     "output_type": "execute_result"
    }
   ],
   "source": [
    "mask_check['maps/mask'].attrs.keys()"
   ]
  },
  {
   "cell_type": "code",
   "execution_count": 87,
   "id": "9c7c8304-1a7b-4396-a3b2-0adc94952173",
   "metadata": {},
   "outputs": [
    {
     "data": {
      "text/plain": [
       "True"
      ]
     },
     "execution_count": 87,
     "metadata": {},
     "output_type": "execute_result"
    }
   ],
   "source": [
    "mask_check['maps/mask'].attrs['sparse']"
   ]
  },
  {
   "cell_type": "code",
   "execution_count": 66,
   "id": "9121a3c3-01b3-4a77-8e8d-f410802c7b7d",
   "metadata": {},
   "outputs": [
    {
     "data": {
      "text/plain": [
       "(538406, 538406)"
      ]
     },
     "execution_count": 66,
     "metadata": {},
     "output_type": "execute_result"
    }
   ],
   "source": [
    "len(pix), len(value)"
   ]
  },
  {
   "cell_type": "code",
   "execution_count": 67,
   "id": "2574f3d4-20ab-4874-8717-ad8a9c322a03",
   "metadata": {},
   "outputs": [],
   "source": [
    "nside = 2048\n",
    "npix = hp.nside2npix(nside)\n",
    "#map = np.repeat(hp.UNSEEN, npix)\n",
    "map = np.zeros(npix)\n",
    "map[pix] = value"
   ]
  },
  {
   "cell_type": "code",
   "execution_count": 68,
   "id": "1b156883-8b40-4ce0-95b8-e3a2d5b9415e",
   "metadata": {},
   "outputs": [
    {
     "data": {
      "image/png": "[encoded data removed]",
      "text/plain": [
       "<Figure size 612x388.8 with 2 Axes>"
      ]
     },
     "metadata": {
      "needs_background": "light"
     },
     "output_type": "display_data"
    }
   ],
   "source": [
    "hp.mollview(map)"
   ]
  },
  {
   "cell_type": "code",
   "execution_count": null,
   "id": "5f3311ea-6090-4f24-97e3-6087a9fee4cc",
   "metadata": {},
   "outputs": [],
   "source": []
  },
  {
   "cell_type": "markdown",
   "id": "6dff0dfd-d1ba-4cb8-936e-ab8ce335aed7",
   "metadata": {},
   "source": [
    "## Create a mask file on our own since Auxiliary Lens maps doesn't run"
   ]
  },
  {
   "cell_type": "code",
   "execution_count": 41,
   "id": "5181aca2-a2f1-4f11-9398-ea2d94c4d914",
   "metadata": {},
   "outputs": [],
   "source": [
    "lens_cat_check = h5py.File(filepath_txpipe_inputs + 'lens_catalog.hdf5', 'r')\n",
    "ra = lens_cat_check['lens/ra'][:]\n",
    "dec = lens_cat_check['lens/dec'][:]"
   ]
  },
  {
   "cell_type": "code",
   "execution_count": 42,
   "id": "615284cb-238e-4277-9000-6d4a13c9b699",
   "metadata": {},
   "outputs": [],
   "source": [
    "phi = ra*np.pi/180. \n",
    "theta = np.pi/2 - dec*np.pi/180.\n",
    "nside = 2048\n",
    "pix = hp.ang2pix(nside,theta,phi)\n",
    "map=  np.bincount(pix,minlength=hp.nside2npix(nside))\n",
    "map[map>1]=1\n",
    "\n",
    "filled_pixels = np.unique(pix)\n",
    "value_of_filled_pixels = np.ones(len(filled_pixels))"
   ]
  },
  {
   "cell_type": "code",
   "execution_count": 43,
   "id": "09a26883-ba15-4450-a1e7-ae1e68b9184c",
   "metadata": {},
   "outputs": [
    {
     "data": {
      "image/png": "[encoded data removed]",
      "text/plain": [
       "<Figure size 612x388.8 with 2 Axes>"
      ]
     },
     "metadata": {
      "needs_background": "light"
     },
     "output_type": "display_data"
    }
   ],
   "source": [
    "hp.mollview(map)"
   ]
  },
  {
   "cell_type": "code",
   "execution_count": 44,
   "id": "899ffa8e-6c18-4b75-91f1-b5bccf874385",
   "metadata": {},
   "outputs": [
    {
     "data": {
      "text/plain": [
       "(0.0, 359.9945068359375, -36.60341944121341, -0.004662742478543629)"
      ]
     },
     "execution_count": 44,
     "metadata": {},
     "output_type": "execute_result"
    }
   ],
   "source": [
    "np.min(ra), np.max(ra), np.min(dec), np.max(dec)"
   ]
  },
  {
   "cell_type": "code",
   "execution_count": 45,
   "id": "861199f7-a86d-4c3e-a0cc-bec6f248ece8",
   "metadata": {},
   "outputs": [],
   "source": [
    "# Lens sample\n",
    "mask_file = h5py.File(filepath_txpipe_inputs + 'mask.hdf5', 'w')\n",
    "maps_group = mask_file.create_group('maps')\n",
    "mask_group = mask_file.create_group('maps/mask')\n",
    "\n",
    "mask_group.create_dataset('pixel',data=filled_pixels)\n",
    "mask_group.create_dataset('value',data=value_of_filled_pixels)\n",
    "mask_group.attrs['area'] = 12300\n",
    "mask_group.attrs['bright_obj_threshold'] = 22.\n",
    "mask_group.attrs['chunk_rows'] = 100000\n",
    "mask_group.attrs['depth_band'] = 'i'\n",
    "mask_group.attrs['f_sky'] = 12300/41252.96125\n",
    "mask_group.attrs['nest'] = False\n",
    "mask_group.attrs['npix'] = hp.nside2npix(2048)\n",
    "mask_group.attrs['nside'] = 2048\n",
    "mask_group.attrs['pixelization'] = 'healpix'\n",
    "mask_group.attrs['snr_delta'] = 10\n",
    "mask_group.attrs['snr_threshold'] = 10\n",
    "mask_group.attrs['sparse'] = True\n",
    "mask_file.close()\n",
    "#['area', 'bright_obj_threshold', 'chunk_rows', 'depth_band', 'f_sky', 'nest', 'npix', 'nside', 'pixelization', 'snr_delta', 'snr_threshold', 'sparse'"
   ]
  },
  {
   "cell_type": "code",
   "execution_count": 46,
   "id": "b39935b3-2d01-47f9-baad-218e4931634e",
   "metadata": {},
   "outputs": [
    {
     "name": "stdout",
     "output_type": "stream",
     "text": [
      "/global/projecta/projectdirs/lsst/groups/WL/users/jprat/gaussian_sims_srdnzs_fullsky/012922/area12300/TXPipe_inputs/\n"
     ]
    }
   ],
   "source": [
    "print(filepath_txpipe_inputs)"
   ]
  },
  {
   "cell_type": "markdown",
   "id": "2e1b0756-ad8e-468e-b6e1-b306be96be47",
   "metadata": {},
   "source": [
    "### Check mask we saved"
   ]
  },
  {
   "cell_type": "code",
   "execution_count": 49,
   "id": "14043cb3-f296-4038-a7d2-28a23f8a2b66",
   "metadata": {},
   "outputs": [
    {
     "data": {
      "image/png": "[encoded data removed]",
      "text/plain": [
       "<Figure size 612x388.8 with 2 Axes>"
      ]
     },
     "metadata": {
      "needs_background": "light"
     },
     "output_type": "display_data"
    }
   ],
   "source": [
    "path_mask = filepath_txpipe_inputs + 'mask.hdf5'\n",
    "mask_check = h5py.File(path_mask, 'r')\n",
    "\n",
    "pix = mask_check['maps/mask/pixel'][:]\n",
    "value = mask_check['maps/mask/value'][:]\n",
    "\n",
    "nside = 2048\n",
    "npix = hp.nside2npix(nside)\n",
    "#map = np.repeat(hp.UNSEEN, npix)\n",
    "map = np.zeros(npix)\n",
    "map[pix] = value\n",
    "\n",
    "hp.mollview(map)"
   ]
  },
  {
   "cell_type": "code",
   "execution_count": 54,
   "id": "448f8a11-8330-438e-a1ca-467aec38bfa5",
   "metadata": {},
   "outputs": [],
   "source": [
    "        import healpy \n",
    "        group = mask_check['maps/mask']\n",
    "        nside = group.attrs['nside']\n",
    "        npix = healpy.nside2npix(nside)\n",
    "        m = np.repeat(healpy.UNSEEN, npix)\n",
    "        pix = group['pixel'][:]\n",
    "        val = group['value'][:]\n",
    "        m[pix] = val"
   ]
  },
  {
   "cell_type": "code",
   "execution_count": 59,
   "id": "8d61e49e-e3f8-4092-ae7e-c60513afb9cd",
   "metadata": {},
   "outputs": [
    {
     "data": {
      "text/plain": [
       "(15015936, 15015936, 50331648, None)"
      ]
     },
     "execution_count": 59,
     "metadata": {},
     "output_type": "execute_result"
    },
    {
     "data": {
      "image/png": "[encoded data removed]",
      "text/plain": [
       "<Figure size 612x388.8 with 2 Axes>"
      ]
     },
     "metadata": {
      "needs_background": "light"
     },
     "output_type": "display_data"
    }
   ],
   "source": [
    "len(pix), len(val), len(m), hp.mollview(m)"
   ]
  },
  {
   "cell_type": "code",
   "execution_count": 58,
   "id": "81d5e5b7-7cab-4000-9c1f-bcdd8b20bf52",
   "metadata": {},
   "outputs": [
    {
     "data": {
      "text/plain": [
       "(15015936, 15015936, 50331648)"
      ]
     },
     "execution_count": 58,
     "metadata": {},
     "output_type": "execute_result"
    }
   ],
   "source": [
    "len(pix), len(value), len(map)"
   ]
  },
  {
   "cell_type": "code",
   "execution_count": 65,
   "id": "fa731b31-124d-4ed6-87a6-13cb14cf7cac",
   "metadata": {},
   "outputs": [],
   "source": [
    "        # Make a fake depth map                                                                                                                                                                                                                                                                                                                                             \n",
    "        pix_d = m > 0\n",
    "        depth = m.copy()\n",
    "        depth[pix_d] = 25  #e.g. 25 everywhere   \n",
    "        "
   ]
  },
  {
   "cell_type": "code",
   "execution_count": 68,
   "id": "b83d61c4-2b27-4900-a119-94fdce79217c",
   "metadata": {},
   "outputs": [
    {
     "data": {
      "text/plain": [
       "(50331648, 15015936)"
      ]
     },
     "execution_count": 68,
     "metadata": {},
     "output_type": "execute_result"
    }
   ],
   "source": [
    "len(depth), len(pix)"
   ]
  },
  {
   "cell_type": "code",
   "execution_count": 62,
   "id": "efe212a4-7eaf-4c4e-b85f-6e4682bbf41f",
   "metadata": {},
   "outputs": [
    {
     "data": {
      "image/png": "[encoded data removed]",
      "text/plain": [
       "<Figure size 612x388.8 with 2 Axes>"
      ]
     },
     "metadata": {
      "needs_background": "light"
     },
     "output_type": "display_data"
    }
   ],
   "source": [
    "hp.mollview(depth)"
   ]
  },
  {
   "cell_type": "code",
   "execution_count": 64,
   "id": "45857b1c-58d0-4125-abda-432455133710",
   "metadata": {},
   "outputs": [
    {
     "data": {
      "text/plain": [
       "(50331648, 50331648, 15015936)"
      ]
     },
     "execution_count": 64,
     "metadata": {},
     "output_type": "execute_result"
    }
   ],
   "source": [
    "len(pix_d), len(depth), len(depth[pix_d])"
   ]
  },
  {
   "cell_type": "code",
   "execution_count": 50,
   "id": "45f2a334-8cda-46c5-8ee1-4617027d4afb",
   "metadata": {},
   "outputs": [
    {
     "data": {
      "text/plain": [
       "<KeysViewHDF5 ['area', 'bright_obj_threshold', 'chunk_rows', 'depth_band', 'f_sky', 'nest', 'npix', 'nside', 'pixelization', 'snr_delta', 'snr_threshold', 'sparse']>"
      ]
     },
     "execution_count": 50,
     "metadata": {},
     "output_type": "execute_result"
    }
   ],
   "source": [
    "mask_check['maps/mask/'].attrs.keys()"
   ]
  },
  {
   "cell_type": "code",
   "execution_count": 36,
   "id": "4bedf3cb-8dc5-49af-ba3d-813975124e17",
   "metadata": {},
   "outputs": [],
   "source": [
    "def read_area(map):\n",
    "\n",
    "    num_hit = np.sum(m[m>0]) # Assuming fracdet mask                                                                                                                                                    \n",
    "    area_sq_deg = pixel_scheme.pixel_area(degrees=True) * num_hit\n",
    "    f_sky = float(area_sq_deg) / 41252.96125\n",
    "    print(f\"Area = {area_sq_deg:.2f} deg^2\")\n",
    "    return float(area_sq_deg)"
   ]
  },
  {
   "cell_type": "code",
   "execution_count": 37,
   "id": "9c94f9cd-640c-42f2-b4f8-1b98873d0bcc",
   "metadata": {},
   "outputs": [
    {
     "data": {
      "text/plain": [
       "12307.402013549805"
      ]
     },
     "execution_count": 37,
     "metadata": {},
     "output_type": "execute_result"
    }
   ],
   "source": [
    "np.sum(map)/map.shape[0]* 41252.96125"
   ]
  },
  {
   "cell_type": "markdown",
   "id": "9d75468a-baff-4c5a-adb7-dda980dda600",
   "metadata": {},
   "source": [
    "## Now create uniform random points based on that mask"
   ]
  },
  {
   "cell_type": "code",
   "execution_count": 8,
   "id": "6bf08bc9-4ef1-4e59-ae4a-9bac32001d17",
   "metadata": {},
   "outputs": [],
   "source": [
    "#Function to generate random points given some limits. \n",
    "def make_random(min_ra,max_ra,min_dec,max_dec,num):\n",
    "    '''\n",
    "    Function that outputs RA and DEC of a 'square' random catalog in the given limits.\n",
    "\n",
    "    Parameters\n",
    "    ----------\n",
    "    min_ra,max_ra,min_dec,max_dec : RA, DEC limits\n",
    "    num : number of random points to be thrown to whole sphere, less than the final number of points in the given area.\n",
    "    Returns\n",
    "    -------\n",
    "    ra_rand, dec_rand : arrays of random RA and DEC in the given limits.\n",
    "    \n",
    "    '''\n",
    "    ra_rand = (np.random.random(num)* (max_ra - min_ra))  + min_ra\n",
    "    v = np.random.random(num)\n",
    "    v *= 2\n",
    "    v -= 1\n",
    "    dec_rand = np.arccos(v)\n",
    "    np.rad2deg(dec_rand,dec_rand)\n",
    "    dec_rand -= 90.0\n",
    "    dec_rand_sel =((dec_rand < max_dec)&(dec_rand > min_dec))\n",
    "    #Joining RA and DEC, only for area limits\n",
    "    ra_rand, dec_rand = ra_rand[dec_rand_sel],dec_rand[dec_rand_sel]\n",
    "    return ra_rand, dec_rand\n",
    "\n"
   ]
  },
  {
   "cell_type": "code",
   "execution_count": 11,
   "id": "2fe48242-229e-48da-9d16-6f43314eb307",
   "metadata": {},
   "outputs": [],
   "source": [
    "ra_r, dec_r = make_random(0., 360.,dec_lim,0,10000)"
   ]
  },
  {
   "cell_type": "code",
   "execution_count": 12,
   "id": "33acc29a-7257-49c0-9668-09b15a059d2b",
   "metadata": {},
   "outputs": [
    {
     "data": {
      "text/plain": [
       "<matplotlib.collections.PathCollection at 0x2aacf81ca748>"
      ]
     },
     "execution_count": 12,
     "metadata": {},
     "output_type": "execute_result"
    },
    {
     "data": {
      "image/png": "[encoded data removed]",
      "text/plain": [
       "<Figure size 432x288 with 1 Axes>"
      ]
     },
     "metadata": {
      "needs_background": "light"
     },
     "output_type": "display_data"
    }
   ],
   "source": [
    "plt.scatter(ra_r, dec_r)"
   ]
  },
  {
   "cell_type": "code",
   "execution_count": 13,
   "id": "3cc68e42-0f8b-4abf-8039-2ccc71427ec7",
   "metadata": {},
   "outputs": [
    {
     "data": {
      "text/plain": [
       "578477033"
      ]
     },
     "execution_count": 13,
     "metadata": {},
     "output_type": "execute_result"
    }
   ],
   "source": [
    "len(ra)"
   ]
  },
  {
   "cell_type": "code",
   "execution_count": 16,
   "id": "75e48fb5-32c1-4bd1-991d-123854e77e43",
   "metadata": {},
   "outputs": [],
   "source": [
    "## check randoms output file\n",
    "path_randoms = '/global/cscratch1/sd/jprat/TXPipe/data/cosmodc2/outputs_redmagic/2021/december14/7sbins/random_cats.hdf5'\n",
    "cat_randoms = h5py.File(path_randoms, 'r')"
   ]
  },
  {
   "cell_type": "code",
   "execution_count": 18,
   "id": "d026cb63-fb20-46f6-80ca-d29b5eeec67f",
   "metadata": {},
   "outputs": [
    {
     "data": {
      "text/plain": [
       "<KeysViewHDF5 ['bin', 'dec', 'ra', 'z']>"
      ]
     },
     "execution_count": 18,
     "metadata": {},
     "output_type": "execute_result"
    }
   ],
   "source": [
    "cat_randoms['randoms'].keys()"
   ]
  },
  {
   "cell_type": "code",
   "execution_count": 21,
   "id": "3fcd0d30-b86c-43e6-9273-304504c125bc",
   "metadata": {},
   "outputs": [
    {
     "data": {
      "text/plain": [
       "array([0.20389755, 0.24207751, 0.24313499, 0.21370121, 0.33716676,\n",
       "       0.22836577, 0.3187912 , 0.30164284, 0.25098322, 0.22718581])"
      ]
     },
     "execution_count": 21,
     "metadata": {},
     "output_type": "execute_result"
    }
   ],
   "source": [
    "cat_randoms['randoms/z'][0:10]"
   ]
  },
  {
   "cell_type": "code",
   "execution_count": null,
   "id": "d1b954f9-cb80-49fc-8abf-ff9bb88fdb39",
   "metadata": {},
   "outputs": [],
   "source": []
  }
 ],
 "metadata": {
  "kernelspec": {
   "display_name": "desc-stack-dev",
   "language": "python",
   "name": "desc-stack-dev"
  },
  "language_info": {
   "codemirror_mode": {
    "name": "ipython",
    "version": 3
   },
   "file_extension": ".py",
   "mimetype": "text/x-python",
   "name": "python",
   "nbconvert_exporter": "python",
   "pygments_lexer": "ipython3",
   "version": "3.7.2"
  }
 },
 "nbformat": 4,
 "nbformat_minor": 5
}
