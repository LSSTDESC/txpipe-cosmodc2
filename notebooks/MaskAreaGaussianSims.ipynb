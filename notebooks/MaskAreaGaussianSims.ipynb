{
 "cells": [
  {
   "cell_type": "code",
   "execution_count": 1,
   "id": "5819a554-885b-488c-a612-86312766d249",
   "metadata": {},
   "outputs": [],
   "source": [
    "from astropy.io import fits\n",
    "import h5py\n",
    "import numpy as np"
   ]
  },
  {
   "cell_type": "code",
   "execution_count": 2,
   "id": "c5cb8e1f-e4f9-481d-81a9-439a35222679",
   "metadata": {},
   "outputs": [],
   "source": [
    "folder = '/global/projecta/projectdirs/lsst/groups/WL/users/jprat/gaussian_sims_srdnzs_fullsky/111221/'"
   ]
  },
  {
   "cell_type": "markdown",
   "id": "cf31b85e-097a-4373-94dc-29300c4430a6",
   "metadata": {},
   "source": [
    "## Compute what declination cut we need to mimic LSST Y1 area"
   ]
  },
  {
   "cell_type": "code",
   "execution_count": 3,
   "id": "2cac4a87-c3d4-462e-8f77-b445a11a2db3",
   "metadata": {},
   "outputs": [
    {
     "name": "stdout",
     "output_type": "stream",
     "text": [
      "0.4036791722352708\n",
      "-53.393151700575466\n"
     ]
    }
   ],
   "source": [
    "def deg2_to_rad2(deg2):\n",
    "    return deg2*(np.pi/180)**2\n",
    "\n",
    "def h_func(A, r):\n",
    "    return (2*np.pi*r**2-A)/(2*np.pi*r) # area of a slice is A= 2*pi*r(r-h)\n",
    "\n",
    "def dec_lim_func(h, r):\n",
    "    return np.arccos((r-h)/r)\n",
    "\n",
    "# We want to get an area of 12,300 deg^2 (LSST Y1)\n",
    "A = deg2_to_rad2(12300)\n",
    "h = h_func(A, r=1)\n",
    "dec_lim = -dec_lim_func(h, r=1)*180/np.pi # negative because lsst is in the south\n",
    "print(h)\n",
    "print(dec_lim)"
   ]
  },
  {
   "cell_type": "markdown",
   "id": "320c18d9-90de-4c49-8841-da4294f8eb22",
   "metadata": {},
   "source": [
    "## Now mask the source catalogs"
   ]
  },
  {
   "cell_type": "code",
   "execution_count": 4,
   "id": "7714112b-d85e-4e9f-b1e8-e1c3d9856af8",
   "metadata": {},
   "outputs": [
    {
     "name": "stdout",
     "output_type": "stream",
     "text": [
      "264347918\n",
      "106105059\n",
      "264347918\n",
      "106107345\n",
      "264347918\n",
      "106101653\n",
      "264347918\n",
      "106084015\n",
      "264347918\n",
      "106096713\n"
     ]
    }
   ],
   "source": [
    "for zbin in range(1,6):\n",
    "    filename = 'shearcat_shearalm_zbin%d_ra_dec_g1_g2_withshapenoise'%zbin\n",
    "    cat = np.load(folder + filename + '.npy')\n",
    "    ra, dec, g1, g2 = cat.T\n",
    "    mask = (dec>dec_lim)&(dec<0)\n",
    "    print(len(ra))\n",
    "    ra_cut, dec_cut, g1_cut, g2_cut = ra[mask], dec[mask], g1[mask], g2[mask]\n",
    "    print(len(ra_cut))\n",
    "    np.save(folder + '/area12300/' + filename + '_areacut', (ra_cut,dec_cut,g1_cut,g2_cut))"
   ]
  },
  {
   "cell_type": "code",
   "execution_count": 10,
   "id": "edea0028-8e04-471d-98d4-3514387eadb0",
   "metadata": {},
   "outputs": [
    {
     "name": "stdout",
     "output_type": "stream",
     "text": [
      "264347918\n",
      "106105059\n",
      "264347918\n",
      "106107345\n",
      "264347918\n",
      "106101653\n",
      "264347918\n",
      "106084015\n",
      "264347918\n",
      "106096713\n"
     ]
    }
   ],
   "source": [
    "\n",
    "for zbin in range(1,6):\n",
    "    filename = 'shearcat_shearalm_zbin%d_ra_dec_g1_g2'%zbin\n",
    "    cat = np.load(folder + filename + '.npy')\n",
    "    ra, dec, g1, g2 = cat.T\n",
    "    mask = (dec>dec_lim)&(dec<0)\n",
    "    print(len(ra))\n",
    "    ra_cut, dec_cut, g1_cut, g2_cut = ra[mask], dec[mask], g1[mask], g2[mask]\n",
    "    print(len(ra_cut))\n",
    "    np.save(folder + '/area12300/' + filename + '_areacut', (ra_cut,dec_cut,g1_cut,g2_cut))"
   ]
  },
  {
   "cell_type": "code",
   "execution_count": 5,
   "id": "e9a8e39b-b2cb-4df4-9408-a64c6c668a15",
   "metadata": {},
   "outputs": [],
   "source": [
    "filename = 'galcat_%d.npy'%zbin\n",
    "lenscat = np.load(folder + 'galcat_2.npy')"
   ]
  },
  {
   "cell_type": "markdown",
   "id": "ae38a939-0a92-46d6-8dad-a5ed3a93f959",
   "metadata": {},
   "source": [
    "## Now cut the lens galaxy catalog"
   ]
  },
  {
   "cell_type": "code",
   "execution_count": 9,
   "id": "87524aae-724c-4fd4-81d7-e2e8719d7bf4",
   "metadata": {},
   "outputs": [
    {
     "name": "stdout",
     "output_type": "stream",
     "text": [
      "334435659\n",
      "134207933\n",
      "462409299\n",
      "185600120\n",
      "458442767\n",
      "184001932\n",
      "387090669\n",
      "155397903\n",
      "297586079\n",
      "119437802\n"
     ]
    }
   ],
   "source": [
    "for zbin in range(1,6):\n",
    "    filename = 'galcat_%d'%zbin\n",
    "    lenscat = np.load(folder + filename + '.npy')\n",
    "    ra, dec = lenscat.T\n",
    "    mask = (dec>dec_lim)&(dec<0)\n",
    "    print(len(ra))\n",
    "    ra_cut, dec_cut = ra[mask], dec[mask]\n",
    "    print(len(ra_cut))\n",
    "    np.save(folder + '/area12300/' + filename + '_areacut', (ra_cut,dec_cut))"
   ]
  },
  {
   "cell_type": "code",
   "execution_count": null,
   "id": "049e8c38-f242-4f99-9a23-35b593e9f32d",
   "metadata": {},
   "outputs": [],
   "source": []
  }
 ],
 "metadata": {
  "kernelspec": {
   "display_name": "Python 3",
   "language": "python",
   "name": "python3"
  },
  "language_info": {
   "codemirror_mode": {
    "name": "ipython",
    "version": 3
   },
   "file_extension": ".py",
   "mimetype": "text/x-python",
   "name": "python",
   "nbconvert_exporter": "python",
   "pygments_lexer": "ipython3",
   "version": "3.8.8"
  }
 },
 "nbformat": 4,
 "nbformat_minor": 5
}
