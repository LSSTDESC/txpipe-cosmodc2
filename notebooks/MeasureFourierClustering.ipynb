{
 "cells": [
  {
   "cell_type": "code",
   "execution_count": 1,
   "id": "f8ae2ab9-3c2d-4656-b315-fd9a486c4fba",
   "metadata": {},
   "outputs": [],
   "source": [
    "from astropy.io import fits\n",
    "import h5py\n",
    "import numpy as np\n",
    "import matplotlib.pyplot as plt\n",
    "import healpy as hp\n",
    "import pymaster as nmt\n",
    "import sacc"
   ]
  },
  {
   "cell_type": "markdown",
   "id": "e376c5a0-66a3-4b01-98a7-576045cbb22e",
   "metadata": {},
   "source": [
    "# Measure galaxy clustering in Fourier space with Namaster"
   ]
  },
  {
   "cell_type": "markdown",
   "id": "39c6c4ef-616d-44a2-b786-7a6d432d1937",
   "metadata": {},
   "source": [
    "## Load maps that TXPipe outputs"
   ]
  },
  {
   "cell_type": "code",
   "execution_count": 27,
   "id": "544d178d-9e15-42ae-b9ea-1379f40472e0",
   "metadata": {},
   "outputs": [],
   "source": [
    "path_outputs = '/global/cscratch1/sd/jprat/TXPipe/data/gaussian_sims/outputs_gaussian_sims/gaussian_sims_srdnzs_fullsky/022422/12300area/2022/March2/'\n",
    "mask_path = '/global/projecta/projectdirs/lsst/groups/WL/users/jprat/gaussian_sims_srdnzs_fullsky/022422/12300area/TXPipe_inputs/mask.hdf5'\n",
    "\n",
    "density_maps = h5py.File(path_outputs + 'density_maps.hdf5', 'r')\n",
    "noise_maps = h5py.File(path_outputs + 'lens_noise_maps.hdf5', 'r')\n",
    "mask_hdf5 = h5py.File(mask_path, 'r')"
   ]
  },
  {
   "cell_type": "markdown",
   "id": "c13d3d58-7a4e-41e4-90fb-8c26cc2eea0d",
   "metadata": {},
   "source": [
    "## Set ell binning and nside"
   ]
  },
  {
   "cell_type": "code",
   "execution_count": 7,
   "id": "bbf4e593-d1c8-4610-a332-aa366808f560",
   "metadata": {},
   "outputs": [],
   "source": [
    "ell_min = 100\n",
    "ell_max = 3*nside\n",
    "n_ell = 30\n",
    "ell_spacing = \"log\"\n",
    "\n",
    "#taken from TXPipe to match exactly\n",
    "ell_ini = [ 100,  115,  132,  153,  176,  203,  234,  270,  311,  358,  413,\n",
    "        476,  549,  633,  730,  841,  969, 1117, 1288, 1485, 1711, 1972,\n",
    "       2273, 2620, 3020, 3481, 4012, 4624, 5330]\n",
    "ell_end = [115,  132,  153,  176,  203,  234,  270,  311,  358,  413,\n",
    "        476,  549,  633,  730,  841,  969, 1117, 1288, 1485, 1711, 1972,\n",
    "       2273, 2620, 3020, 3481, 4012, 4624, 5330, 6144]\n",
    "\n",
    "ell_bins = nmt.NmtBin.from_edges(ell_ini, ell_end, is_Dell=False)\n",
    "ls = ell_bins.get_effective_ells()"
   ]
  },
  {
   "cell_type": "markdown",
   "id": "bf5de3ed-98d0-4b77-a949-b890f3ab8981",
   "metadata": {},
   "source": [
    "## Prepare density maps in Namaster format"
   ]
  },
  {
   "cell_type": "code",
   "execution_count": 8,
   "id": "9316cc8a-ef17-4121-a56d-bbbaab1e682d",
   "metadata": {},
   "outputs": [],
   "source": [
    "def read_map(pixel, value):\n",
    "    npix = hp.nside2npix(nside)\n",
    "    map = np.zeros(npix)\n",
    "    map[pix] = value\n",
    "    return map"
   ]
  },
  {
   "cell_type": "code",
   "execution_count": 9,
   "id": "c1482486-f153-46fb-8dc9-2c170bddd739",
   "metadata": {},
   "outputs": [],
   "source": [
    "nbin_lens = density_maps.file[\"maps\"].attrs[\"nbin_lens\"]\n",
    "density_field = {}\n",
    "for i in range(nbin_lens):\n",
    "    pixel = density_maps['maps/delta_%d/pixel'%i][:]\n",
    "    value = density_maps['maps/delta_%d/value'%i][:]\n",
    "    d_map0 = read_map(pixel, value)\n",
    "    density_field['bin%d'%i] = (nmt.NmtField(mask, [d_map0], n_iter=0))\n"
   ]
  },
  {
   "cell_type": "markdown",
   "id": "bf452493-d7cc-4d43-952d-2971f7e82861",
   "metadata": {
    "tags": []
   },
   "source": [
    "## Compute measurements using Namaster: this cell below takes a while"
   ]
  },
  {
   "cell_type": "code",
   "execution_count": 10,
   "id": "f5d01567-40ea-4e88-b956-18bce61763e8",
   "metadata": {},
   "outputs": [],
   "source": [
    "c = {}\n",
    "for i in range(nbin_lens):\n",
    "    c['bin%d'%i] = nmt.compute_full_master(\n",
    "                        density_field['bin%d'%i],\n",
    "                        density_field['bin%d'%i],\n",
    "                        ell_bins,\n",
    "                        n_iter=1,\n",
    "                    )"
   ]
  },
  {
   "cell_type": "code",
   "execution_count": 20,
   "id": "adee10ab-0e57-4b63-ae10-b32533847547",
   "metadata": {},
   "outputs": [
    {
     "data": {
      "text/plain": [
       "{'bin0': array([[3.99761805e-07, 2.93752969e-07, 2.52809498e-07, 2.15965136e-07,\n",
       "         1.80422658e-07, 1.58439028e-07, 1.36626066e-07, 1.18560855e-07,\n",
       "         1.05131432e-07, 9.31065202e-08, 8.48146261e-08, 7.86932725e-08,\n",
       "         7.31411909e-08, 6.80576331e-08, 6.45489355e-08, 5.99638320e-08,\n",
       "         5.61980250e-08, 5.35769114e-08, 5.05683947e-08, 4.85158166e-08,\n",
       "         4.63559611e-08, 4.46977113e-08, 4.30770375e-08, 4.17194143e-08,\n",
       "         4.05821798e-08, 3.98365678e-08, 3.91857987e-08, 3.87034527e-08,\n",
       "         3.84976770e-08]]),\n",
       " 'bin1': array([[3.54307248e-07, 2.37910991e-07, 2.08516890e-07, 1.70818242e-07,\n",
       "         1.54971677e-07, 1.22736682e-07, 1.07664463e-07, 9.05351615e-08,\n",
       "         7.94438731e-08, 6.93919617e-08, 6.34830569e-08, 5.59361460e-08,\n",
       "         5.17354422e-08, 4.73475585e-08, 4.46918898e-08, 4.16273655e-08,\n",
       "         3.96621013e-08, 3.77233656e-08, 3.62609661e-08, 3.47153529e-08,\n",
       "         3.35618133e-08, 3.22728812e-08, 3.14737617e-08, 3.05015226e-08,\n",
       "         2.97453021e-08, 2.91116933e-08, 2.85914657e-08, 2.82047583e-08,\n",
       "         2.80463979e-08]]),\n",
       " 'bin2': array([[3.05860035e-07, 2.57732713e-07, 1.97621382e-07, 1.58232108e-07,\n",
       "         1.51185834e-07, 1.27178211e-07, 1.06892818e-07, 9.25339878e-08,\n",
       "         8.10788584e-08, 6.84205101e-08, 6.00317501e-08, 5.45475984e-08,\n",
       "         4.93504606e-08, 4.50113756e-08, 4.19786731e-08, 3.97480200e-08,\n",
       "         3.78687988e-08, 3.60093643e-08, 3.45493011e-08, 3.31991317e-08,\n",
       "         3.24160494e-08, 3.15349766e-08, 3.07941837e-08, 3.03232442e-08,\n",
       "         2.95460493e-08, 2.90905246e-08, 2.87448880e-08, 2.83782253e-08,\n",
       "         2.82416636e-08]]),\n",
       " 'bin3': array([[3.02435702e-07, 2.57825509e-07, 2.30359392e-07, 1.98261829e-07,\n",
       "         1.58569079e-07, 1.34830824e-07, 1.19955242e-07, 1.05426619e-07,\n",
       "         8.96864752e-08, 7.81531632e-08, 6.92722456e-08, 6.05350403e-08,\n",
       "         5.59565544e-08, 5.09665247e-08, 4.69453417e-08, 4.48107099e-08,\n",
       "         4.23596664e-08, 4.04785324e-08, 3.93654030e-08, 3.82443237e-08,\n",
       "         3.71200278e-08, 3.63767941e-08, 3.56899334e-08, 3.49700605e-08,\n",
       "         3.45837412e-08, 3.40891135e-08, 3.36250348e-08, 3.34050993e-08,\n",
       "         3.32715883e-08]]),\n",
       " 'bin4': array([[2.50995663e-07, 2.24268409e-07, 1.83333409e-07, 1.78177357e-07,\n",
       "         1.56406768e-07, 1.29465220e-07, 1.10390584e-07, 1.03157090e-07,\n",
       "         9.12098262e-08, 8.05461969e-08, 7.17649269e-08, 6.63924045e-08,\n",
       "         6.08116412e-08, 5.77727189e-08, 5.49566217e-08, 5.17196890e-08,\n",
       "         4.99581615e-08, 4.81692254e-08, 4.72264218e-08, 4.62574986e-08,\n",
       "         4.56976095e-08, 4.50400008e-08, 4.44709588e-08, 4.41416752e-08,\n",
       "         4.36578376e-08, 4.34281230e-08, 4.31393651e-08, 4.29903696e-08,\n",
       "         4.29295412e-08]])}"
      ]
     },
     "execution_count": 20,
     "metadata": {},
     "output_type": "execute_result"
    }
   ],
   "source": [
    "c"
   ]
  },
  {
   "cell_type": "markdown",
   "id": "89d27db1-3278-49c1-9230-03f645f84862",
   "metadata": {},
   "source": [
    "## Subtract the noise from the measurements and correct for beam "
   ]
  },
  {
   "cell_type": "markdown",
   "id": "d719b60f-86aa-42ef-9465-6a3729962077",
   "metadata": {},
   "source": [
    "### First load TXPipe's measurement file with the noise we will subtract"
   ]
  },
  {
   "cell_type": "code",
   "execution_count": 28,
   "id": "3f470b9a-4466-4106-a146-2877bc668045",
   "metadata": {},
   "outputs": [],
   "source": [
    "dir = '../data_vectors/gaussian_sims/022422/area12300/March2/new_scales/'\n",
    "file = 'analytic_noise/twopoint_data_fourier_shot_noise_scaled.sacc' #scaled coupled noise\n",
    "# it's the one above copied from local.\n",
    "a = sacc.Sacc.load_fits('/global/cscratch1/sd/jprat/twopoint_data_fourier_shot_noise_scaled.sacc')\n",
    "a_name = 'analytic'"
   ]
  },
  {
   "cell_type": "code",
   "execution_count": 29,
   "id": "df8b1157-7b1c-40ad-a0da-5aa98b6c8e57",
   "metadata": {},
   "outputs": [],
   "source": [
    "def window_pixel(ell, nside):\n",
    "            r_theta = 1 / (np.sqrt(3.0) * nside)\n",
    "            x = ell * r_theta\n",
    "            f = 0.532 + 0.006 * (x - 0.5) ** 2\n",
    "            y = f * x\n",
    "            return np.exp(-(y**2) / 2)\n",
    "\n",
    "def arcmin2_to_rad2(density):\n",
    "    return density*60**2*41253/(4*np.pi)\n",
    "lens_density = np.array([2.2512824191217113, 3.1115067729648382, 3.08574032321282, 2.6049633670894528, 2.002980579933056])\n",
    "lens_density_rad = arcmin2_to_rad2(lens_density)\n",
    "cl = {}\n",
    "for i in range(5):\n",
    "    n_ell_analytic = a.get_tag('n_ell', data_type=\"galaxy_density_cl\", tracers=('lens_%s'%(i),'lens_%s'%(i)) )\n",
    "    #cl['bin%d'%i] = (c['bin%d'%i][0]- 1/lens_density_rad[i])/ (window_pixel(ls, nside) ** 2)\n",
    "    cl['bin%d'%i] = (c['bin%d'%i][0]- n_ell_analytic)/ (window_pixel(ls, nside) ** 2)"
   ]
  },
  {
   "cell_type": "markdown",
   "id": "3174e4c2-58d5-47f7-8da9-8a29fe3951ba",
   "metadata": {},
   "source": [
    "## Compare with TXPipe measurements"
   ]
  },
  {
   "cell_type": "code",
   "execution_count": 25,
   "id": "6ceb63f8-fc10-4712-b497-d1a57697d18c",
   "metadata": {},
   "outputs": [
    {
     "data": {
      "text/plain": [
       "<matplotlib.legend.Legend at 0x1554b3c718b0>"
      ]
     },
     "execution_count": 25,
     "metadata": {},
     "output_type": "execute_result"
    },
    {
     "data": {
      "image/png": "[encoded data removed]",
      "text/plain": [
       "<Figure size 1440x273.6 with 5 Axes>"
      ]
     },
     "metadata": {
      "needs_background": "light"
     },
     "output_type": "display_data"
    }
   ],
   "source": [
    "nlbins = 5\n",
    "fig, ax = plt.subplots(1, nlbins, figsize=(4*nlbins, 4*0.95), sharey=True, sharex=True)\n",
    "plt.subplots_adjust(wspace=0.1, hspace=0.1)\n",
    "for i in range(nlbins):\n",
    "    ell, cl_txpipe = a.get_ell_cl(\"galaxy_density_cl\",'lens_%s'%(i) , 'lens_%s'%(i))\n",
    "    ax[i].plot(ls, cl['bin%d'%i]/cl_txpipe, color = 'royalblue', lw = 2, label = 'External Namaster/TXPipe Namaster')\n",
    "    ax[i].set_xlabel('l')\n",
    "    ax[i].set_xscale('log')    \n",
    "    ax[i].axhline(y=1, color = 'k', ls= ':')\n",
    "    ax[i].set_xlim(100, 2*nside)\n",
    "    ax[i].set_ylim(0.999, 1.01)\n",
    "\n",
    "ax[0].set_ylabel(r'$C_{\\delta\\delta}$ ratio')\n",
    "ax[0].legend()"
   ]
  },
  {
   "cell_type": "code",
   "execution_count": 24,
   "id": "4bd59ea2-dc75-43d3-bb02-d1a2700a4e63",
   "metadata": {},
   "outputs": [
    {
     "data": {
      "text/plain": [
       "<matplotlib.legend.Legend at 0x1554b423f730>"
      ]
     },
     "execution_count": 24,
     "metadata": {},
     "output_type": "execute_result"
    },
    {
     "data": {
      "image/png": "[encoded data removed]",
      "text/plain": [
       "<Figure size 1440x273.6 with 5 Axes>"
      ]
     },
     "metadata": {
      "needs_background": "light"
     },
     "output_type": "display_data"
    }
   ],
   "source": [
    "nlbins = 5\n",
    "fig, ax = plt.subplots(1, nlbins, figsize=(4*nlbins, 4*0.95), sharey=True, sharex=True)\n",
    "plt.subplots_adjust(wspace=0.1, hspace=0.1)\n",
    "for i in range(nlbins):\n",
    "    ell, cl_txpipe = a.get_ell_cl(\"galaxy_density_cl\",'lens_%s'%(i) , 'lens_%s'%(i))\n",
    "    ax[i].plot(ls, cl['bin%d'%i], color = 'royalblue', lw = 2, label = 'External Namaster')\n",
    "    ax[i].plot(ls, cl_txpipe, color = 'orange', ls = '--', lw = 2, label = 'TXPipe Namaster')\n",
    "    ax[i].set_xlabel('l')\n",
    "    ax[i].set_xscale('log')\n",
    "    ax[i].set_yscale('log') \n",
    "    #ax[i].axhline(y=1, color = 'k', ls= ':')\n",
    "    #ax[i].set_xlim(100, 2*nside)\n",
    "    #ax[i].set_ylim(0.999, 1.025)\n",
    "\n",
    "ax[0].set_ylabel(r'$C_{\\delta\\delta}$')\n",
    "ax[0].legend()"
   ]
  },
  {
   "cell_type": "markdown",
   "id": "c3d09815-9069-4594-a095-b3688e437ffd",
   "metadata": {},
   "source": [
    "## Extra code that is not needed"
   ]
  },
  {
   "cell_type": "raw",
   "id": "c7f48fa0-272b-478f-9325-9dac431017c6",
   "metadata": {},
   "source": [
    "# This is not needed I believe. It is only done in the example here https://namaster.readthedocs.io/en/latest/sample_simple.html \n",
    "# convert mask to fits file\n",
    "nside = 2048\n",
    "pix = mask_hdf5['maps/mask/pixel'][:]\n",
    "value = mask_hdf5['maps/mask/value'][:]\n",
    "\n",
    "npix = hp.nside2npix(nside)\n",
    "mask = np.zeros(npix)\n",
    "mask[pix] = value\n",
    "\n",
    "c1file = fits.Column(name='mask', array=mask, format='K')\n",
    "#c2 = fits.Column(name='value', array=value, format='E')\n",
    "t = fits.BinTableHDU.from_columns([c1file])\n",
    "t.writeto('/global/projecta/projectdirs/lsst/groups/WL/users/jprat/gaussian_sims_srdnzs_fullsky/022422/12300area/TXPipe_inputs/mask_%d.fits'%nside, overwrite=True)\n",
    "\n",
    "# Read mask and apodize it on a scale of ~1deg\n",
    "# I don't think this is done in TXPipe and takes a lot of time to run\n",
    "mask = nmt.mask_apodization(hp.read_map(\"/global/projecta/projectdirs/lsst/groups/WL/users/jprat/gaussian_sims_srdnzs_fullsky/022422/12300area/TXPipe_inputs/mask_%d.fits\"%nside, verbose=False),\n",
    "                            1., apotype=\"Smooth\")\n",
    "hp.mollview(mask, coord=['G', 'C'], title='Apodized mask')\n",
    "plt.show()"
   ]
  }
 ],
 "metadata": {
  "kernelspec": {
   "display_name": "desc-python",
   "language": "python",
   "name": "desc-python"
  },
  "language_info": {
   "codemirror_mode": {
    "name": "ipython",
    "version": 3
   },
   "file_extension": ".py",
   "mimetype": "text/x-python",
   "name": "python",
   "nbconvert_exporter": "python",
   "pygments_lexer": "ipython3",
   "version": "3.8.12"
  }
 },
 "nbformat": 4,
 "nbformat_minor": 5
}
