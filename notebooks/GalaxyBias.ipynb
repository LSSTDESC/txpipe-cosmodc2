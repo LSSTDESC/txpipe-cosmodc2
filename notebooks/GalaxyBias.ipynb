{
 "cells": [
  {
   "cell_type": "code",
   "execution_count": 2,
   "metadata": {},
   "outputs": [],
   "source": [
    "import GCRCatalogs\n",
    "from astropy.table import Table\n",
    "import numpy as np\n",
    "import matplotlib.pyplot as plt\n",
    "import astropy.io.fits as pf"
   ]
  },
  {
   "cell_type": "markdown",
   "metadata": {},
   "source": [
    "# Start by loading the redMaGiC halo catalog from CosmoDC2"
   ]
  },
  {
   "cell_type": "code",
   "execution_count": 3,
   "metadata": {},
   "outputs": [],
   "source": [
    "# read in redmagic catalog\n",
    "redmagic = pf.open('/global/projecta/projectdirs/lsst/groups/WL/users/zuntz/data/redmagic/cosmoDC2_v1.1.4_run_redmagic_highdens.fit')\n",
    "redmagic_ids = redmagic[1].data['id']\n",
    "redmagic_z = redmagic[1].data['zredmagic']\n",
    "bins = {}\n",
    "nbins = 5\n",
    "zbin = 'bin5'\n",
    "if zbin == 'bin1':\n",
    "    bin_sel = (redmagic_z> 0.15)&(redmagic_z< 0.30)\n",
    "if zbin == 'bin2':\n",
    "    bin_sel = (redmagic_z> 0.30)&(redmagic_z< 0.45)  \n",
    "if zbin == 'bin3':\n",
    "    bin_sel = (redmagic_z> 0.45)&(redmagic_z< 0.60) \n",
    "if zbin == 'bin4':\n",
    "    bin_sel = (redmagic_z> 0.60)&(redmagic_z< 0.75) \n",
    "if zbin == 'bin5':\n",
    "    bin_sel = (redmagic_z> 0.75)&(redmagic_z< 0.90) "
   ]
  },
  {
   "cell_type": "code",
   "execution_count": 4,
   "metadata": {},
   "outputs": [],
   "source": [
    "gc = GCRCatalogs.load_catalog('cosmoDC2_v1.1.4_image')"
   ]
  },
  {
   "cell_type": "code",
   "execution_count": 111,
   "metadata": {},
   "outputs": [],
   "source": [
    "# 'mag_i',"
   ]
  },
  {
   "cell_type": "code",
   "execution_count": 5,
   "metadata": {},
   "outputs": [],
   "source": [
    "#halo_all = gc.get_quantities(['halo_mass',  'redshift', 'halo_id', 'galaxy_id', 'isCentral'], filters=['redshift < 0.75', 'redshift > 0.']) # for first three bins\n",
    "halo_all = gc.get_quantities(['halo_mass',  'redshift', 'halo_id', 'galaxy_id', 'isCentral'], filters=['redshift < 1.2', 'redshift > 0.3'])"
   ]
  },
  {
   "cell_type": "code",
   "execution_count": 6,
   "metadata": {},
   "outputs": [],
   "source": [
    "halo_all_big = halo_all"
   ]
  },
  {
   "cell_type": "code",
   "execution_count": 7,
   "metadata": {},
   "outputs": [],
   "source": [
    "if zbin == 'bin1':\n",
    "    zmin = 0.\n",
    "    zmax = 0.45\n",
    "if zbin == 'bin2':\n",
    "    zmin = 0.15\n",
    "    zmax = 0.6\n",
    "if zbin == 'bin3':\n",
    "    zmin = 0.35\n",
    "    zmax = 0.75\n",
    "if zbin == 'bin4':\n",
    "    zmin = 0.50\n",
    "    zmax = 0.9\n",
    "if zbin == 'bin5':\n",
    "    zmin = 0.55\n",
    "    zmax = 1.05\n",
    "zmask = (halo_all_big['redshift']< zmax)&(halo_all_big['redshift'] > zmin)\n",
    "halo_all = {}\n",
    "for key in halo_all_big:\n",
    "    halo_all[key] = halo_all_big[key][zmask]"
   ]
  },
  {
   "cell_type": "code",
   "execution_count": 8,
   "metadata": {},
   "outputs": [
    {
     "data": {
      "text/plain": [
       "{'redshift': array([0.57377426, 0.57460683, 0.57893328, ..., 1.04996001, 1.04723304,\n",
       "        1.04964203]),\n",
       " 'halo_id': array([       151315,     100151315,     200151315, ..., 3407700146235,\n",
       "        3411300146235, 3424100146235]),\n",
       " 'galaxy_id': array([9438032234, 9438032235, 9438032236, ..., 9127825487, 9127825527,\n",
       "        9127825741]),\n",
       " 'halo_mass': array([2.81096780e+11, 1.27534625e+11, 1.30137374e+11, ...,\n",
       "        2.08479726e+12, 9.89043928e+10, 7.28769147e+10]),\n",
       " 'isCentral': array([ True,  True,  True, ..., False,  True,  True])}"
      ]
     },
     "execution_count": 8,
     "metadata": {},
     "output_type": "execute_result"
    }
   ],
   "source": [
    "halo_all"
   ]
  },
  {
   "cell_type": "code",
   "execution_count": 9,
   "metadata": {},
   "outputs": [],
   "source": [
    "iscentral = halo_all['isCentral']==True\n",
    "\n",
    "mask_all = np.in1d(halo_all['galaxy_id'],redmagic_ids[bin_sel])\n",
    "mask_cent = np.in1d(halo_all['galaxy_id'][iscentral],redmagic_ids[bin_sel])\n",
    "mask_sat = np.in1d(halo_all['galaxy_id'][~iscentral],redmagic_ids[bin_sel])\n"
   ]
  },
  {
   "cell_type": "code",
   "execution_count": 10,
   "metadata": {},
   "outputs": [
    {
     "name": "stdout",
     "output_type": "stream",
     "text": [
      "175159 101851 73308\n",
      "175159 175159\n"
     ]
    }
   ],
   "source": [
    "print (mask_all.sum(), mask_cent.sum(), mask_sat.sum())\n",
    "print (len(redmagic_ids[bin_sel]), mask_all.sum())\n",
    "assert (len(redmagic_ids[bin_sel])==mask_all.sum())\n"
   ]
  },
  {
   "cell_type": "code",
   "execution_count": 11,
   "metadata": {},
   "outputs": [
    {
     "data": {
      "text/plain": [
       "175159"
      ]
     },
     "execution_count": 11,
     "metadata": {},
     "output_type": "execute_result"
    }
   ],
   "source": [
    "len(redmagic_ids[bin_sel])"
   ]
  },
  {
   "cell_type": "code",
   "execution_count": 12,
   "metadata": {},
   "outputs": [
    {
     "data": {
      "text/plain": [
       "175159"
      ]
     },
     "execution_count": 12,
     "metadata": {},
     "output_type": "execute_result"
    }
   ],
   "source": [
    "mask_all.sum()"
   ]
  },
  {
   "cell_type": "code",
   "execution_count": 13,
   "metadata": {},
   "outputs": [],
   "source": [
    "halo_mass_all = halo_all['halo_mass'][mask_all]\n",
    "redshift_all = halo_all['redshift'][mask_all]\n",
    "halo_mass_cent = halo_all['halo_mass'][iscentral][mask_cent]\n",
    "halo_mass_sat = halo_all['halo_mass'][~iscentral][mask_sat]\n",
    "\n",
    "\n",
    "halo_id_all= halo_all['halo_id'][mask_all]\n",
    "#halo_id_cent = halo_all['halo_id'][iscentral][mask_cent]\n",
    "#halo_id_sat = halo_all['halo_id'][~iscentral][mask_sat]"
   ]
  },
  {
   "cell_type": "code",
   "execution_count": 14,
   "metadata": {},
   "outputs": [
    {
     "name": "stdout",
     "output_type": "stream",
     "text": [
      "The number of halos is: 135401\n",
      "The total number of galaxies is: 175159\n",
      "The number of central galaxies is: 101851\n",
      "The number of satellite galaxies is: 73308\n",
      "The satellite fraction is: 0.4185225994667702\n",
      "fcen is (fraction of halos occupied with central galaxies): 0.7522174873154556\n"
     ]
    }
   ],
   "source": [
    "#number of halos occupied by at least one redmagic galaxy\n",
    "n_halos = len(np.unique(halo_id_all))\n",
    "print(\"The number of halos is:\", n_halos)\n",
    "\n",
    "#number of galaxies\n",
    "n_tot = mask_all.sum()\n",
    "print(\"The total number of galaxies is:\", n_tot)\n",
    "n_cent = mask_cent.sum()\n",
    "print(\"The number of central galaxies is:\", n_cent)\n",
    "n_sat = mask_sat.sum()\n",
    "print(\"The number of satellite galaxies is:\", n_sat)\n",
    "assert(n_tot==n_cent+n_sat)\n",
    "sat_frac = n_sat/n_tot\n",
    "print(\"The satellite fraction is:\", sat_frac)\n",
    "fcen = n_cent/n_halos\n",
    "print(\"fcen is (fraction of halos occupied with central galaxies):\", fcen)"
   ]
  },
  {
   "cell_type": "code",
   "execution_count": 15,
   "metadata": {},
   "outputs": [
    {
     "data": {
      "text/plain": [
       "(2.9593134023276204, 0.8010417964485471, 5.957923667651862)"
      ]
     },
     "execution_count": 15,
     "metadata": {},
     "output_type": "execute_result"
    }
   ],
   "source": [
    "# mean halo mass of halos where satellites live is higher than where centrals live. That is because centrals are more visible. \n",
    "halo_mass_all.mean()/10**(13), halo_mass_cent.mean()/10**(13), halo_mass_sat.mean()/10**(13)"
   ]
  },
  {
   "cell_type": "code",
   "execution_count": 16,
   "metadata": {},
   "outputs": [
    {
     "data": {
      "text/plain": [
       "8.12661045845743"
      ]
     },
     "execution_count": 16,
     "metadata": {},
     "output_type": "execute_result"
    }
   ],
   "source": [
    "halo_mass_all.std()/10**(13)"
   ]
  },
  {
   "cell_type": "code",
   "execution_count": 17,
   "metadata": {},
   "outputs": [],
   "source": [
    "# create unique halo catalog of halos occupied by at least one redmagic galaxy:\n",
    "halo_cat = {}\n",
    "halo_cat['ids'], index_halo_unique = np.unique(halo_id_all, return_index=True)\n",
    "halo_cat['mass'] = halo_mass_all[index_halo_unique]\n",
    "halo_cat['redshift'] = redshift_all[index_halo_unique]"
   ]
  },
  {
   "cell_type": "code",
   "execution_count": 18,
   "metadata": {},
   "outputs": [
    {
     "data": {
      "text/plain": [
       "array([2.24899073e+12, 1.59838097e+12, 1.74286555e+12, ...,\n",
       "       1.87519578e+13, 1.87805825e+13, 2.35028231e+12])"
      ]
     },
     "execution_count": 18,
     "metadata": {},
     "output_type": "execute_result"
    }
   ],
   "source": [
    "halo_cat['mass']"
   ]
  },
  {
   "cell_type": "code",
   "execution_count": 19,
   "metadata": {},
   "outputs": [
    {
     "name": "stdout",
     "output_type": "stream",
     "text": [
      "The number of halos in cosmodc2 is: 81692848\n"
     ]
    }
   ],
   "source": [
    "# create unique halo catalog of all halos in cosmodc2\n",
    "halo_cat_full = {}\n",
    "if zbin == 'bin1': \n",
    "    zbin_halos = (halo_all['redshift']>0.15) & (halo_all['redshift']<0.3)\n",
    "if zbin == 'bin2': \n",
    "    zbin_halos = (halo_all['redshift']>0.30) & (halo_all['redshift']<0.45)\n",
    "if zbin == 'bin3': \n",
    "    zbin_halos = (halo_all['redshift']>0.45) & (halo_all['redshift']<0.6)\n",
    "if zbin == 'bin4': \n",
    "    zbin_halos = (halo_all['redshift']>0.60) & (halo_all['redshift']<0.75)\n",
    "if zbin == 'bin5': \n",
    "    zbin_halos = (halo_all['redshift']>0.75) & (halo_all['redshift']<0.90)\n",
    "       \n",
    "halo_cat_full['ids'], index_halo_unique = np.unique(halo_all['halo_id'][zbin_halos], return_index=True)\n",
    "halo_cat_full['mass'] = halo_all['halo_mass'][zbin_halos][index_halo_unique]\n",
    "\n",
    "n_halos_cosmodc2 = len(np.unique(halo_all['halo_id'][zbin_halos]))\n",
    "print(\"The number of halos in cosmodc2 is:\", n_halos_cosmodc2)"
   ]
  },
  {
   "cell_type": "code",
   "execution_count": null,
   "metadata": {},
   "outputs": [],
   "source": [
    "plt.figure(figsize = (9,6))\n",
    "nbins = 20\n",
    "bins = np.logspace(np.log10(halo_cat['mass'].min()), np.log10(halo_cat['mass'].max()), nbins)\n",
    "#bins = np.logspace(np.log10(5*10**9), np.log10(1.15*10**16), nbins)\n",
    "counts_allgals, _, _= plt.hist(halo_mass_all, label = 'redMaGiC all gals', bins = bins, log= True, alpha = 0.4)\n",
    "counts_cent, _, _ = plt.hist(halo_mass_cent, label = 'redMaGiC centrals', bins = bins, log = True, alpha = 0.3)\n",
    "counts_sat, _, _= plt.hist(halo_mass_sat, label = 'redMaGiC satellites', bins = bins, log= True, alpha = 0.3)\n",
    "counts_uniquehalos, _, _  = plt.hist(halo_cat['mass'], label = 'Unique halos', bins = bins, alpha = 0.3, histtype = 'step', color = 'k')\n",
    "counts_uniquehalos_cosmodc2, _, _  = plt.hist(halo_cat_full['mass'], label = 'Unique halos (all cosmodc2)', bins = bins, alpha = 0.3, histtype = 'step', color = 'red')\n",
    "plt.xlabel('Halo mass')\n",
    "plt.legend()\n",
    "plt.xscale('log') \n",
    "plt.yscale('log')"
   ]
  },
  {
   "cell_type": "code",
   "execution_count": null,
   "metadata": {},
   "outputs": [],
   "source": [
    "print(np.log10(halo_cat['mass'].min()), np.log10(halo_cat['mass'].max()))\n",
    "print(np.log10(5*10**10), np.log10(1.15*10**15))"
   ]
  },
  {
   "cell_type": "markdown",
   "metadata": {},
   "source": [
    "### Plot the number of galaxies divided by the total number of halos in CosmoDC2"
   ]
  },
  {
   "cell_type": "code",
   "execution_count": null,
   "metadata": {},
   "outputs": [],
   "source": [
    "plt.figure(figsize = (8,6))\n",
    "bins_centers = np.sqrt(bins[1:] * bins[:-1]) #geometric mean\n",
    "plt.plot(bins_centers, counts_allgals/counts_uniquehalos_cosmodc2, label = 'N(redMaGiC all gals)') #, color = 'blue' )\n",
    "plt.plot(bins_centers, counts_cent/counts_uniquehalos_cosmodc2, label = 'N(redMaGiC centrals)' )#, color = 'orange' )\n",
    "plt.plot(bins_centers, counts_sat/counts_uniquehalos_cosmodc2, label =  'N(redMaGiC satellites)')#, color = 'green')\n",
    "#plt.axhline(y=fcen_2, color= 'black', ls = ':', label = 'fcen=%0.2f'%fcen )\n",
    "plt.xlabel('Halo mass')\n",
    "plt.legend(frameon=False)\n",
    "plt.xscale('log') \n",
    "plt.yscale('log')"
   ]
  },
  {
   "cell_type": "code",
   "execution_count": null,
   "metadata": {},
   "outputs": [],
   "source": [
    "bins_centers"
   ]
  },
  {
   "cell_type": "code",
   "execution_count": null,
   "metadata": {},
   "outputs": [],
   "source": [
    "#centrals_with_satellites = np.in1d(halo_id_cent, halo_id_sat)\n",
    "#print(\"Fraction of central galaxies that have satellite galaxies:\", centrals_with_satellites.sum()/n_cent)\n",
    "#satellites_with_a_central = np.in1d(halo_id_sat, halo_id_cent)\n",
    "#print(\"Fraction of satellite galaxies that have a central galaxy:\", satellites_with_a_central.sum()/n_sat)\n",
    "#halo_ids_halos_with_both_centrals_and_satellites= []\n",
    "#halo_ids_halos_with_both_centrals_and_satellites.extend(halo_id_cent[centrals_with_satellites])\n",
    "#halo_ids_halos_with_both_centrals_and_satellites.extend(halo_id_sat[satellites_with_a_central])\n",
    "#print(\"Fraction of halos that host at least one redmagic galaxy and that are occupied by both centrals and satellites:\", len(np.unique(halo_ids_halos_with_both_centrals_and_satellites))/n_tot)"
   ]
  },
  {
   "cell_type": "markdown",
   "metadata": {},
   "source": [
    "## Fitting the HOD parameters"
   ]
  },
  {
   "cell_type": "code",
   "execution_count": null,
   "metadata": {},
   "outputs": [],
   "source": [
    "from scipy.optimize import curve_fit\n",
    "from scipy.interpolate import interp1d\n",
    "import scipy"
   ]
  },
  {
   "cell_type": "code",
   "execution_count": null,
   "metadata": {},
   "outputs": [],
   "source": [
    "halo_mass = bins_centers\n",
    "N_cent = counts_cent/counts_uniquehalos_cosmodc2\n",
    "N_sat = counts_sat/counts_uniquehalos_cosmodc2"
   ]
  },
  {
   "cell_type": "code",
   "execution_count": null,
   "metadata": {},
   "outputs": [],
   "source": [
    "N_sat"
   ]
  },
  {
   "cell_type": "code",
   "execution_count": null,
   "metadata": {},
   "outputs": [],
   "source": [
    "N_cent"
   ]
  },
  {
   "cell_type": "markdown",
   "metadata": {},
   "source": [
    "### Fit each of the lines separately"
   ]
  },
  {
   "cell_type": "code",
   "execution_count": null,
   "metadata": {},
   "outputs": [],
   "source": [
    "# see example from https://stackoverflow.com/questions/51906152/fitting-two-sets-of-data-with-two-different-model-functions-simultaneously-givin\n",
    "if zbin == 'bin1':\n",
    "    nstart = 2 \n",
    "    ncut_cent=0\n",
    "if zbin == 'bin2':  \n",
    "    nstart = 3\n",
    "    ncut_cent=0\n",
    "if zbin == 'bin3':  \n",
    "    nstart = 3\n",
    "    ncut_cent=0\n",
    "if zbin == 'bin4':  \n",
    "    nstart = 2\n",
    "    ncut_cent=0\n",
    "if zbin == 'bin5':  \n",
    "    nstart = 1\n",
    "    ncut_cent=1\n",
    "    \n",
    "if ncut_cent>0:\n",
    "    y1 = np.log10(N_cent[:-ncut_cent])\n",
    "else:\n",
    "    y1 = np.log10(N_cent)\n",
    "y2 = np.log10(N_sat[nstart:])\n",
    "comboY = np.append(y1, y2)\n",
    "\n",
    "if ncut_cent>0:\n",
    "    x1 = halo_mass[:-ncut_cent]\n",
    "else:\n",
    "    x1 = halo_mass\n",
    "x2 = halo_mass[nstart:]\n",
    "comboX = np.append(x1, x2)\n",
    "\n",
    "if len(y1) != len(x1):\n",
    "    raise(Exception('Unequal x1 and y1 data length'))\n",
    "if len(y2) != len(x2):\n",
    "    raise(Exception('Unequal x2 and y2 data length'))\n",
    "    \n",
    "    \n",
    "def function1(Mh, Mmin, sigma_logM, fcen, M1, alpha): #  not all parameters are used here, some are shared\n",
    "    \"\"\"\n",
    "    Number of central galaxies, based on HOD, for single Halo mass\n",
    "    input\n",
    "    \"\"\"\n",
    "    centrals = 0.5 * fcen * (1. + scipy.special.erf( (np.log10(Mh)-np.log10(Mmin))/sigma_logM) )\n",
    "    return np.log10(centrals)\n",
    "\n",
    "def function2(Mh, Mmin, sigma_logM, fcen, M1, alpha):\n",
    "    \"\"\"\n",
    "    Number of central galaxies, based on HOD, for single Halo mass\n",
    "    input\n",
    "    \"\"\"\n",
    "    nc = 0.5 * fcen * (1. + scipy.special.erf( (np.log10(Mh)-np.log10(Mmin))/sigma_logM) )\n",
    "    satellites = nc * (Mh/M1)**alpha\n",
    "    return np.log10(satellites)\n",
    "\n",
    "\n",
    "    \n",
    "def combinedFunction(comboData, Mmin, sigma_logM, fcen, M1, alpha):\n",
    "    # single data reference passed in, extract separate data\n",
    "    extract1 = comboData[:len(x1)] # first data\n",
    "    extract2 = comboData[len(x1):] # second data\n",
    "\n",
    "    result1 = function1(extract1, Mmin, sigma_logM, fcen, M1, alpha)\n",
    "    result2 = function2(extract2, Mmin, sigma_logM, fcen, M1, alpha)\n",
    "\n",
    "    return np.append(result1, result2)\n",
    "\n",
    "\n",
    "# some initial parameter values\n",
    "Mmin_0 = 10**12\n",
    "simga_logM_0 = 0.3\n",
    "fcen_0 = 0.2\n",
    "M1_0 = 10**13\n",
    "alpha_0 = 1.\n",
    "\n",
    "initialParameters = np.array([Mmin_0,simga_logM_0, fcen_0, M1_0, alpha_0])\n",
    "\n",
    "# curve fit the combined data to the combined function\n",
    "fittedParameters, pcov = curve_fit(combinedFunction, comboX, comboY, initialParameters, maxfev = 100000)\n",
    "\n",
    "# values for display of fitted function\n",
    "Mmin_fit, sigma_logM_fit, fcen_fit, M1_fit, alpha_fit = fittedParameters\n",
    "\n",
    "y_fit_1 = function1(x1, Mmin_fit, sigma_logM_fit, fcen_fit, M1_fit, alpha_fit) # first data set, first equation\n",
    "y_fit_2 = function2(x2, Mmin_fit, sigma_logM_fit, fcen_fit, M1_fit, alpha_fit) # second data set, second equation\n",
    "\n",
    "# Total profile: ⟨N (Mh )⟩ = ⟨Nc (Mh )⟩ + ⟨Ns (Mh )⟩\n",
    "if ncut_cent>0:\n",
    "    y_fit_1_sameshape = np.array( list(10**y_fit_1) + [0]*ncut_cent)\n",
    "else:\n",
    "    y_fit_1_sameshape = 10**y_fit_1\n",
    "y_fit_2_sameshape = np.array([0]*nstart + list(10**y_fit_2))\n",
    "y_total_nolog = y_fit_1_sameshape + y_fit_2_sameshape\n",
    "\n",
    "# interpolate total profile\n",
    "N_total = interp1d(halo_mass, y_total_nolog, kind='linear', axis=- 1, copy=True, bounds_error=None, assume_sorted=False)\n",
    "\n",
    "print('Mmin = %0.2e, sigma_logM = %0.2f, fcen = %0.2f, M1 = %0.2e, alpha = %0.2f'%(Mmin_fit, sigma_logM_fit, fcen_fit, M1_fit, alpha_fit))"
   ]
  },
  {
   "cell_type": "code",
   "execution_count": null,
   "metadata": {},
   "outputs": [],
   "source": [
    "def N_total_function(Mh):\n",
    "    \"\"\"\n",
    "    Total HOD.\n",
    "    \"\"\"\n",
    "    cent = function1(Mh, Mmin_fit, sigma_logM_fit, fcen_fit, M1_fit, alpha_fit)\n",
    "    sat = function2(Mh, Mmin_fit, sigma_logM_fit, fcen_fit, M1_fit, alpha_fit)\n",
    "    return 10**cent + 10**sat"
   ]
  },
  {
   "cell_type": "code",
   "execution_count": null,
   "metadata": {},
   "outputs": [],
   "source": [
    "perr = np.sqrt(np.diag(pcov))\n",
    "np.array([np.log10(Mmin_fit), sigma_logM_fit, fcen_fit, np.log10(M1_fit), alpha_fit])\n",
    "np.savetxt('../HOD_pars/hod_pars_err_%s.txt'%zbin, np.c_[fittedParameters, perr], header = 'Best-fit, err [Mmin, sigma_logM, fcen, M1, alpha', fmt = '%0.3g')"
   ]
  },
  {
   "cell_type": "code",
   "execution_count": null,
   "metadata": {},
   "outputs": [],
   "source": [
    "plt.figure(figsize = (7,5))\n",
    "plt.plot(x1, 10**y1, 'o', color = 'firebrick', label = 'Centrals') # plot the raw data\n",
    "plt.plot(x2, 10**y2, 'o', color = 'green', label = 'Satellites') # plot the raw data\n",
    "plt.plot(x1, 10**y_fit_1, color = 'firebrick') # plot the equation using the fitted parameters\n",
    "plt.plot(x2, 10**y_fit_2, color = 'g') # plot the equation using the fitted parameters\n",
    "plt.plot(halo_mass, y_total_nolog, color = 'k', lw = 2) # plot the equation using the fitted parameters\n",
    "#plt.plot(x1, N_total(x1), color = 'gray', lw= 0.5)\n",
    "m_arr = np.geomspace(10**10,10**15,128)\n",
    "#Numgal = N_total(m_arr)\n",
    "plt.plot(m_arr, N_total_function(m_arr), 'orange', ls = '--')\n",
    "#plt.plot(m_arr, Numgal, color = 'w', lw = 0.5)\n",
    "plt.xscale('log')\n",
    "plt.yscale('log')\n",
    "plt.ylabel('$<N>$')\n",
    "plt.xlabel ('Halo Mass [$M_\\odot$]')\n",
    "if zbin == 'bin1':\n",
    "    plt.title('cosmoDC2 redMaGiC HighDens $0.15< z< 0.3$')\n",
    "if zbin == 'bin2':\n",
    "    plt.title('cosmoDC2 redMaGiC HighDens $0.30< z< 0.45$')\n",
    "if zbin == 'bin3':\n",
    "    plt.title('cosmoDC2 redMaGiC HighDens $0.45< z< 0.60$')\n",
    "if zbin == 'bin4':\n",
    "    plt.title('cosmoDC2 redMaGiC HighDens $0.60< z< 0.75$')\n",
    "if zbin == 'bin5':\n",
    "    plt.title('cosmoDC2 redMaGiC HighDens $0.75< z< 0.90$')\n",
    "plt.axhline(y = fcen_fit, label = '$f_{cen} = %0.2f$'%fcen_fit, ls = ':', color  = 'k')\n",
    "plt.legend(frameon=False)\n",
    "plt.savefig('../plots/HOD_%s.png'%zbin, dpi = 300)\n",
    "plt.show()\n",
    "np.savetxt('../HOD_pars/profile_%s.txt'%zbin, np.c_[halo_mass, y_fit_1_sameshape, y_fit_2_sameshape, y_total_nolog, N_total(halo_mass)], header = 'Halo Mass(Solar Units), Centrals(data), Satellites(Data), Total(Data), Total(Theory Fit)' )"
   ]
  },
  {
   "cell_type": "code",
   "execution_count": null,
   "metadata": {},
   "outputs": [],
   "source": [
    "print('Log(Mmin) = %0.2f, sigma_logM = %0.2f, fcen = %0.2f, Log(M1) = %0.2f, alpha = %0.2f'%(np.log10(Mmin_fit), sigma_logM_fit, fcen_fit, np.log10(M1_fit), alpha_fit))\n",
    "np.savetxt('../HOD_pars/hod_pars_%s.txt'%zbin, np.array([np.log10(Mmin_fit), sigma_logM_fit, fcen_fit, np.log10(M1_fit), alpha_fit]), header = 'Log(Mmin), sigma_logM, fcen, Log(M1), alpha', fmt = '%0.3f')"
   ]
  },
  {
   "cell_type": "markdown",
   "metadata": {},
   "source": [
    "## Try to do the same but with CCL HOD modeling"
   ]
  },
  {
   "cell_type": "raw",
   "metadata": {},
   "source": [
    "\"\"\"\n",
    "# see https://ccl.readthedocs.io/en/latest/api/pyccl.halos.profiles.html#pyccl.halos.profiles.HaloProfileHOD\n",
    "y1 = np.log10(N_cent)\n",
    "y2 = np.log10(N_sat[5:])\n",
    "comboY = np.append(y1, y2)\n",
    "\n",
    "x1 = halo_mass\n",
    "x2 = halo_mass[5:] # in order to not have to use heavyside function\n",
    "comboX = np.append(x1, x2)\n",
    "\n",
    "if len(y1) != len(x1):\n",
    "    raise(Exception('Unequal x1 and y1 data length'))\n",
    "if len(y2) != len(x2):\n",
    "    raise(Exception('Unequal x2 and y2 data length'))\n",
    "    \n",
    "    \n",
    "def function1(Mh, Mmin, M0, sigma_logM, fcen, M1, alpha): #  not all parameters are used here, some are shared\n",
    "\n",
    "    centrals = 0.5 * fcen * (1. + scipy.special.erf( (np.log10(Mh)-np.log10(Mmin))/sigma_logM) )\n",
    "    return np.log10(centrals)\n",
    "\n",
    "def function2(Mh, Mmin, M0, sigma_logM, fcen, M1, alpha):\n",
    "\n",
    "    nc = 0.5 * (1. + scipy.special.erf( (np.log10(Mh)-np.log10(Mmin))/sigma_logM) ) \n",
    "    satellites = nc * (np.fabs(Mh-M0)/M1)**alpha\n",
    "    return np.heaviside(Mh-M0, 1)*np.log10(satellites)\n",
    "    \n",
    "def combinedFunction(comboData, Mmin, M0, sigma_logM, fcen, M1, alpha):\n",
    "    # single data reference passed in, extract separate data\n",
    "    extract1 = comboData[:len(x1)] # first data\n",
    "    extract2 = comboData[len(x1):] # second data\n",
    "\n",
    "    result1 = function1(extract1, Mmin, M0, sigma_logM, fcen, M1, alpha)\n",
    "    result2 = function2(extract2, Mmin, M0, sigma_logM, fcen, M1, alpha)\n",
    "\n",
    "    return np.append(result1, result2)\n",
    "\n",
    "\n",
    "# some initial parameter values\n",
    "Mmin_0 = 10**12\n",
    "M0_0 = 10**12\n",
    "sigma_logM_0 = 0.3\n",
    "fcen_0 = 0.2\n",
    "M1_0 = 10**13\n",
    "alpha_0 = 1.\n",
    "\n",
    "initialParameters = np.array([Mmin_0, M0_0, sigma_logM_0, fcen_0, M1_0, alpha_0])\n",
    "\n",
    "# curve fit the combined data to the combined function\n",
    "fittedParameters, pcov = curve_fit(combinedFunction, comboX, comboY, initialParameters, maxfev = 100000)\n",
    "\n",
    "# values for display of fitted function\n",
    "Mmin_fit, M0_fit, sigma_logM_fit, fcen_fit, M1_fit, alpha_fit = fittedParameters\n",
    "\n",
    "y_fit_1 = function1(x1, Mmin_fit, M0_fit, sigma_logM_fit, fcen_fit, M1_fit, alpha_fit) # first data set, first equation\n",
    "y_fit_2 = function2(x2, Mmin_fit, M0_fit, sigma_logM_fit, fcen_fit, M1_fit, alpha_fit) # second data set, second equation\n",
    "\n",
    "\n",
    "\n",
    "print('Mmin = %0.2e, M0 = %0.2e, sigma_logM = %0.2f, fcen = %0.2f, M1 = %0.2e, alpha = %0.2f'%(Mmin_fit,  M0_fit, sigma_logM_fit, fcen_fit, M1_fit, alpha_fit))\n",
    "\n",
    "plt.figure(figsize = (7,5))\n",
    "plt.plot(x1, 10**y1, 'o', color = 'firebrick', label = 'Centrals') # plot the raw data\n",
    "plt.plot(x2, 10**y2, 'o', color = 'green', label = 'Satellites') # plot the raw data\n",
    "plt.plot(x1, 10**y_fit_1, color = 'firebrick') # plot the equation using the fitted parameters\n",
    "plt.plot(x2, 10**y_fit_2, color = 'g') # plot the equation using the fitted parameters\n",
    "plt.xscale('log')\n",
    "plt.yscale('log')\n",
    "plt.ylabel('$<N>$')\n",
    "plt.xlabel ('Halo Mass [$M_\\odot$]')\n",
    "plt.title('cosmoDC2 redMaGiC HighDens $0.15< z< 0.3$')\n",
    "plt.axhline(y = fcen_fit, label = '$f_{cen} = %0.2f$'%fcen_fit, ls = ':', color  = 'k')\n",
    "plt.legend(frameon=False)\n",
    "plt.show()\n",
    "print('Log(Mmin) = %0.2f, Log(M0) = %0.2f, sigma_logM = %0.2f, fcen = %0.2f, Log(M1) = %0.2f, alpha = %0.2f'%(np.log10(Mmin_fit), np.log10(M0_fit), sigma_logM_fit, fcen_fit, np.log10(M1_fit), alpha_fit))\n",
    "\"\"\""
   ]
  },
  {
   "cell_type": "markdown",
   "metadata": {},
   "source": [
    "# Get galaxy bias from HOD parameters"
   ]
  },
  {
   "cell_type": "code",
   "execution_count": null,
   "metadata": {},
   "outputs": [],
   "source": [
    "import pyccl as ccl\n",
    "import numpy as np\n",
    "\n",
    "# see https://github.com/LSSTDESC/CCLX/blob/master/Halo-mass-function-example.ipynb for examples "
   ]
  },
  {
   "cell_type": "raw",
   "metadata": {},
   "source": [
    "# Cosmology\n",
    "cosmo = ccl.Cosmology(Omega_c=0.2199999, Omega_b=0.0448, h=0.71, n_s=0.963, sigma8=0.8, \n",
    "                        A_s=None, Omega_k=0.0, Omega_g=None, Neff=3.046, w0=-1.0, wa=0.0, \n",
    "                        T_CMB=None, bcm_log10Mc=14.07918, bcm_etab=0.5, bcm_ks=55.0, mu_0=0.0, \n",
    "                        sigma_0=0.0, c1_mg=1.0, c2_mg=1.0, lambda_mg=0.0, m_nu=0.0, m_nu_type=None, \n",
    "                        z_mg=None, df_mg=None, transfer_function='boltzmann_camb', matter_power_spectrum='halofit', \n",
    "                        baryons_power_spectrum='nobaryons', mass_function='tinker10', halo_concentration='duffy2008', \n",
    "                        emulator_neutrinos='strict')\n",
    "\"\"\"\n",
    "#changing sigma8\n",
    "cosmo2 = ccl.Cosmology(Omega_c=0.2199999, Omega_b=0.0448, h=0.71, n_s=0.963, sigma8=0.7, \n",
    "                        A_s=None, Omega_k=0.0, Omega_g=None, Neff=3.046, w0=-1.0, wa=0.0, \n",
    "                        T_CMB=None, bcm_log10Mc=14.07918, bcm_etab=0.5, bcm_ks=55.0, mu_0=0.0, \n",
    "                        sigma_0=0.0, c1_mg=1.0, c2_mg=1.0, lambda_mg=0.0, m_nu=0.0, m_nu_type=None, \n",
    "                        z_mg=None, df_mg=None, transfer_function='boltzmann_camb', matter_power_spectrum='halofit', \n",
    "                        baryons_power_spectrum='nobaryons', mass_function='tinker10', halo_concentration='duffy2008', \n",
    "                        emulator_neutrinos='strict')\n",
    "#changing omega_m\n",
    "cosmo3 = ccl.Cosmology(Omega_c=0.27, Omega_b=0.0448, h=0.71, n_s=0.963, sigma8=0.8, \n",
    "                        A_s=None, Omega_k=0.0, Omega_g=None, Neff=3.046, w0=-1.0, wa=0.0, \n",
    "                        T_CMB=None, bcm_log10Mc=14.07918, bcm_etab=0.5, bcm_ks=55.0, mu_0=0.0, \n",
    "                        sigma_0=0.0, c1_mg=1.0, c2_mg=1.0, lambda_mg=0.0, m_nu=0.0, m_nu_type=None, \n",
    "                        z_mg=None, df_mg=None, transfer_function='boltzmann_camb', matter_power_spectrum='halofit', \n",
    "                        baryons_power_spectrum='nobaryons', mass_function='tinker10', halo_concentration='duffy2008', \n",
    "                        emulator_neutrinos='strict')\n",
    "\"\"\"\n",
    "# Array of masses\n",
    "m_arr = np.geomspace(1E10,1E15,128)\n",
    "\n",
    "# Array of redshifts\n",
    "z_arr = np.linspace(0.,1.,16)"
   ]
  },
  {
   "cell_type": "markdown",
   "metadata": {},
   "source": [
    "## Try to do the whole integration with CCL"
   ]
  },
  {
   "cell_type": "raw",
   "metadata": {},
   "source": [
    "z = 0.25\n",
    "k_small = 1E-4\n",
    "a = 1./(1+z)\n",
    "\n",
    "# concentration relation\n",
    "#c_M_relation = ccl.halos.concentration.ConcentrationBhattacharya13()\n",
    "c_M_relation = ccl.halos.concentration.ConcentrationConstant(c=1, mdef=None)\n",
    "\n",
    "# halo mass function\n",
    "massfunc=ccl.halos.MassFuncTinker10(cosmo)\n",
    "\n",
    "# mass definition\n",
    "# FoF mass definition\n",
    "mass_def = ccl.halos.MassDef('fof', 'matter')\n",
    "\n",
    "# halo bias\n",
    "hbias = ccl.halos.hbias.HaloBiasTinker10(cosmo, mass_def='fof', mass_def_strict=True)\n",
    "\n",
    "# Halo model calculator\n",
    "hmc = ccl.halos.halo_model.HMCalculator(cosmo, massfunc, hbias, mass_def, log10M_min=8.0, log10M_max=16.0, nlog10M=128, integration_method_M='simpson', k_min=1e-05)\n",
    "\n",
    "\n",
    "prof = ccl.halos.HaloProfileHOD(c_M_relation, \n",
    "                                lMmin_0=np.log10(Mmin_fit), lMmin_p=0.0, \n",
    "                                siglM_0=sigma_logM_fit, siglM_p=0.0, \n",
    "                                lM0_0=np.log10(M0_fit), lM0_p=0.0, \n",
    "                                lM1_0=np.log10(M1_fit), lM1_p=0.0, \n",
    "                                alpha_0=alpha_fit, alpha_p=0.0, \n",
    "                                fc_0=fcen_fit, fc_p=0.0, \n",
    "                                bg_0=1.0, bg_p=0.0, bmax_0=1.0, bmax_p=0.0, a_pivot=1.0)\n",
    "                                \n",
    "# get the large scale bias using a small k number. This doesn't work for fof masses. \n",
    "# see https://ccl.readthedocs.io/en/latest/api/pyccl.halos.halo_model.html?highlight=halos.halomod_bias_1pt#pyccl.halos.halo_model.halomod_bias_1pt\n",
    "b = ccl.halos.halomod_bias_1pt(cosmo, hmc, k_small, a, prof, normprof=True)"
   ]
  },
  {
   "cell_type": "raw",
   "metadata": {},
   "source": [
    "plt.figure()\n",
    "cosmos = [cosmo1, cosmo2, cosmo3 ]\n",
    "ls = ['-', '--', ':']\n",
    "colors = ['firebrick', 'tomato', 'orange', 'powderblue', 'teal', 'k']\n",
    "for i, cosmo in enumerate(cosmos):\n",
    "    hmfs = []\n",
    "    # Press & Schechter mass function\n",
    "    hmfs.append(ccl.halos.MassFuncPress74(cosmo))\n",
    "\n",
    "    # Sheth & Tormen mass function\n",
    "    hmfs.append(ccl.halos.MassFuncSheth99(cosmo))\n",
    "\n",
    "    # Tinker 2008 mass function\n",
    "    hmfs.append(ccl.halos.MassFuncTinker08(cosmo))\n",
    "\n",
    "    # Tinker 2010 mass function\n",
    "    hmfs.append(ccl.halos.MassFuncTinker10(cosmo))\n",
    "\n",
    "    # Bocquet 2016 mass function\n",
    "    hmfs.append(ccl.halos.MassFuncBocquet16(cosmo))\n",
    "\n",
    "    # Let's plot all of them at z=0\n",
    "\n",
    "    for j, mf in enumerate(hmfs):\n",
    "        nm = mf.get_mass_function(cosmo, m_arr, 1.)\n",
    "        if i==0:\n",
    "            plt.plot(m_arr, m_arr * nm, label=mf.name, ls = ls[i], color = colors[j])\n",
    "        else:\n",
    "            plt.plot(m_arr, m_arr * nm, ls = ls[i], color = colors[j])\n",
    "plt.xscale('log')\n",
    "plt.ylim([1E9,8.5E9])\n",
    "plt.legend()\n",
    "plt.xlabel(r'$M/M_\\odot$', fontsize=14)\n",
    "plt.ylabel(r'$M\\,\\frac{dn}{d\\log_{10}M}\\,[M_\\odot\\,{\\rm Mpc}^{-3}]$',\n",
    "           fontsize=14);"
   ]
  },
  {
   "cell_type": "markdown",
   "metadata": {},
   "source": [
    "## Try to do the galaxy bias integration myself, using some CCL functions, with FOF masses"
   ]
  },
  {
   "cell_type": "code",
   "execution_count": null,
   "metadata": {},
   "outputs": [],
   "source": [
    "import pyccl as ccl\n",
    "import numpy as np\n",
    "z = 0.25\n",
    "k_small = 1E-4\n",
    "a = 1./(1+z)\n",
    "\n",
    "# Array of masses\n",
    "m_arr = np.geomspace(1E10,1E15,128)\n",
    "\n",
    "# Cosmology\n",
    "cosmo = ccl.Cosmology(Omega_c=0.2199999, Omega_b=0.0448, h=0.71, n_s=0.963, sigma8=0.8, \n",
    "                        A_s=None, Omega_k=0.0, Omega_g=None, Neff=3.046, w0=-1.0, wa=0.0, \n",
    "                        T_CMB=None, bcm_log10Mc=14.07918, bcm_etab=0.5, bcm_ks=55.0, mu_0=0.0, \n",
    "                        sigma_0=0.0, c1_mg=1.0, c2_mg=1.0, lambda_mg=0.0, m_nu=0.0, m_nu_type=None, \n",
    "                        z_mg=None, df_mg=None, transfer_function='boltzmann_camb', matter_power_spectrum='halofit', \n",
    "                        baryons_power_spectrum='nobaryons', mass_function='tinker10', halo_concentration='duffy2008', \n",
    "                        emulator_neutrinos='strict')\n"
   ]
  },
  {
   "cell_type": "code",
   "execution_count": null,
   "metadata": {},
   "outputs": [],
   "source": [
    "def ngal_hod(z, m_arr, hmf=None, fitted_function=None):\n",
    "    \"\"\"\n",
    "    Number density of galaxies, based on HOD modeling\n",
    "    input\n",
    "    -----\n",
    "    - z : redshift\n",
    "    output\n",
    "    ------\n",
    "    number density of galaxies, in Mpc^-3\n",
    "    \"\"\"\n",
    "\n",
    "    if hmf is not None:\n",
    "        # convert to scale factor\n",
    "        a = 1./(1+z)\n",
    "        dndlnM = hmf.get_mass_function(cosmo, m_arr, a, mdef_other=None) # mass function 𝑑𝑛/𝑑log10𝑀 in units of Mpc^-3 (comoving).\n",
    "        Numgal = N_total_function(m_arr)\n",
    "        integrand = Numgal*dndlnM\n",
    "    else:\n",
    "        integrand = fitted_function\n",
    "\n",
    "    # Do the integral in log spaced M\n",
    "    #n_g = integral(dlogM * dn/dlogM <N>)    \n",
    "        \n",
    "    return np.trapz(y=integrand, x=np.log10(m_arr))"
   ]
  },
  {
   "cell_type": "code",
   "execution_count": null,
   "metadata": {},
   "outputs": [],
   "source": [
    "def bgal_hod(z, m_arr, halo_bias, hmf=None, fitted_function=None):\n",
    "    \"\"\"\n",
    "    Calculates the galaxy bias, based on HOD modeling\n",
    "    input\n",
    "    -----\n",
    "    - z : redshift\n",
    "    output\n",
    "    ------\n",
    "    galaxy bias, dimensionless\n",
    "    \"\"\"\n",
    "    \n",
    "    # HOD profile: number of galaxies in halo from HOD\n",
    "    Numgal = N_total_function(m_arr)\n",
    "\n",
    "    # galaxy number density calculation\n",
    "    ngal = ngal_hod(z, m_arr, hmf=hmf, fitted_function=fitted_function)\n",
    "    \n",
    "    # convert to scale factor\n",
    "    a = 1./(1+z)\n",
    "        \n",
    "    # halo bias calculation\n",
    "    b_h = hbias.get_halo_bias(cosmo, m_arr, a, mdef_other=None)\n",
    "    \n",
    "    if hmf is not None:\n",
    "        # HMF calculation\n",
    "        dndlnM = hmf.get_mass_function(cosmo, m_arr, a, mdef_other=None) # mass function 𝑑𝑛/𝑑log10𝑀 in units of Mpc^-3 (comoving)\n",
    "        \n",
    "        # calculation of average galaxy bias\n",
    "        integrand = b_h * dndlnM * Numgal\n",
    "    else:\n",
    "        # note: fitted_function = dndlnM * Numgal\n",
    "        integrand = b_h * fitted_function\n",
    "\n",
    "    return np.trapz(y=integrand, x=np.log10(m_arr))/ngal"
   ]
  },
  {
   "cell_type": "raw",
   "metadata": {},
   "source": [
    "zs = np.linspace(0.45, 0.6, 10)\n",
    "bias  = []\n",
    "for z in zs:\n",
    "    bias.append(bgal_hod(z))"
   ]
  },
  {
   "cell_type": "raw",
   "metadata": {},
   "source": [
    "plt.plot(zs, bias)\n",
    "plt.xlabel('redshift')\n",
    "plt.ylabel('Galaxy bias from HOD')\n",
    "#plt.axhline(y=bgal_bin1, color = 'red')\n",
    "#plt.plot(zl, nzs[0]/5)\n",
    "#plt.xlim(0,0.5)\n",
    "#plt.title('1st redshift bin')"
   ]
  },
  {
   "cell_type": "markdown",
   "metadata": {},
   "source": [
    "## Get the galaxy bias averaged over the redshift distribution"
   ]
  },
  {
   "cell_type": "code",
   "execution_count": null,
   "metadata": {},
   "outputs": [],
   "source": [
    "def bgal_avg_hod(zl, nzl, m_arr, halo_bias, hmf=None, fitted_function=None):\n",
    "    \"\"\"\n",
    "    Calculates the redshift avereged galaxy bias,\n",
    "    based on HOD modeling,\n",
    "    averaged over the lens redshift distribution\n",
    "    ------\n",
    "    average galaxy bias, dimensionless\n",
    "    \"\"\"\n",
    "    # setup integrand\n",
    "    bgal_hod_zs = []\n",
    "    for i in range(len(zl)):\n",
    "        bgal_hod_zs.append(bgal_hod(zl[i], m_arr, halo_bias, hmf=hmf, fitted_function=fitted_function))\n",
    "    bgal_hod_zs = np.array(bgal_hod_zs)\n",
    "    \n",
    "    integrand = bgal_hod_zs * nzl\n",
    "\n",
    "    return np.trapz(y=integrand, x=zl)"
   ]
  },
  {
   "cell_type": "code",
   "execution_count": null,
   "metadata": {},
   "outputs": [],
   "source": [
    "dir = '/global/cscratch1/sd/jprat/TXPipe/data/cosmodc2/outputs_redmagic/2021/june/7sbins/'\n",
    "zl = np.loadtxt(dir + 'z_lens.txt')\n",
    "nzs = np.loadtxt(dir + 'nzs_lens.txt')"
   ]
  },
  {
   "cell_type": "code",
   "execution_count": null,
   "metadata": {},
   "outputs": [],
   "source": [
    "indexes = {'bin1': 0, 'bin2': 1, 'bin3': 2, 'bin4': 3, 'bin5': 4}\n",
    "print(indexes[zbin])\n",
    "m_arr = np.geomspace(halo_mass_all.min(),halo_mass_all.max(),128)\n",
    "#m_arr = np.geomspace(10**9,10**16,252)\n",
    "hmf = ccl.halos.hmfunc.MassFuncSheth99(cosmo, mass_def=None, mass_def_strict=True, use_delta_c_fit=False)\n",
    "\n",
    "hbias = ccl.halos.hbias.HaloBiasSheth01(cosmo, mass_def=None, mass_def_strict=True) #fof masses will be used by default\n",
    "bias_sheth = bgal_avg_hod(zl+(zl[2]-zl[1])/2., nzs[indexes[zbin]], m_arr, halo_bias=hbias, hmf=hmf)\n",
    "#print('bias_sheth', bias_sheth/0.7580968784936416)\n",
    "print('bias_sheth', bias_sheth)\n",
    "\n",
    "hbias = ccl.halos.hbias.HaloBiasBhattacharya11(cosmo, mass_def=None, mass_def_strict=True)#fof masses will be used by default\n",
    "bias_bhattacharya = bgal_avg_hod(zl+(zl[2]-zl[1])/2., nzs[indexes[zbin]], m_arr, halo_bias=hbias, hmf=hmf)\n",
    "#print('bias_bhattacharya', bias_bhattacharya/0.6915813923549738)\n",
    "print('bias_bhattacharya', bias_bhattacharya)\n",
    "\n",
    "np.savetxt('../HOD_pars/galaxy_bias_zbin_%s_hmfSheth99'%(indexes[zbin]+1), np.array([bias_sheth, bias_bhattacharya]), header = 'HaloBiasSheth01  HaloBiasBhattacharya11')"
   ]
  },
  {
   "cell_type": "markdown",
   "metadata": {},
   "source": [
    "## Check the redshift distribution"
   ]
  },
  {
   "cell_type": "code",
   "execution_count": null,
   "metadata": {},
   "outputs": [],
   "source": [
    "# Nz is half a bin off --> this is being propagated elsewhere in this notebook. \n",
    "plt.plot(zl+(zl[2]-zl[1])/2, 1.1*nzs[indexes[zbin]]*len(redshift_all)*(zl[2]-zl[1]))\n",
    "#plt.hist(halo_cat['redshift'], alpha = 0.3, bins = 30)\n",
    "plt.hist(redshift_all, alpha = 0.3, bins = 28)\n",
    "plt.xlim(zmin, zmax)"
   ]
  },
  {
   "cell_type": "code",
   "execution_count": null,
   "metadata": {},
   "outputs": [],
   "source": [
    "c = ['teal', 'powderblue', 'orange',  'cornflowerblue', 'tomato',  'gray']\n",
    "zbins_l = [0.15, 0.3, 0.45, 0.6, 0.75, 0.9]\n",
    "for i in range(5):\n",
    "    plt.plot(zl, nzs[i], color = c[i])\n",
    "    plt.axvspan(zbins_l[i], zbins_l[i+1], color = c[i], alpha = 0.2)"
   ]
  },
  {
   "cell_type": "markdown",
   "metadata": {},
   "source": [
    "## Get the mean halo mass"
   ]
  },
  {
   "cell_type": "code",
   "execution_count": null,
   "metadata": {},
   "outputs": [],
   "source": [
    "def mean_halo_mass(z, m_arr, hmf=None, fitted_function=None):\n",
    "\n",
    "    # galaxy number density calculation\n",
    "    ngal = ngal_hod(z, m_arr, hmf=hmf, fitted_function=fitted_function)\n",
    "    \n",
    "    # convert to scale factor\n",
    "    a = 1./(1+z)\n",
    "    \n",
    "    # HMF calculation\n",
    "    if hmf is not None:\n",
    "        dndlnM = hmf.get_mass_function(cosmo, m_arr, a, mdef_other=None) # mass function 𝑑𝑛/𝑑log10𝑀 in units of Mpc^-3 (comoving)\n",
    "        Numgal = N_total_function(m_arr)# HOD profile\n",
    "        integrand = m_arr * dndlnM * Numgal\n",
    "    else:\n",
    "        integrand = m_arr * fitted_function\n",
    "\n",
    "    return np.trapz(y=integrand, x=np.log10(m_arr))/ngal\n",
    "\n",
    "def mean_halo_mass_zavg(zl, nzl, m_arr, hmf=None, fitted_function=None):\n",
    "    \"\"\"\n",
    "    Calculates the redshift averaged halo mass.\n",
    "    \"\"\"\n",
    "    # setup integrand\n",
    "    halo_mass_zs = []\n",
    "    for i in range(len(zl)):\n",
    "        halo_mass_zs.append(mean_halo_mass(zl[i], m_arr, hmf=hmf, fitted_function=fitted_function))\n",
    "    halo_mass_zs = np.array(halo_mass_zs)\n",
    "    \n",
    "    integrand = halo_mass_zs * nzl\n",
    "\n",
    "    return np.trapz(y=integrand, x=zl)"
   ]
  },
  {
   "cell_type": "code",
   "execution_count": null,
   "metadata": {},
   "outputs": [],
   "source": [
    "# this is the mean mass of a halo where a redmagic galaxy lives (the catalog below has duplicates, i.e. some galaxies live in the same halo and this halo is counted twice in this catalog)\n",
    "halo_mass_all.mean()/10**(13), halo_mass_cent.mean()/10**(13), halo_mass_sat.mean()/10**(13)\n",
    "\n",
    "# this is the mean mass of the unique halos hosting a redmagic galaxy\n",
    "halo_cat['mass'].mean()"
   ]
  },
  {
   "cell_type": "code",
   "execution_count": null,
   "metadata": {},
   "outputs": [],
   "source": [
    "c = ['teal', 'powderblue', 'orange',  'cornflowerblue', 'tomato',  'gray']\n",
    "z = 0.5189374243460871\n",
    "a = 1./(1+z)\n",
    "factor = 10**7\n",
    "\n",
    "#m_arr = np.geomspace(1E10,3E15,128)\n",
    "\n",
    "m_arr = np.geomspace(10**9,10**16,252)\n",
    "hmf = ccl.halos.hmfunc.MassFuncSheth99(cosmo, mass_def=None, mass_def_strict=True, use_delta_c_fit=False)\n",
    "dndlnM = hmf.get_mass_function(cosmo, m_arr, a, mdef_other=None)\n",
    "plt.plot(m_arr, dndlnM*N_total_function(m_arr), label=hmf.name , color = c[0])\n",
    "halo_mass_result = mean_halo_mass_zavg(zl+(zl[2]-zl[1])/2., nzs[indexes[zbin]], m_arr, hmf=hmf)\n",
    "halo_mass_Sheth99 = halo_mass_result\n",
    "plt.axvline(x=halo_mass_result, ls = ':', color = c[0])\n",
    "plt.xscale('log')\n",
    "print(hmf.name, halo_mass_result)\n",
    "\n",
    "hmf = ccl.halos.hmfunc.MassFuncJenkins01(cosmo, mass_def=None, mass_def_strict=True)\n",
    "dndlnM = hmf.get_mass_function(cosmo, m_arr, a, mdef_other=None)\n",
    "plt.plot(m_arr, dndlnM*N_total_function(m_arr), label=hmf.name , color = c[1])\n",
    "halo_mass_result = mean_halo_mass_zavg(zl+(zl[2]-zl[1])/2., nzs[indexes[zbin]], m_arr, hmf=hmf)\n",
    "plt.axvline(x=halo_mass_result, ls = ':', color = c[1])\n",
    "plt.xscale('log')\n",
    "print(hmf.name, halo_mass_result)\n",
    "\n",
    "hmf = ccl.halos.hmfunc.MassFuncAngulo12(cosmo, mass_def=None, mass_def_strict=True)#default using FoF masses\n",
    "dndlnM = hmf.get_mass_function(cosmo, m_arr, a, mdef_other=None)\n",
    "plt.plot(m_arr, dndlnM*N_total_function(m_arr), label=hmf.name , color = c[2])\n",
    "halo_mass_result = mean_halo_mass_zavg(zl+(zl[2]-zl[1])/2., nzs[indexes[zbin]], m_arr, hmf=hmf)\n",
    "plt.axvline(x=halo_mass_result, ls = ':', color = c[2])\n",
    "plt.xscale('log')\n",
    "print(hmf.name, halo_mass_result)\n",
    "\n",
    "hmf = ccl.halos.hmfunc.MassFuncPress74(cosmo, mass_def=None, mass_def_strict=True)\n",
    "dndlnM = hmf.get_mass_function(cosmo, m_arr, a, mdef_other=None)\n",
    "plt.plot(m_arr, dndlnM*N_total_function(m_arr), label=hmf.name , color = c[3])\n",
    "halo_mass_result = mean_halo_mass_zavg(zl+(zl[2]-zl[1])/2., nzs[indexes[zbin]], m_arr, hmf=hmf)\n",
    "plt.axvline(x=halo_mass_result, ls = ':', color = c[3])\n",
    "plt.xscale('log')\n",
    "print(hmf.name, halo_mass_result)\n",
    "\n",
    "#plt.ylim([1E9,8.5E9])\n",
    "true_halo_mass = halo_mass_all.mean()\n",
    "print('True', true_halo_mass)\n",
    "\n",
    "nbins = 50\n",
    "bins = np.geomspace(1E10, 1E16, nbins)\n",
    "m_arr = np.geomspace(halo_mass_all.min(),halo_mass_all.max(),128)\n",
    "\n",
    "bins_centers = np.sqrt(bins[1:] * bins[:-1]) #geometric mean\n",
    "plt.axvline(x=halo_mass_all.mean(), label= 'Mean halo mass', ls = '-', color = 'gray')\n",
    "counts_allgals, _, _= plt.hist(halo_mass_all, label = 'redMaGiC all gals', bins = bins, log= True, alpha = 0.4, color = 'gray')\n",
    "cosmodc2_mass_function_redmagic_gals = interp1d(bins_centers, counts_allgals/factor, kind='linear', axis=- 1, copy=True, bounds_error=None, assume_sorted=False)\n",
    "m_arr = np.geomspace(halo_mass_all.min(),halo_mass_all.max(),128)\n",
    "\n",
    "plt.plot(m_arr, cosmodc2_mass_function_redmagic_gals(m_arr), color='k', label = 'Interpolated function')\n",
    "\n",
    "halo_mass_result = mean_halo_mass_zavg(zl+(zl[2]-zl[1])/2., nzs[indexes[zbin]], m_arr, fitted_function = cosmodc2_mass_function_redmagic_gals(m_arr))\n",
    "print('Interpolated function', halo_mass_result)\n",
    "halo_mass_fitted_function = halo_mass_result\n",
    "plt.axvline(x=halo_mass_result, ls = ':', color ='black')\n",
    "\n",
    "plt.legend()\n",
    "plt.xlabel(r'$M/M_\\odot$', fontsize=14)\n",
    "plt.ylabel(r'$<N>\\,\\frac{dn}{d\\log_{10}M}\\,[M_\\odot\\,{\\rm Mpc}^{-3}]$',fontsize=14)\n",
    "\n",
    "\n",
    "# get errorbar\n",
    "err =  halo_mass_all.std()/np.sqrt(len(halo_mass_all))\n",
    "print('Error on the mean', err)\n",
    "\n",
    "np.savetxt('../HOD_pars/mean_halo_mass_zbin_%s'%(indexes[zbin]+1), np.array([true_halo_mass/10**13, halo_mass_Sheth99/10**13, halo_mass_fitted_function/10**13, err/10**13]), header = 'True HMF_Sheth99  HMF_fitted_function Error_on_mean (all divied by 10**13)')"
   ]
  },
  {
   "cell_type": "markdown",
   "metadata": {},
   "source": [
    "## Get the galaxy bias using the fitted function above"
   ]
  },
  {
   "cell_type": "code",
   "execution_count": null,
   "metadata": {},
   "outputs": [],
   "source": [
    "indexes = {'bin1': 0, 'bin2': 1, 'bin3': 2, 'bin4': 3, 'bin5': 4}\n",
    "m_arr = np.geomspace(halo_mass_all.min(),halo_mass_all.max(),128)\n",
    "hmf = ccl.halos.hmfunc.MassFuncSheth99(cosmo, mass_def=None, mass_def_strict=True, use_delta_c_fit=False)\n",
    "\n",
    "hbias = ccl.halos.hbias.HaloBiasSheth01(cosmo, mass_def=None, mass_def_strict=True) #fof masses will be used by default\n",
    "bias_sheth = bgal_avg_hod(zl+(zl[2]-zl[1])/2., nzs[indexes[zbin]], m_arr, halo_bias=hbias, hmf=None, fitted_function = cosmodc2_mass_function_redmagic_gals(m_arr))\n",
    "#print('bias_sheth', bias_sheth/0.7580968784936416)\n",
    "print('bias_sheth', bias_sheth)\n",
    "\n",
    "hbias = ccl.halos.hbias.HaloBiasBhattacharya11(cosmo, mass_def=None, mass_def_strict=True)#fof masses will be used by default\n",
    "bias_bhattacharya = bgal_avg_hod(zl+(zl[2]-zl[1])/2., nzs[indexes[zbin]], m_arr, halo_bias=hbias, hmf=None, fitted_function = cosmodc2_mass_function_redmagic_gals(m_arr))\n",
    "#print('bias_bhattacharya', bias_bhattacharya/0.6915813923549738)\n",
    "print('bias_bhattacharya', bias_bhattacharya)\n",
    "\n",
    "hbias = ccl.halos.hbias.HaloBiasTinker10(cosmo, mass_def=None)\n",
    "bias_tinker = bgal_avg_hod(zl+(zl[2]-zl[1])/2., nzs[indexes[zbin]], m_arr, halo_bias=hbias, hmf=None, fitted_function = cosmodc2_mass_function_redmagic_gals(m_arr))\n",
    "print('bias_tinker', bias_tinker)\n",
    "\n",
    "np.savetxt('../HOD_pars/galaxy_bias_zbin_%s_hmffittedfunction'%(indexes[zbin]+1), np.array([bias_sheth, bias_bhattacharya, bias_tinker]), header = 'HaloBiasSheth01  HaloBiasBhattacharya11 HaloBiasThinker10')"
   ]
  },
  {
   "cell_type": "markdown",
   "metadata": {},
   "source": [
    "## Get standard deviation for halo mass"
   ]
  },
  {
   "cell_type": "code",
   "execution_count": null,
   "metadata": {},
   "outputs": [],
   "source": [
    "def squared_mean_halo_mass(z, m_arr, hmf=None, fitted_function=None):\n",
    "\n",
    "    # galaxy number density calculation\n",
    "    ngal = ngal_hod(z, m_arr, hmf=hmf, fitted_function=fitted_function)\n",
    "    \n",
    "    # convert to scale factor\n",
    "    a = 1./(1+z)\n",
    "    \n",
    "    # HMF calculation\n",
    "    if hmf is not None:\n",
    "        dndlnM = hmf.get_mass_function(cosmo, m_arr, a, mdef_other=None) # mass function 𝑑𝑛/𝑑log10𝑀 in units of Mpc^-3 (comoving)\n",
    "        Numgal = N_total_function(m_arr)# HOD profile\n",
    "        integrand = m_arr**2 * dndlnM * Numgal\n",
    "    else:\n",
    "        integrand = m_arr**2 * fitted_function\n",
    "\n",
    "    return np.trapz(y=integrand, x=np.log10(m_arr))/ngal\n",
    "\n",
    "def squared_mean_halo_mass_zavg(zl, nzl, m_arr, hmf=None, fitted_function=None):\n",
    "    \"\"\"\n",
    "    Calculates the redshift averaged halo mass.\n",
    "    \"\"\"\n",
    "    # setup integrand\n",
    "    halo_mass_zs = []\n",
    "    for i in range(len(zl)):\n",
    "        halo_mass_zs.append(squared_mean_halo_mass(zl[i], m_arr, hmf=hmf, fitted_function=fitted_function))\n",
    "    halo_mass_zs = np.array(halo_mass_zs)\n",
    "    \n",
    "    integrand = halo_mass_zs * nzl\n",
    "\n",
    "    return np.trapz(y=integrand, x=zl)\n",
    "\n",
    "def sigma_halo_mass(zl, nzl, m_arr, hmf=None, fitted_function=None):\n",
    "    mean_squared = squared_mean_halo_mass_zavg(zl, nzl, m_arr, hmf=hmf, fitted_function=fitted_function)\n",
    "    mean_mass = mean_halo_mass_zavg(zl, nzl, m_arr, hmf=hmf, fitted_function=fitted_function)\n",
    "    return np.sqrt(mean_squared - mean_mass**2)"
   ]
  },
  {
   "cell_type": "code",
   "execution_count": null,
   "metadata": {},
   "outputs": [],
   "source": [
    "indexes = {'bin1': 0, 'bin2': 1, 'bin3': 2, 'bin4': 3, 'bin5': 4}\n",
    "print(indexes[zbin])\n",
    "m_arr = np.geomspace(halo_mass_all.min(),halo_mass_all.max(),128)\n",
    "hmf = ccl.halos.hmfunc.MassFuncSheth99(cosmo, mass_def=None, mass_def_strict=True, use_delta_c_fit=False) #default using FoF masses\n",
    "\n",
    "std_true = halo_mass_all.std()/10**(13)\n",
    "std_Sheth99 = sigma_halo_mass(zl+(zl[2]-zl[1])/2., nzs[indexes[zbin]], m_arr, hmf=hmf)/10**13\n",
    "std_fitted_function = sigma_halo_mass(zl+(zl[2]-zl[1])/2., nzs[indexes[zbin]], m_arr, hmf = None, fitted_function = cosmodc2_mass_function_redmagic_gals(m_arr))/10**13\n",
    "print('True standard deviation:', std_true)\n",
    "print( 'Sigma with Sheth99 hmf:' , std_Sheth99)\n",
    "print( 'Sigma with fitted function:', std_fitted_function)\n",
    "\n",
    "\n",
    "np.savetxt('../HOD_pars/std_zbin_%s'%(indexes[zbin]+1), np.array([std_true, std_Sheth99, std_fitted_function]), header = 'True HMF_Sheth99  HMF_fitted_function (All divided by 10**13)')"
   ]
  },
  {
   "cell_type": "code",
   "execution_count": null,
   "metadata": {},
   "outputs": [],
   "source": [
    "zbin"
   ]
  },
  {
   "cell_type": "markdown",
   "metadata": {},
   "source": [
    "## Check normalization of the halo bias"
   ]
  },
  {
   "cell_type": "code",
   "execution_count": null,
   "metadata": {},
   "outputs": [],
   "source": [
    "def bias_norm(z, m_arr, halo_bias, hmf=None, fitted_function=None):\n",
    "    \"\"\"\n",
    "    Calculates the galaxy bias, based on HOD modeling\n",
    "    input\n",
    "    -----\n",
    "    - z : redshift\n",
    "    output\n",
    "    ------\n",
    "    galaxy bias, dimensionless\n",
    "    \"\"\"\n",
    "   \n",
    "    # convert to scale factor\n",
    "    a = 1./(1+z)\n",
    "        \n",
    "    # halo bias calculation\n",
    "    b_h = hbias.get_halo_bias(cosmo, m_arr, a, mdef_other=None)\n",
    "    \n",
    "    if hmf is not None:\n",
    "        # HMF calculation\n",
    "        dndlnM = hmf.get_mass_function(cosmo, m_arr, a, mdef_other=None) # mass function 𝑑𝑛/𝑑log10𝑀 in units of Mpc^-3 (comoving)\n",
    "        \n",
    "    else:\n",
    "        # note: fitted_function = dndlnM * Numgal\n",
    "        Numgal = N_total_function(m_arr)\n",
    "        dndlnM = fitted_function/Numgal\n",
    "\n",
    "    integrand = dndlnM * b_h * m_arr\n",
    "    \n",
    "    rho_m = ccl.background.rho_x(cosmo, a, species='matter', is_comoving=True)\n",
    "\n",
    "    return np.trapz(y=integrand, x=np.log10(m_arr))/rho_m\n",
    "\n",
    "\n",
    "\n",
    "def bias_norm_zavg(zl, nzl, m_arr, halo_bias, hmf=None, fitted_function=None):\n",
    "\n",
    "    # setup integrand\n",
    "    bias_zs = []\n",
    "    for i in range(len(zl)):\n",
    "        bias_zs.append(bias_norm(zl[i], m_arr, halo_bias=halo_bias, hmf=hmf, fitted_function=fitted_function))\n",
    "    bias_zs = np.array(bias_zs)\n",
    "    \n",
    "    integrand = bias_zs * nzl\n",
    "\n",
    "    return np.trapz(y=integrand, x=zl)"
   ]
  },
  {
   "cell_type": "code",
   "execution_count": null,
   "metadata": {},
   "outputs": [],
   "source": [
    "m_arr = np.geomspace(halo_mass_all.min(),halo_mass_all.max(),128)\n",
    "\n",
    "z = 0.33\n",
    "hbias = ccl.halos.hbias.HaloBiasSheth01(cosmo, mass_def=None, mass_def_strict=True) #fof masses will be used by default\n",
    "bias_sheth = bias_norm(z, m_arr, halo_bias=hbias, hmf=None, fitted_function = cosmodc2_mass_function_redmagic_gals(m_arr))\n",
    "print('bias norm Sheth', bias_sheth)\n",
    "#bias_sheth = bias_norm_zavg(zl+(zl[2]-zl[1])/2., nzs[indexes[zbin]], m_arr, halo_bias=hbias, hmf=None, fitted_function = cosmodc2_mass_function_redmagic_gals(m_arr))\n",
    "#print('bias norm Sheth z averaged', bias_sheth)\n",
    "\n",
    "m_arr = np.geomspace(halo_mass_all.min(),halo_mass_all.max(),128)\n",
    "hbias = ccl.halos.hbias.HaloBiasBhattacharya11(cosmo, mass_def=None, mass_def_strict=True)#fof masses will be used by default\n",
    "bias_bhattacharya = bias_norm(z, m_arr, halo_bias=hbias, hmf=None, fitted_function = cosmodc2_mass_function_redmagic_gals(m_arr))\n",
    "print('bias norm Bhattacharya', bias_bhattacharya)\n",
    "\n",
    "#bias_bhattacharya = bias_norm_zavg(zl+(zl[2]-zl[1])/2., nzs[indexes[zbin]], m_arr, halo_bias=hbias, hmf=None, fitted_function = cosmodc2_mass_function_redmagic_gals(m_arr))\n",
    "#print('bias norm Bhattacharya z averaged', bias_bhattacharya)"
   ]
  },
  {
   "cell_type": "code",
   "execution_count": null,
   "metadata": {},
   "outputs": [],
   "source": [
    "m_arr = np.geomspace(10**6,10**17,252)\n",
    "#m_arr = np.geomspace(halo_mass_all.min(),halo_mass_all.max(),128)\n",
    "\n",
    "hmf = ccl.halos.hmfunc.MassFuncSheth99(cosmo, mass_def=None, mass_def_strict=True, use_delta_c_fit=False)\n",
    "#hmf = ccl.halos.hmfunc.MassFuncAngulo12(cosmo, mass_def=None, mass_def_strict=True)\n",
    "#hmf = ccl.halos.hmfunc.MassFuncJenkins01(cosmo, mass_def=None, mass_def_strict=True)\n",
    "#hmf = ccl.halos.hmfunc.MassFuncPress74(cosmo, mass_def=None, mass_def_strict=True)\n",
    "\n",
    "hbias = ccl.halos.hbias.HaloBiasSheth01(cosmo, mass_def=None, mass_def_strict=True) #fof masses will be used by default\n",
    "bias_sheth = bias_norm(z, m_arr, halo_bias=hbias, hmf=hmf, fitted_function = None)\n",
    "print('bias norm sheth, with %s hmf:'%hmf.name, bias_sheth)\n",
    "\n",
    "#bias_sheth = bias_norm_zavg(zl+(zl[2]-zl[1])/2., nzs[indexes[zbin]], m_arr, halo_bias=hbias, hmf=hmf, fitted_function = None)\n",
    "#print('bias norm sheth zavg, with %s hmf:'%hmf.name, bias_sheth)\n",
    "\n",
    "#m_arr = np.geomspace(10**8,10**16,252)\n",
    "hbias = ccl.halos.hbias.HaloBiasBhattacharya11(cosmo, mass_def=None, mass_def_strict=True)#fof masses will be used by default\n",
    "bias_bhattacharya = bias_norm(z, m_arr, halo_bias=hbias, hmf=hmf, fitted_function = None)\n",
    "print('bias norm Bhattacharya11, with %s hmf:'%hmf.name, bias_bhattacharya)"
   ]
  },
  {
   "cell_type": "code",
   "execution_count": null,
   "metadata": {},
   "outputs": [],
   "source": [
    "z = 0.33\n",
    "hbias = ccl.halos.hbias.HaloBiasSheth01(cosmo, mass_def=None, mass_def_strict=True) \n",
    "plt.plot(m_arr, hbias.get_halo_bias(cosmo, m_arr, 1./(1+z), mdef_other=None), label = hbias.name)\n",
    "hbias = ccl.halos.hbias.HaloBiasBhattacharya11(cosmo, mass_def=None, mass_def_strict=True)\n",
    "plt.plot(m_arr, hbias.get_halo_bias(cosmo, m_arr, 1./(1+z), mdef_other=None), label = hbias.name)\n",
    "hbias = ccl.halos.hbias.HaloBiasTinker10(cosmo, mass_def=None)\n",
    "plt.plot(m_arr, hbias.get_halo_bias(cosmo, m_arr, 1./(1+z), mdef_other=None), label = hbias.name)\n",
    "plt.xscale('log')\n",
    "plt.xlabel('Halo Mass')\n",
    "plt.yscale('log')\n",
    "plt.axhline(y=1, ls = ':', color = 'k')\n",
    "plt.legend()"
   ]
  },
  {
   "cell_type": "code",
   "execution_count": null,
   "metadata": {},
   "outputs": [],
   "source": [
    "ccl.background.rho_x(cosmo, 1./(1+z), species='matter', is_comoving=True)"
   ]
  },
  {
   "cell_type": "code",
   "execution_count": null,
   "metadata": {},
   "outputs": [],
   "source": []
  },
  {
   "cell_type": "code",
   "execution_count": null,
   "metadata": {},
   "outputs": [],
   "source": []
  }
 ],
 "metadata": {
  "kernelspec": {
   "display_name": "desc-dia",
   "language": "python",
   "name": "desc-dia"
  },
  "language_info": {
   "codemirror_mode": {
    "name": "ipython",
    "version": 3
   },
   "file_extension": ".py",
   "mimetype": "text/x-python",
   "name": "python",
   "nbconvert_exporter": "python",
   "pygments_lexer": "ipython3",
   "version": "3.7.2"
  }
 },
 "nbformat": 4,
 "nbformat_minor": 4
}
