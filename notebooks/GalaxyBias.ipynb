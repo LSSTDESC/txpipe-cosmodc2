{
 "cells": [
  {
   "cell_type": "code",
   "execution_count": 1,
   "metadata": {},
   "outputs": [],
   "source": [
    "import GCRCatalogs\n",
    "from astropy.table import Table\n",
    "import numpy as np\n",
    "import matplotlib.pyplot as plt\n",
    "import astropy.io.fits as pf"
   ]
  },
  {
   "cell_type": "markdown",
   "metadata": {},
   "source": [
    "# Start by loading the redMaGiC halo catalog from CosmoDC2"
   ]
  },
  {
   "cell_type": "code",
   "execution_count": 2,
   "metadata": {},
   "outputs": [],
   "source": [
    "# read in redmagic catalog\n",
    "redmagic = pf.open('/global/projecta/projectdirs/lsst/groups/WL/users/zuntz/data/redmagic/cosmoDC2_v1.1.4_run_redmagic_highdens.fit')\n",
    "redmagic_ids = redmagic[1].data['id']\n",
    "redmagic_z = redmagic[1].data['zredmagic']\n",
    "bins = {}\n",
    "nbins = 5\n",
    "zbin = 'bin3'\n",
    "if zbin == 'bin1':\n",
    "    bin_sel = (redmagic_z> 0.15)&(redmagic_z< 0.30)\n",
    "if zbin == 'bin2':\n",
    "    bin_sel = (redmagic_z> 0.30)&(redmagic_z< 0.45)  \n",
    "if zbin == 'bin3':\n",
    "    bin_sel = (redmagic_z> 0.45)&(redmagic_z< 0.60) "
   ]
  },
  {
   "cell_type": "code",
   "execution_count": 3,
   "metadata": {},
   "outputs": [],
   "source": [
    "gc = GCRCatalogs.load_catalog('cosmoDC2_v1.1.4_image')"
   ]
  },
  {
   "cell_type": "code",
   "execution_count": 6,
   "metadata": {},
   "outputs": [],
   "source": [
    "halo_all = gc.get_quantities(['halo_mass', 'mag_i', 'redshift', 'halo_id', 'galaxy_id', 'isCentral'], filters=['redshift < 0.75', 'redshift > 0.35'])"
   ]
  },
  {
   "cell_type": "code",
   "execution_count": 7,
   "metadata": {},
   "outputs": [
    {
     "data": {
      "text/plain": [
       "{'galaxy_id': array([9437649587, 9437649590, 9437649592, ..., 9126320129, 9126320133,\n",
       "        9126320135]),\n",
       " 'isCentral': array([ True,  True,  True, ...,  True,  True,  True]),\n",
       " 'halo_mass': array([5.46576759e+10, 7.54796988e+11, 1.15301075e+12, ...,\n",
       "        5.48830982e+10, 1.81633408e+10, 2.78179162e+10]),\n",
       " 'mag_i': array([24.91605335, 20.90655224, 18.93905402, ..., 25.87021141,\n",
       "        26.91203275, 26.8245478 ]),\n",
       " 'redshift': array([0.35506753, 0.35757623, 0.35544681, ..., 0.74718522, 0.73643127,\n",
       "        0.74378087]),\n",
       " 'halo_id': array([      300151365,       600151365,       800151365, ...,\n",
       "        -14013900146279, -14014300146279, -14014500146279])}"
      ]
     },
     "execution_count": 7,
     "metadata": {},
     "output_type": "execute_result"
    }
   ],
   "source": [
    "halo_all"
   ]
  },
  {
   "cell_type": "code",
   "execution_count": 8,
   "metadata": {},
   "outputs": [],
   "source": [
    "iscentral = halo_all['isCentral']==True\n",
    "\n",
    "mask_all = np.in1d(halo_all['galaxy_id'],redmagic_ids[bin_sel])\n",
    "mask_cent = np.in1d(halo_all['galaxy_id'][iscentral],redmagic_ids[bin_sel])\n",
    "mask_sat = np.in1d(halo_all['galaxy_id'][~iscentral],redmagic_ids[bin_sel])"
   ]
  },
  {
   "cell_type": "code",
   "execution_count": 10,
   "metadata": {},
   "outputs": [
    {
     "data": {
      "text/plain": [
       "(95005, 59936, 35069)"
      ]
     },
     "execution_count": 10,
     "metadata": {},
     "output_type": "execute_result"
    }
   ],
   "source": [
    "assert (len(redmagic_ids[bin_sel])==mask_all.sum())\n",
    "mask_all.sum(), mask_cent.sum(), mask_sat.sum()"
   ]
  },
  {
   "cell_type": "code",
   "execution_count": 14,
   "metadata": {},
   "outputs": [],
   "source": [
    "halo_mass_all = halo_all['halo_mass'][mask_all]\n",
    "halo_mass_cent = halo_all['halo_mass'][iscentral][mask_cent]\n",
    "halo_mass_sat = halo_all['halo_mass'][~iscentral][mask_sat]\n",
    "\n",
    "\n",
    "halo_id_all= halo_all['halo_id'][mask_all]\n",
    "halo_id_cent = halo_all['halo_id'][iscentral][mask_cent]\n",
    "halo_id_sat = halo_all['halo_id'][~iscentral][mask_sat]"
   ]
  },
  {
   "cell_type": "code",
   "execution_count": 15,
   "metadata": {},
   "outputs": [
    {
     "name": "stdout",
     "output_type": "stream",
     "text": [
      "The number of halos is: 78055\n",
      "The total number of galaxies is: 95005\n",
      "The number of central galaxies is: 59936\n",
      "The number of satellite galaxies is: 35069\n",
      "The satellite fraction is: 0.36912794063470344\n",
      "fcen is (fraction of halos occupied with central galaxies): 0.7678688104541669\n"
     ]
    }
   ],
   "source": [
    "#number of halos occupied by at least one redmagic galaxy\n",
    "n_halos = len(np.unique(halo_id_all))\n",
    "print(\"The number of halos is:\", n_halos)\n",
    "\n",
    "#number of galaxies\n",
    "n_tot = mask_all.sum()\n",
    "print(\"The total number of galaxies is:\", n_tot)\n",
    "n_cent = mask_cent.sum()\n",
    "print(\"The number of central galaxies is:\", n_cent)\n",
    "n_sat = mask_sat.sum()\n",
    "print(\"The number of satellite galaxies is:\", n_sat)\n",
    "assert(n_tot==n_cent+n_sat)\n",
    "sat_frac = n_sat/n_tot\n",
    "print(\"The satellite fraction is:\", sat_frac)\n",
    "fcen = n_cent/n_halos\n",
    "print(\"fcen is (fraction of halos occupied with central galaxies):\", fcen)"
   ]
  },
  {
   "cell_type": "code",
   "execution_count": 16,
   "metadata": {},
   "outputs": [
    {
     "data": {
      "text/plain": [
       "(3.188889674135008, 0.7905520128470062, 7.287859307342619)"
      ]
     },
     "execution_count": 16,
     "metadata": {},
     "output_type": "execute_result"
    }
   ],
   "source": [
    "# mean halo mass of halos where satellites live is higher than where centrals live. That is because centrals are more visible. \n",
    "halo_mass_all.mean()/10**(13), halo_mass_cent.mean()/10**(13), halo_mass_sat.mean()/10**(13)"
   ]
  },
  {
   "cell_type": "code",
   "execution_count": 24,
   "metadata": {},
   "outputs": [],
   "source": [
    "# create unique halo catalog of halos occupied by at least one redmagic galaxy:\n",
    "halo_cat = {}\n",
    "halo_cat['ids'], index_halo_unique = np.unique(halo_id_all, return_index=True)\n",
    "halo_cat['mass'] = halo_mass_all[index_halo_unique]"
   ]
  },
  {
   "cell_type": "code",
   "execution_count": 25,
   "metadata": {},
   "outputs": [
    {
     "data": {
      "text/plain": [
       "array([1.78690387e+12, 2.35535044e+12, 2.47923274e+12, ...,\n",
       "       7.75617711e+12, 8.27937592e+12, 2.96714462e+12])"
      ]
     },
     "execution_count": 25,
     "metadata": {},
     "output_type": "execute_result"
    }
   ],
   "source": [
    "halo_cat['mass']"
   ]
  },
  {
   "cell_type": "code",
   "execution_count": 28,
   "metadata": {},
   "outputs": [
    {
     "name": "stdout",
     "output_type": "stream",
     "text": [
      "The number of halos in cosmodc2 is: 64893360\n"
     ]
    }
   ],
   "source": [
    "# create unique halo catalog of all halos in cosmodc2\n",
    "halo_cat_full = {}\n",
    "if zbin == 'bin1': \n",
    "    zbin_halos = (halo_all['redshift']>0.15) & (halo_all['redshift']<0.3)\n",
    "if zbin == 'bin2': \n",
    "    zbin_halos = (halo_all['redshift']>0.30) & (halo_all['redshift']<0.45)\n",
    "if zbin == 'bin3': \n",
    "    zbin_halos = (halo_all['redshift']>0.45) & (halo_all['redshift']<0.65)\n",
    "       \n",
    "halo_cat_full['ids'], index_halo_unique = np.unique(halo_all['halo_id'][zbin_halos], return_index=True)\n",
    "halo_cat_full['mass'] = halo_all['halo_mass'][zbin_halos][index_halo_unique]\n",
    "\n",
    "n_halos_cosmodc2 = len(np.unique(halo_all['halo_id'][zbin_halos]))\n",
    "print(\"The number of halos in cosmodc2 is:\", n_halos_cosmodc2)"
   ]
  },
  {
   "cell_type": "code",
   "execution_count": 29,
   "metadata": {},
   "outputs": [
    {
     "data": {
      "image/png": "[encoded data removed]",
      "text/plain": [
       "<Figure size 648x432 with 1 Axes>"
      ]
     },
     "metadata": {
      "needs_background": "light"
     },
     "output_type": "display_data"
    }
   ],
   "source": [
    "plt.figure(figsize = (9,6))\n",
    "nbins = 20\n",
    "bins = np.logspace(np.log10(halo_cat['mass'].min()), np.log10(halo_cat['mass'].max()), nbins)\n",
    "counts_allgals, _, _= plt.hist(halo_mass_all, label = 'redMaGiC all gals', bins = bins, log= True, alpha = 0.4)\n",
    "counts_cent, _, _ = plt.hist(halo_mass_cent, label = 'redMaGiC centrals', bins = bins, log = True, alpha = 0.3)\n",
    "counts_sat, _, _= plt.hist(halo_mass_sat, label = 'redMaGiC satellites', bins = bins, log= True, alpha = 0.3)\n",
    "#counts_uniquehalos, _, _  = plt.hist(halo_cat['mass'], label = 'Unique halos', bins = bins, alpha = 0.3, histtype = 'step', color = 'k')\n",
    "counts_uniquehalos_cosmodc2, _, _  = plt.hist(halo_cat_full['mass'], label = 'Unique halos (all cosmodc2)', bins = bins, alpha = 0.3, histtype = 'step', color = 'red')\n",
    "plt.xlabel('Halo mass')\n",
    "plt.legend()\n",
    "plt.xscale('log') \n",
    "plt.yscale('log')"
   ]
  },
  {
   "cell_type": "markdown",
   "metadata": {},
   "source": [
    "### Plot the number of galaxies divided by the total number of halos in CosmoDC2"
   ]
  },
  {
   "cell_type": "code",
   "execution_count": 30,
   "metadata": {},
   "outputs": [
    {
     "data": {
      "image/png": "[encoded data removed]",
      "text/plain": [
       "<Figure size 576x432 with 1 Axes>"
      ]
     },
     "metadata": {
      "needs_background": "light"
     },
     "output_type": "display_data"
    }
   ],
   "source": [
    "plt.figure(figsize = (8,6))\n",
    "bins_centers = np.logspace(np.log10(halo_cat['mass'].min()), np.log10(halo_cat['mass'].max()), nbins-1)\n",
    "plt.plot(bins_centers, counts_allgals/counts_uniquehalos_cosmodc2, label = 'N(redMaGiC all gals)') #, color = 'blue' )\n",
    "plt.plot(bins_centers, counts_cent/counts_uniquehalos_cosmodc2, label = 'N(redMaGiC centrals)' )#, color = 'orange' )\n",
    "plt.plot(bins_centers, counts_sat/counts_uniquehalos_cosmodc2, label =  'N(redMaGiC satellites)')#, color = 'green')\n",
    "#plt.axhline(y=fcen_2, color= 'black', ls = ':', label = 'fcen=%0.2f'%fcen )\n",
    "plt.xlabel('Halo mass')\n",
    "plt.legend(frameon=False)\n",
    "plt.xscale('log') \n",
    "plt.yscale('log')"
   ]
  },
  {
   "cell_type": "code",
   "execution_count": 31,
   "metadata": {},
   "outputs": [
    {
     "name": "stdout",
     "output_type": "stream",
     "text": [
      "Fraction of central galaxies that have satellite galaxies: 0.09515149492792312\n"
     ]
    }
   ],
   "source": [
    "centrals_with_satellites = np.in1d(halo_id_cent, halo_id_sat)\n",
    "print(\"Fraction of central galaxies that have satellite galaxies:\", centrals_with_satellites.sum()/n_cent)"
   ]
  },
  {
   "cell_type": "code",
   "execution_count": 32,
   "metadata": {},
   "outputs": [
    {
     "name": "stdout",
     "output_type": "stream",
     "text": [
      "Fraction of satellite galaxies that have a central galaxy: 0.26630357295617213\n"
     ]
    }
   ],
   "source": [
    "satellites_with_a_central = np.in1d(halo_id_sat, halo_id_cent)\n",
    "print(\"Fraction of satellite galaxies that have a central galaxy:\", satellites_with_a_central.sum()/n_sat)"
   ]
  },
  {
   "cell_type": "code",
   "execution_count": 33,
   "metadata": {},
   "outputs": [],
   "source": [
    "halo_ids_halos_with_both_centrals_and_satellites= []\n",
    "halo_ids_halos_with_both_centrals_and_satellites.extend(halo_id_cent[centrals_with_satellites])\n",
    "halo_ids_halos_with_both_centrals_and_satellites.extend(halo_id_sat[satellites_with_a_central])"
   ]
  },
  {
   "cell_type": "code",
   "execution_count": 34,
   "metadata": {},
   "outputs": [
    {
     "name": "stdout",
     "output_type": "stream",
     "text": [
      "Fraction of halos that host at least one redmagic galaxy and that are occupied by both centrals and satellites: 0.06002841955686543\n"
     ]
    }
   ],
   "source": [
    "print(\"Fraction of halos that host at least one redmagic galaxy and that are occupied by both centrals and satellites:\", len(np.unique(halo_ids_halos_with_both_centrals_and_satellites))/n_tot)"
   ]
  },
  {
   "cell_type": "markdown",
   "metadata": {},
   "source": [
    "## Fitting the HOD parameters"
   ]
  },
  {
   "cell_type": "code",
   "execution_count": 35,
   "metadata": {},
   "outputs": [],
   "source": [
    "from scipy.optimize import curve_fit\n",
    "from scipy.interpolate import interp1d\n",
    "import scipy"
   ]
  },
  {
   "cell_type": "code",
   "execution_count": 37,
   "metadata": {},
   "outputs": [],
   "source": [
    "halo_mass = bins_centers\n",
    "N_cent = counts_cent/counts_uniquehalos_cosmodc2\n",
    "N_sat = counts_sat/counts_uniquehalos_cosmodc2"
   ]
  },
  {
   "cell_type": "code",
   "execution_count": 38,
   "metadata": {},
   "outputs": [
    {
     "data": {
      "text/plain": [
       "array([0.00000000e+00, 0.00000000e+00, 7.51305205e-07, 1.35589878e-05,\n",
       "       4.63567616e-05, 5.04079685e-04, 3.21245512e-03, 1.68500032e-02,\n",
       "       4.43859434e-02, 1.03362969e-01, 1.95966203e-01, 3.62495953e-01,\n",
       "       6.53211550e-01, 1.14447761e+00, 2.15384615e+00, 3.97745572e+00,\n",
       "       7.27433628e+00, 1.10000000e+01, 2.09285714e+01])"
      ]
     },
     "execution_count": 38,
     "metadata": {},
     "output_type": "execute_result"
    }
   ],
   "source": [
    "N_sat"
   ]
  },
  {
   "cell_type": "markdown",
   "metadata": {},
   "source": [
    "### Fit each of the lines separately"
   ]
  },
  {
   "cell_type": "code",
   "execution_count": 40,
   "metadata": {},
   "outputs": [
    {
     "name": "stdout",
     "output_type": "stream",
     "text": [
      "Mmin = 4.37e+12, sigma_logM = 0.64, fcen = 0.28, M1 = 1.81e+13, alpha = 1.07\n"
     ]
    }
   ],
   "source": [
    "# see example from https://stackoverflow.com/questions/51906152/fitting-two-sets-of-data-with-two-different-model-functions-simultaneously-givin\n",
    "if zbin == 'bin1':\n",
    "    nstart = 2 \n",
    "if zbin == 'bin2':  \n",
    "    nstart = 3\n",
    "if zbin == 'bin3':  \n",
    "    nstart = 3\n",
    "y1 = np.log10(N_cent)\n",
    "y2 = np.log10(N_sat[nstart:])\n",
    "comboY = np.append(y1, y2)\n",
    "\n",
    "x1 = halo_mass\n",
    "x2 = halo_mass[nstart:]\n",
    "comboX = np.append(x1, x2)\n",
    "\n",
    "if len(y1) != len(x1):\n",
    "    raise(Exception('Unequal x1 and y1 data length'))\n",
    "if len(y2) != len(x2):\n",
    "    raise(Exception('Unequal x2 and y2 data length'))\n",
    "    \n",
    "    \n",
    "def function1(Mh, Mmin, sigma_logM, fcen, M1, alpha): #  not all parameters are used here, some are shared\n",
    "    \"\"\"\n",
    "    Number of central galaxies, based on HOD, for single Halo mass\n",
    "    input\n",
    "    \"\"\"\n",
    "    centrals = 0.5 * fcen * (1. + scipy.special.erf( (np.log10(Mh)-np.log10(Mmin))/sigma_logM) )\n",
    "    return np.log10(centrals)\n",
    "\n",
    "def function2(Mh, Mmin, sigma_logM, fcen, M1, alpha):\n",
    "    \"\"\"\n",
    "    Number of central galaxies, based on HOD, for single Halo mass\n",
    "    input\n",
    "    \"\"\"\n",
    "    nc = 0.5 * fcen * (1. + scipy.special.erf( (np.log10(Mh)-np.log10(Mmin))/sigma_logM) )\n",
    "    satellites = nc * (Mh/M1)**alpha\n",
    "    return np.log10(satellites)\n",
    "\n",
    "\n",
    "    \n",
    "def combinedFunction(comboData, Mmin, sigma_logM, fcen, M1, alpha):\n",
    "    # single data reference passed in, extract separate data\n",
    "    extract1 = comboData[:len(x1)] # first data\n",
    "    extract2 = comboData[len(x1):] # second data\n",
    "\n",
    "    result1 = function1(extract1, Mmin, sigma_logM, fcen, M1, alpha)\n",
    "    result2 = function2(extract2, Mmin, sigma_logM, fcen, M1, alpha)\n",
    "\n",
    "    return np.append(result1, result2)\n",
    "\n",
    "\n",
    "# some initial parameter values\n",
    "Mmin_0 = 10**12\n",
    "simga_logM_0 = 0.3\n",
    "fcen_0 = 0.2\n",
    "M1_0 = 10**13\n",
    "alpha_0 = 1.\n",
    "\n",
    "initialParameters = np.array([Mmin_0,simga_logM_0, fcen_0, M1_0, alpha_0])\n",
    "\n",
    "# curve fit the combined data to the combined function\n",
    "fittedParameters, pcov = curve_fit(combinedFunction, comboX, comboY, initialParameters, maxfev = 100000)\n",
    "\n",
    "# values for display of fitted function\n",
    "Mmin_fit, sigma_logM_fit, fcen_fit, M1_fit, alpha_fit = fittedParameters\n",
    "\n",
    "y_fit_1 = function1(x1, Mmin_fit, sigma_logM_fit, fcen_fit, M1_fit, alpha_fit) # first data set, first equation\n",
    "y_fit_2 = function2(x2, Mmin_fit, sigma_logM_fit, fcen_fit, M1_fit, alpha_fit) # second data set, second equation\n",
    "\n",
    "# Total profile: ⟨N (Mh )⟩ = ⟨Nc (Mh )⟩ + ⟨Ns (Mh )⟩\n",
    "y_fit_2_sameshape = np.array([0]*nstart + list(10**y_fit_2))\n",
    "y_total_nolog = 10**y_fit_1 + y_fit_2_sameshape\n",
    "\n",
    "# interpolate total profile\n",
    "N_total = interp1d(x1, y_total_nolog, kind='linear', axis=- 1, copy=True, bounds_error=None, assume_sorted=False)\n",
    "\n",
    "print('Mmin = %0.2e, sigma_logM = %0.2f, fcen = %0.2f, M1 = %0.2e, alpha = %0.2f'%(Mmin_fit, sigma_logM_fit, fcen_fit, M1_fit, alpha_fit))"
   ]
  },
  {
   "cell_type": "code",
   "execution_count": 43,
   "metadata": {},
   "outputs": [
    {
     "data": {
      "image/png": "[encoded data removed]",
      "text/plain": [
       "<Figure size 504x360 with 1 Axes>"
      ]
     },
     "metadata": {
      "needs_background": "light"
     },
     "output_type": "display_data"
    },
    {
     "ename": "FileNotFoundError",
     "evalue": "[Errno 2] No such file or directory: '../plots/HOD_bin3.png'",
     "output_type": "error",
     "traceback": [
      "\u001b[0;31m---------------------------------------------------------------------------\u001b[0m",
      "\u001b[0;31mFileNotFoundError\u001b[0m                         Traceback (most recent call last)",
      "\u001b[0;32m<ipython-input-43-2982c4671855>\u001b[0m in \u001b[0;36m<module>\u001b[0;34m\u001b[0m\n\u001b[1;32m     20\u001b[0m \u001b[0mplt\u001b[0m\u001b[0;34m.\u001b[0m\u001b[0mlegend\u001b[0m\u001b[0;34m(\u001b[0m\u001b[0mframeon\u001b[0m\u001b[0;34m=\u001b[0m\u001b[0;32mFalse\u001b[0m\u001b[0;34m)\u001b[0m\u001b[0;34m\u001b[0m\u001b[0;34m\u001b[0m\u001b[0m\n\u001b[1;32m     21\u001b[0m \u001b[0mplt\u001b[0m\u001b[0;34m.\u001b[0m\u001b[0mshow\u001b[0m\u001b[0;34m(\u001b[0m\u001b[0;34m)\u001b[0m\u001b[0;34m\u001b[0m\u001b[0;34m\u001b[0m\u001b[0m\n\u001b[0;32m---> 22\u001b[0;31m \u001b[0mplt\u001b[0m\u001b[0;34m.\u001b[0m\u001b[0msavefig\u001b[0m\u001b[0;34m(\u001b[0m\u001b[0;34m'../plots/HOD_%s.png'\u001b[0m\u001b[0;34m%\u001b[0m\u001b[0mzbin\u001b[0m\u001b[0;34m,\u001b[0m \u001b[0mdpi\u001b[0m \u001b[0;34m=\u001b[0m \u001b[0;36m300\u001b[0m\u001b[0;34m)\u001b[0m\u001b[0;34m\u001b[0m\u001b[0;34m\u001b[0m\u001b[0m\n\u001b[0m",
      "\u001b[0;32m/opt/lsst/software/stack/python/miniconda3-4.7.10/envs/lsst-scipipe-4d7b902/lib/python3.7/site-packages/matplotlib/pyplot.py\u001b[0m in \u001b[0;36msavefig\u001b[0;34m(*args, **kwargs)\u001b[0m\n\u001b[1;32m    687\u001b[0m \u001b[0;32mdef\u001b[0m \u001b[0msavefig\u001b[0m\u001b[0;34m(\u001b[0m\u001b[0;34m*\u001b[0m\u001b[0margs\u001b[0m\u001b[0;34m,\u001b[0m \u001b[0;34m**\u001b[0m\u001b[0mkwargs\u001b[0m\u001b[0;34m)\u001b[0m\u001b[0;34m:\u001b[0m\u001b[0;34m\u001b[0m\u001b[0;34m\u001b[0m\u001b[0m\n\u001b[1;32m    688\u001b[0m     \u001b[0mfig\u001b[0m \u001b[0;34m=\u001b[0m \u001b[0mgcf\u001b[0m\u001b[0;34m(\u001b[0m\u001b[0;34m)\u001b[0m\u001b[0;34m\u001b[0m\u001b[0;34m\u001b[0m\u001b[0m\n\u001b[0;32m--> 689\u001b[0;31m     \u001b[0mres\u001b[0m \u001b[0;34m=\u001b[0m \u001b[0mfig\u001b[0m\u001b[0;34m.\u001b[0m\u001b[0msavefig\u001b[0m\u001b[0;34m(\u001b[0m\u001b[0;34m*\u001b[0m\u001b[0margs\u001b[0m\u001b[0;34m,\u001b[0m \u001b[0;34m**\u001b[0m\u001b[0mkwargs\u001b[0m\u001b[0;34m)\u001b[0m\u001b[0;34m\u001b[0m\u001b[0;34m\u001b[0m\u001b[0m\n\u001b[0m\u001b[1;32m    690\u001b[0m     \u001b[0mfig\u001b[0m\u001b[0;34m.\u001b[0m\u001b[0mcanvas\u001b[0m\u001b[0;34m.\u001b[0m\u001b[0mdraw_idle\u001b[0m\u001b[0;34m(\u001b[0m\u001b[0;34m)\u001b[0m   \u001b[0;31m# need this if 'transparent=True' to reset colors\u001b[0m\u001b[0;34m\u001b[0m\u001b[0;34m\u001b[0m\u001b[0m\n\u001b[1;32m    691\u001b[0m     \u001b[0;32mreturn\u001b[0m \u001b[0mres\u001b[0m\u001b[0;34m\u001b[0m\u001b[0;34m\u001b[0m\u001b[0m\n",
      "\u001b[0;32m/opt/lsst/software/stack/python/miniconda3-4.7.10/envs/lsst-scipipe-4d7b902/lib/python3.7/site-packages/matplotlib/figure.py\u001b[0m in \u001b[0;36msavefig\u001b[0;34m(self, fname, frameon, transparent, **kwargs)\u001b[0m\n\u001b[1;32m   2092\u001b[0m             \u001b[0mself\u001b[0m\u001b[0;34m.\u001b[0m\u001b[0mset_frameon\u001b[0m\u001b[0;34m(\u001b[0m\u001b[0mframeon\u001b[0m\u001b[0;34m)\u001b[0m\u001b[0;34m\u001b[0m\u001b[0;34m\u001b[0m\u001b[0m\n\u001b[1;32m   2093\u001b[0m \u001b[0;34m\u001b[0m\u001b[0m\n\u001b[0;32m-> 2094\u001b[0;31m         \u001b[0mself\u001b[0m\u001b[0;34m.\u001b[0m\u001b[0mcanvas\u001b[0m\u001b[0;34m.\u001b[0m\u001b[0mprint_figure\u001b[0m\u001b[0;34m(\u001b[0m\u001b[0mfname\u001b[0m\u001b[0;34m,\u001b[0m \u001b[0;34m**\u001b[0m\u001b[0mkwargs\u001b[0m\u001b[0;34m)\u001b[0m\u001b[0;34m\u001b[0m\u001b[0;34m\u001b[0m\u001b[0m\n\u001b[0m\u001b[1;32m   2095\u001b[0m \u001b[0;34m\u001b[0m\u001b[0m\n\u001b[1;32m   2096\u001b[0m         \u001b[0;32mif\u001b[0m \u001b[0mframeon\u001b[0m\u001b[0;34m:\u001b[0m\u001b[0;34m\u001b[0m\u001b[0;34m\u001b[0m\u001b[0m\n",
      "\u001b[0;32m/opt/lsst/software/stack/python/miniconda3-4.7.10/envs/lsst-scipipe-4d7b902/lib/python3.7/site-packages/matplotlib/backend_bases.py\u001b[0m in \u001b[0;36mprint_figure\u001b[0;34m(self, filename, dpi, facecolor, edgecolor, orientation, format, bbox_inches, **kwargs)\u001b[0m\n\u001b[1;32m   2073\u001b[0m                     \u001b[0morientation\u001b[0m\u001b[0;34m=\u001b[0m\u001b[0morientation\u001b[0m\u001b[0;34m,\u001b[0m\u001b[0;34m\u001b[0m\u001b[0;34m\u001b[0m\u001b[0m\n\u001b[1;32m   2074\u001b[0m                     \u001b[0mbbox_inches_restore\u001b[0m\u001b[0;34m=\u001b[0m\u001b[0m_bbox_inches_restore\u001b[0m\u001b[0;34m,\u001b[0m\u001b[0;34m\u001b[0m\u001b[0;34m\u001b[0m\u001b[0m\n\u001b[0;32m-> 2075\u001b[0;31m                     **kwargs)\n\u001b[0m\u001b[1;32m   2076\u001b[0m             \u001b[0;32mfinally\u001b[0m\u001b[0;34m:\u001b[0m\u001b[0;34m\u001b[0m\u001b[0;34m\u001b[0m\u001b[0m\n\u001b[1;32m   2077\u001b[0m                 \u001b[0;32mif\u001b[0m \u001b[0mbbox_inches\u001b[0m \u001b[0;32mand\u001b[0m \u001b[0mrestore_bbox\u001b[0m\u001b[0;34m:\u001b[0m\u001b[0;34m\u001b[0m\u001b[0;34m\u001b[0m\u001b[0m\n",
      "\u001b[0;32m/opt/lsst/software/stack/python/miniconda3-4.7.10/envs/lsst-scipipe-4d7b902/lib/python3.7/site-packages/matplotlib/backends/backend_agg.py\u001b[0m in \u001b[0;36mprint_png\u001b[0;34m(self, filename_or_obj, *args, **kwargs)\u001b[0m\n\u001b[1;32m    519\u001b[0m \u001b[0;34m\u001b[0m\u001b[0m\n\u001b[1;32m    520\u001b[0m         \u001b[0;32mwith\u001b[0m \u001b[0mcbook\u001b[0m\u001b[0;34m.\u001b[0m\u001b[0m_setattr_cm\u001b[0m\u001b[0;34m(\u001b[0m\u001b[0mrenderer\u001b[0m\u001b[0;34m,\u001b[0m \u001b[0mdpi\u001b[0m\u001b[0;34m=\u001b[0m\u001b[0mself\u001b[0m\u001b[0;34m.\u001b[0m\u001b[0mfigure\u001b[0m\u001b[0;34m.\u001b[0m\u001b[0mdpi\u001b[0m\u001b[0;34m)\u001b[0m\u001b[0;34m,\u001b[0m\u001b[0;31m \u001b[0m\u001b[0;31m\\\u001b[0m\u001b[0;34m\u001b[0m\u001b[0;34m\u001b[0m\u001b[0m\n\u001b[0;32m--> 521\u001b[0;31m                 \u001b[0mcbook\u001b[0m\u001b[0;34m.\u001b[0m\u001b[0mopen_file_cm\u001b[0m\u001b[0;34m(\u001b[0m\u001b[0mfilename_or_obj\u001b[0m\u001b[0;34m,\u001b[0m \u001b[0;34m\"wb\"\u001b[0m\u001b[0;34m)\u001b[0m \u001b[0;32mas\u001b[0m \u001b[0mfh\u001b[0m\u001b[0;34m:\u001b[0m\u001b[0;34m\u001b[0m\u001b[0;34m\u001b[0m\u001b[0m\n\u001b[0m\u001b[1;32m    522\u001b[0m             _png.write_png(renderer._renderer, fh,\n\u001b[1;32m    523\u001b[0m                             self.figure.dpi, metadata=metadata)\n",
      "\u001b[0;32m/opt/lsst/software/stack/python/miniconda3-4.7.10/envs/lsst-scipipe-4d7b902/lib/python3.7/contextlib.py\u001b[0m in \u001b[0;36m__enter__\u001b[0;34m(self)\u001b[0m\n\u001b[1;32m    110\u001b[0m         \u001b[0;32mdel\u001b[0m \u001b[0mself\u001b[0m\u001b[0;34m.\u001b[0m\u001b[0margs\u001b[0m\u001b[0;34m,\u001b[0m \u001b[0mself\u001b[0m\u001b[0;34m.\u001b[0m\u001b[0mkwds\u001b[0m\u001b[0;34m,\u001b[0m \u001b[0mself\u001b[0m\u001b[0;34m.\u001b[0m\u001b[0mfunc\u001b[0m\u001b[0;34m\u001b[0m\u001b[0;34m\u001b[0m\u001b[0m\n\u001b[1;32m    111\u001b[0m         \u001b[0;32mtry\u001b[0m\u001b[0;34m:\u001b[0m\u001b[0;34m\u001b[0m\u001b[0;34m\u001b[0m\u001b[0m\n\u001b[0;32m--> 112\u001b[0;31m             \u001b[0;32mreturn\u001b[0m \u001b[0mnext\u001b[0m\u001b[0;34m(\u001b[0m\u001b[0mself\u001b[0m\u001b[0;34m.\u001b[0m\u001b[0mgen\u001b[0m\u001b[0;34m)\u001b[0m\u001b[0;34m\u001b[0m\u001b[0;34m\u001b[0m\u001b[0m\n\u001b[0m\u001b[1;32m    113\u001b[0m         \u001b[0;32mexcept\u001b[0m \u001b[0mStopIteration\u001b[0m\u001b[0;34m:\u001b[0m\u001b[0;34m\u001b[0m\u001b[0;34m\u001b[0m\u001b[0m\n\u001b[1;32m    114\u001b[0m             \u001b[0;32mraise\u001b[0m \u001b[0mRuntimeError\u001b[0m\u001b[0;34m(\u001b[0m\u001b[0;34m\"generator didn't yield\"\u001b[0m\u001b[0;34m)\u001b[0m \u001b[0;32mfrom\u001b[0m \u001b[0;32mNone\u001b[0m\u001b[0;34m\u001b[0m\u001b[0;34m\u001b[0m\u001b[0m\n",
      "\u001b[0;32m/opt/lsst/software/stack/python/miniconda3-4.7.10/envs/lsst-scipipe-4d7b902/lib/python3.7/site-packages/matplotlib/cbook/__init__.py\u001b[0m in \u001b[0;36mopen_file_cm\u001b[0;34m(path_or_file, mode, encoding)\u001b[0m\n\u001b[1;32m    405\u001b[0m \u001b[0;32mdef\u001b[0m \u001b[0mopen_file_cm\u001b[0m\u001b[0;34m(\u001b[0m\u001b[0mpath_or_file\u001b[0m\u001b[0;34m,\u001b[0m \u001b[0mmode\u001b[0m\u001b[0;34m=\u001b[0m\u001b[0;34m\"r\"\u001b[0m\u001b[0;34m,\u001b[0m \u001b[0mencoding\u001b[0m\u001b[0;34m=\u001b[0m\u001b[0;32mNone\u001b[0m\u001b[0;34m)\u001b[0m\u001b[0;34m:\u001b[0m\u001b[0;34m\u001b[0m\u001b[0;34m\u001b[0m\u001b[0m\n\u001b[1;32m    406\u001b[0m     \u001b[0;34mr\"\"\"Pass through file objects and context-manage `.PathLike`\\s.\"\"\"\u001b[0m\u001b[0;34m\u001b[0m\u001b[0;34m\u001b[0m\u001b[0m\n\u001b[0;32m--> 407\u001b[0;31m     \u001b[0mfh\u001b[0m\u001b[0;34m,\u001b[0m \u001b[0mopened\u001b[0m \u001b[0;34m=\u001b[0m \u001b[0mto_filehandle\u001b[0m\u001b[0;34m(\u001b[0m\u001b[0mpath_or_file\u001b[0m\u001b[0;34m,\u001b[0m \u001b[0mmode\u001b[0m\u001b[0;34m,\u001b[0m \u001b[0;32mTrue\u001b[0m\u001b[0;34m,\u001b[0m \u001b[0mencoding\u001b[0m\u001b[0;34m)\u001b[0m\u001b[0;34m\u001b[0m\u001b[0;34m\u001b[0m\u001b[0m\n\u001b[0m\u001b[1;32m    408\u001b[0m     \u001b[0;32mif\u001b[0m \u001b[0mopened\u001b[0m\u001b[0;34m:\u001b[0m\u001b[0;34m\u001b[0m\u001b[0;34m\u001b[0m\u001b[0m\n\u001b[1;32m    409\u001b[0m         \u001b[0;32mwith\u001b[0m \u001b[0mfh\u001b[0m\u001b[0;34m:\u001b[0m\u001b[0;34m\u001b[0m\u001b[0;34m\u001b[0m\u001b[0m\n",
      "\u001b[0;32m/opt/lsst/software/stack/python/miniconda3-4.7.10/envs/lsst-scipipe-4d7b902/lib/python3.7/site-packages/matplotlib/cbook/__init__.py\u001b[0m in \u001b[0;36mto_filehandle\u001b[0;34m(fname, flag, return_opened, encoding)\u001b[0m\n\u001b[1;32m    390\u001b[0m             \u001b[0mfh\u001b[0m \u001b[0;34m=\u001b[0m \u001b[0mbz2\u001b[0m\u001b[0;34m.\u001b[0m\u001b[0mBZ2File\u001b[0m\u001b[0;34m(\u001b[0m\u001b[0mfname\u001b[0m\u001b[0;34m,\u001b[0m \u001b[0mflag\u001b[0m\u001b[0;34m)\u001b[0m\u001b[0;34m\u001b[0m\u001b[0;34m\u001b[0m\u001b[0m\n\u001b[1;32m    391\u001b[0m         \u001b[0;32melse\u001b[0m\u001b[0;34m:\u001b[0m\u001b[0;34m\u001b[0m\u001b[0;34m\u001b[0m\u001b[0m\n\u001b[0;32m--> 392\u001b[0;31m             \u001b[0mfh\u001b[0m \u001b[0;34m=\u001b[0m \u001b[0mopen\u001b[0m\u001b[0;34m(\u001b[0m\u001b[0mfname\u001b[0m\u001b[0;34m,\u001b[0m \u001b[0mflag\u001b[0m\u001b[0;34m,\u001b[0m \u001b[0mencoding\u001b[0m\u001b[0;34m=\u001b[0m\u001b[0mencoding\u001b[0m\u001b[0;34m)\u001b[0m\u001b[0;34m\u001b[0m\u001b[0;34m\u001b[0m\u001b[0m\n\u001b[0m\u001b[1;32m    393\u001b[0m         \u001b[0mopened\u001b[0m \u001b[0;34m=\u001b[0m \u001b[0;32mTrue\u001b[0m\u001b[0;34m\u001b[0m\u001b[0;34m\u001b[0m\u001b[0m\n\u001b[1;32m    394\u001b[0m     \u001b[0;32melif\u001b[0m \u001b[0mhasattr\u001b[0m\u001b[0;34m(\u001b[0m\u001b[0mfname\u001b[0m\u001b[0;34m,\u001b[0m \u001b[0;34m'seek'\u001b[0m\u001b[0;34m)\u001b[0m\u001b[0;34m:\u001b[0m\u001b[0;34m\u001b[0m\u001b[0;34m\u001b[0m\u001b[0m\n",
      "\u001b[0;31mFileNotFoundError\u001b[0m: [Errno 2] No such file or directory: '../plots/HOD_bin3.png'"
     ]
    },
    {
     "data": {
      "text/plain": [
       "<Figure size 432x288 with 0 Axes>"
      ]
     },
     "metadata": {},
     "output_type": "display_data"
    }
   ],
   "source": [
    "plt.figure(figsize = (7,5))\n",
    "plt.plot(x1, 10**y1, 'o', color = 'firebrick', label = 'Centrals') # plot the raw data\n",
    "plt.plot(x2, 10**y2, 'o', color = 'green', label = 'Satellites') # plot the raw data\n",
    "plt.plot(x1, 10**y_fit_1, color = 'firebrick') # plot the equation using the fitted parameters\n",
    "plt.plot(x2, 10**y_fit_2, color = 'g') # plot the equation using the fitted parameters\n",
    "plt.plot(x1, y_total_nolog, color = 'k') # plot the equation using the fitted parameters\n",
    "#plt.plot(x1, N_total(x1), color = 'gray', lw= 0.5)\n",
    "m_arr = np.geomspace(7E10,1E15,128)\n",
    "Numgal = N_total(m_arr)\n",
    "#plt.plot(m_arr, Numgal, color = 'w', lw = 0.5)\n",
    "plt.xscale('log')\n",
    "plt.yscale('log')\n",
    "plt.ylabel('$<N>$')\n",
    "plt.xlabel ('Halo Mass [$M_\\odot$]')\n",
    "if zbin == 'bin1':\n",
    "    plt.title('cosmoDC2 redMaGiC HighDens $0.15< z< 0.3$')\n",
    "if zbin == 'bin2':\n",
    "    plt.title('cosmoDC2 redMaGiC HighDens $0.30< z< 0.45$')\n",
    "plt.axhline(y = fcen_fit, label = '$f_{cen} = %0.2f$'%fcen_fit, ls = ':', color  = 'k')\n",
    "plt.legend(frameon=False)\n",
    "plt.show()\n",
    "plt.savefig('../plots/HOD_%s.png'%zbin, dpi = 300)"
   ]
  },
  {
   "cell_type": "code",
   "execution_count": 42,
   "metadata": {},
   "outputs": [
    {
     "name": "stdout",
     "output_type": "stream",
     "text": [
      "Log(Mmin) = 12.64, sigma_logM = 0.64, fcen = 0.28, Log(M1) = 13.26, alpha = 1.07\n"
     ]
    }
   ],
   "source": [
    "print('Log(Mmin) = %0.2f, sigma_logM = %0.2f, fcen = %0.2f, Log(M1) = %0.2f, alpha = %0.2f'%(np.log10(Mmin_fit), sigma_logM_fit, fcen_fit, np.log10(M1_fit), alpha_fit))"
   ]
  },
  {
   "cell_type": "markdown",
   "metadata": {},
   "source": [
    "## Try to do the same but with CCL HOD modeling"
   ]
  },
  {
   "cell_type": "code",
   "execution_count": 109,
   "metadata": {},
   "outputs": [
    {
     "name": "stdout",
     "output_type": "stream",
     "text": [
      "Mmin = 1.67e+12, M0 = 6.09e+11, sigma_logM = 0.56, fcen = 0.23, M1 = 5.72e+13, alpha = 0.99\n"
     ]
    }
   ],
   "source": [
    "# see https://ccl.readthedocs.io/en/latest/api/pyccl.halos.profiles.html#pyccl.halos.profiles.HaloProfileHOD\n",
    "y1 = np.log10(N_cent)\n",
    "y2 = np.log10(N_sat[5:])\n",
    "comboY = np.append(y1, y2)\n",
    "\n",
    "x1 = halo_mass\n",
    "x2 = halo_mass[5:] # in order to not have to use heavyside function\n",
    "comboX = np.append(x1, x2)\n",
    "\n",
    "if len(y1) != len(x1):\n",
    "    raise(Exception('Unequal x1 and y1 data length'))\n",
    "if len(y2) != len(x2):\n",
    "    raise(Exception('Unequal x2 and y2 data length'))\n",
    "    \n",
    "    \n",
    "def function1(Mh, Mmin, M0, sigma_logM, fcen, M1, alpha): #  not all parameters are used here, some are shared\n",
    "    \"\"\"\n",
    "    Number of central galaxies, based on HOD, for single Halo mass\n",
    "    input\n",
    "    \"\"\"\n",
    "    centrals = 0.5 * fcen * (1. + scipy.special.erf( (np.log10(Mh)-np.log10(Mmin))/sigma_logM) )\n",
    "    return np.log10(centrals)\n",
    "\n",
    "def function2(Mh, Mmin, M0, sigma_logM, fcen, M1, alpha):\n",
    "    \"\"\"\n",
    "    Number of central galaxies, based on HOD, for single Halo mass\n",
    "    input\n",
    "    \"\"\"\n",
    "    nc = 0.5 * (1. + scipy.special.erf( (np.log10(Mh)-np.log10(Mmin))/sigma_logM) ) \n",
    "    satellites = nc * (np.fabs(Mh-M0)/M1)**alpha\n",
    "    return np.heaviside(Mh-M0, 1)*np.log10(satellites)\n",
    "    \n",
    "def combinedFunction(comboData, Mmin, M0, sigma_logM, fcen, M1, alpha):\n",
    "    # single data reference passed in, extract separate data\n",
    "    extract1 = comboData[:len(x1)] # first data\n",
    "    extract2 = comboData[len(x1):] # second data\n",
    "\n",
    "    result1 = function1(extract1, Mmin, M0, sigma_logM, fcen, M1, alpha)\n",
    "    result2 = function2(extract2, Mmin, M0, sigma_logM, fcen, M1, alpha)\n",
    "\n",
    "    return np.append(result1, result2)\n",
    "\n",
    "\n",
    "# some initial parameter values\n",
    "Mmin_0 = 10**12\n",
    "M0_0 = 10**12\n",
    "sigma_logM_0 = 0.3\n",
    "fcen_0 = 0.2\n",
    "M1_0 = 10**13\n",
    "alpha_0 = 1.\n",
    "\n",
    "initialParameters = np.array([Mmin_0, M0_0, sigma_logM_0, fcen_0, M1_0, alpha_0])\n",
    "\n",
    "# curve fit the combined data to the combined function\n",
    "fittedParameters, pcov = curve_fit(combinedFunction, comboX, comboY, initialParameters, maxfev = 100000)\n",
    "\n",
    "# values for display of fitted function\n",
    "Mmin_fit, M0_fit, sigma_logM_fit, fcen_fit, M1_fit, alpha_fit = fittedParameters\n",
    "\n",
    "y_fit_1 = function1(x1, Mmin_fit, M0_fit, sigma_logM_fit, fcen_fit, M1_fit, alpha_fit) # first data set, first equation\n",
    "y_fit_2 = function2(x2, Mmin_fit, M0_fit, sigma_logM_fit, fcen_fit, M1_fit, alpha_fit) # second data set, second equation\n",
    "\n",
    "\n",
    "\n",
    "print('Mmin = %0.2e, M0 = %0.2e, sigma_logM = %0.2f, fcen = %0.2f, M1 = %0.2e, alpha = %0.2f'%(Mmin_fit,  M0_fit, simga_logM_fit, fcen_fit, M1_fit, alpha_fit))"
   ]
  },
  {
   "cell_type": "code",
   "execution_count": 110,
   "metadata": {},
   "outputs": [
    {
     "data": {
      "image/png": "[encoded data removed]",
      "text/plain": [
       "<Figure size 504x360 with 1 Axes>"
      ]
     },
     "metadata": {
      "needs_background": "light"
     },
     "output_type": "display_data"
    },
    {
     "name": "stdout",
     "output_type": "stream",
     "text": [
      "Log(Mmin) = 12.22, Log(M0) = 11.78, sigma_logM = 0.52, fcen = 0.23, Log(M1) = 13.76, alpha = 0.99\n"
     ]
    }
   ],
   "source": [
    "plt.figure(figsize = (7,5))\n",
    "plt.plot(x1, 10**y1, 'o', color = 'firebrick', label = 'Centrals') # plot the raw data\n",
    "plt.plot(x2, 10**y2, 'o', color = 'green', label = 'Satellites') # plot the raw data\n",
    "plt.plot(x1, 10**y_fit_1, color = 'firebrick') # plot the equation using the fitted parameters\n",
    "plt.plot(x2, 10**y_fit_2, color = 'g') # plot the equation using the fitted parameters\n",
    "plt.xscale('log')\n",
    "plt.yscale('log')\n",
    "plt.ylabel('$<N>$')\n",
    "plt.xlabel ('Halo Mass [$M_\\odot$]')\n",
    "plt.title('cosmoDC2 redMaGiC HighDens $0.15< z< 0.3$')\n",
    "plt.axhline(y = fcen_fit, label = '$f_{cen} = %0.2f$'%fcen_fit, ls = ':', color  = 'k')\n",
    "plt.legend(frameon=False)\n",
    "plt.show()\n",
    "print('Log(Mmin) = %0.2f, Log(M0) = %0.2f, sigma_logM = %0.2f, fcen = %0.2f, Log(M1) = %0.2f, alpha = %0.2f'%(np.log10(Mmin_fit), np.log10(M0_fit), sigma_logM_fit, fcen_fit, np.log10(M1_fit), alpha_fit))"
   ]
  },
  {
   "cell_type": "code",
   "execution_count": 46,
   "metadata": {},
   "outputs": [],
   "source": [
    "# Before\n",
    "# Log(Mmin) = 12.32, sigma_logM = 0.56, fcen = 0.25, Log(M1) = 13.27, alpha = 1.12"
   ]
  },
  {
   "cell_type": "markdown",
   "metadata": {},
   "source": [
    "# Get galaxy bias from HOD parameters"
   ]
  },
  {
   "cell_type": "code",
   "execution_count": 108,
   "metadata": {},
   "outputs": [],
   "source": [
    "import pyccl as ccl\n",
    "import numpy as np\n",
    "\n",
    "# see https://github.com/LSSTDESC/CCLX/blob/master/Halo-mass-function-example.ipynb for examples "
   ]
  },
  {
   "cell_type": "code",
   "execution_count": 109,
   "metadata": {},
   "outputs": [],
   "source": [
    "# Cosmology\n",
    "cosmo = ccl.Cosmology(Omega_c=0.2199999, Omega_b=0.0448, h=0.71, n_s=0.963, sigma8=0.8, \n",
    "                        A_s=None, Omega_k=0.0, Omega_g=None, Neff=3.046, w0=-1.0, wa=0.0, \n",
    "                        T_CMB=None, bcm_log10Mc=14.07918, bcm_etab=0.5, bcm_ks=55.0, mu_0=0.0, \n",
    "                        sigma_0=0.0, c1_mg=1.0, c2_mg=1.0, lambda_mg=0.0, m_nu=0.0, m_nu_type=None, \n",
    "                        z_mg=None, df_mg=None, transfer_function='boltzmann_camb', matter_power_spectrum='halofit', \n",
    "                        baryons_power_spectrum='nobaryons', mass_function='tinker10', halo_concentration='duffy2008', \n",
    "                        emulator_neutrinos='strict')\n",
    "\"\"\"\n",
    "#changing sigma8\n",
    "cosmo2 = ccl.Cosmology(Omega_c=0.2199999, Omega_b=0.0448, h=0.71, n_s=0.963, sigma8=0.7, \n",
    "                        A_s=None, Omega_k=0.0, Omega_g=None, Neff=3.046, w0=-1.0, wa=0.0, \n",
    "                        T_CMB=None, bcm_log10Mc=14.07918, bcm_etab=0.5, bcm_ks=55.0, mu_0=0.0, \n",
    "                        sigma_0=0.0, c1_mg=1.0, c2_mg=1.0, lambda_mg=0.0, m_nu=0.0, m_nu_type=None, \n",
    "                        z_mg=None, df_mg=None, transfer_function='boltzmann_camb', matter_power_spectrum='halofit', \n",
    "                        baryons_power_spectrum='nobaryons', mass_function='tinker10', halo_concentration='duffy2008', \n",
    "                        emulator_neutrinos='strict')\n",
    "#changing omega_m\n",
    "cosmo3 = ccl.Cosmology(Omega_c=0.27, Omega_b=0.0448, h=0.71, n_s=0.963, sigma8=0.8, \n",
    "                        A_s=None, Omega_k=0.0, Omega_g=None, Neff=3.046, w0=-1.0, wa=0.0, \n",
    "                        T_CMB=None, bcm_log10Mc=14.07918, bcm_etab=0.5, bcm_ks=55.0, mu_0=0.0, \n",
    "                        sigma_0=0.0, c1_mg=1.0, c2_mg=1.0, lambda_mg=0.0, m_nu=0.0, m_nu_type=None, \n",
    "                        z_mg=None, df_mg=None, transfer_function='boltzmann_camb', matter_power_spectrum='halofit', \n",
    "                        baryons_power_spectrum='nobaryons', mass_function='tinker10', halo_concentration='duffy2008', \n",
    "                        emulator_neutrinos='strict')\n",
    "\"\"\"\n",
    "# Array of masses\n",
    "m_arr = np.geomspace(1E10,1E15,128)\n",
    "\n",
    "# Array of redshifts\n",
    "z_arr = np.linspace(0.,1.,16)"
   ]
  },
  {
   "cell_type": "markdown",
   "metadata": {},
   "source": [
    "## Try to do the whole integration with CCL"
   ]
  },
  {
   "cell_type": "code",
   "execution_count": 110,
   "metadata": {},
   "outputs": [
    {
     "ename": "AttributeError",
     "evalue": "'str' object has no attribute 'Delta'",
     "output_type": "error",
     "traceback": [
      "\u001b[0;31m---------------------------------------------------------------------------\u001b[0m",
      "\u001b[0;31mAttributeError\u001b[0m                            Traceback (most recent call last)",
      "\u001b[0;32m<ipython-input-110-cefcf3eedf12>\u001b[0m in \u001b[0;36m<module>\u001b[0;34m\u001b[0m\n\u001b[1;32m     15\u001b[0m \u001b[0;34m\u001b[0m\u001b[0m\n\u001b[1;32m     16\u001b[0m \u001b[0;31m# halo bias\u001b[0m\u001b[0;34m\u001b[0m\u001b[0;34m\u001b[0m\u001b[0;34m\u001b[0m\u001b[0m\n\u001b[0;32m---> 17\u001b[0;31m \u001b[0mhbias\u001b[0m \u001b[0;34m=\u001b[0m \u001b[0mccl\u001b[0m\u001b[0;34m.\u001b[0m\u001b[0mhalos\u001b[0m\u001b[0;34m.\u001b[0m\u001b[0mhbias\u001b[0m\u001b[0;34m.\u001b[0m\u001b[0mHaloBiasTinker10\u001b[0m\u001b[0;34m(\u001b[0m\u001b[0mcosmo\u001b[0m\u001b[0;34m,\u001b[0m \u001b[0mmass_def\u001b[0m\u001b[0;34m=\u001b[0m\u001b[0;34m'fof'\u001b[0m\u001b[0;34m,\u001b[0m \u001b[0mmass_def_strict\u001b[0m\u001b[0;34m=\u001b[0m\u001b[0;32mTrue\u001b[0m\u001b[0;34m)\u001b[0m\u001b[0;34m\u001b[0m\u001b[0;34m\u001b[0m\u001b[0m\n\u001b[0m\u001b[1;32m     18\u001b[0m \u001b[0;34m\u001b[0m\u001b[0m\n\u001b[1;32m     19\u001b[0m \u001b[0;31m# Halo model calculator\u001b[0m\u001b[0;34m\u001b[0m\u001b[0;34m\u001b[0m\u001b[0;34m\u001b[0m\u001b[0m\n",
      "\u001b[0;32m/opt/lsst/software/stack/python/miniconda3-4.7.10/envs/lsst-scipipe-4d7b902/lib/python3.7/site-packages/pyccl/halos/hbias.py\u001b[0m in \u001b[0;36m__init__\u001b[0;34m(self, cosmo, mass_def, mass_def_strict)\u001b[0m\n\u001b[1;32m    314\u001b[0m         super(HaloBiasTinker10, self).__init__(cosmo,\n\u001b[1;32m    315\u001b[0m                                                \u001b[0mmass_def\u001b[0m\u001b[0;34m,\u001b[0m\u001b[0;34m\u001b[0m\u001b[0;34m\u001b[0m\u001b[0m\n\u001b[0;32m--> 316\u001b[0;31m                                                mass_def_strict)\n\u001b[0m\u001b[1;32m    317\u001b[0m \u001b[0;34m\u001b[0m\u001b[0m\n\u001b[1;32m    318\u001b[0m     \u001b[0;32mdef\u001b[0m \u001b[0m_default_mdef\u001b[0m\u001b[0;34m(\u001b[0m\u001b[0mself\u001b[0m\u001b[0;34m)\u001b[0m\u001b[0;34m:\u001b[0m\u001b[0;34m\u001b[0m\u001b[0;34m\u001b[0m\u001b[0m\n",
      "\u001b[0;32m/opt/lsst/software/stack/python/miniconda3-4.7.10/envs/lsst-scipipe-4d7b902/lib/python3.7/site-packages/pyccl/halos/hbias.py\u001b[0m in \u001b[0;36m__init__\u001b[0;34m(self, cosmo, mass_def, mass_def_strict)\u001b[0m\n\u001b[1;32m     31\u001b[0m         \u001b[0mself\u001b[0m\u001b[0;34m.\u001b[0m\u001b[0mmass_def_strict\u001b[0m \u001b[0;34m=\u001b[0m \u001b[0mmass_def_strict\u001b[0m\u001b[0;34m\u001b[0m\u001b[0;34m\u001b[0m\u001b[0m\n\u001b[1;32m     32\u001b[0m         \u001b[0;32mif\u001b[0m \u001b[0mmass_def\u001b[0m \u001b[0;32mis\u001b[0m \u001b[0;32mnot\u001b[0m \u001b[0;32mNone\u001b[0m\u001b[0;34m:\u001b[0m\u001b[0;34m\u001b[0m\u001b[0;34m\u001b[0m\u001b[0m\n\u001b[0;32m---> 33\u001b[0;31m             \u001b[0;32mif\u001b[0m \u001b[0mself\u001b[0m\u001b[0;34m.\u001b[0m\u001b[0m_check_mdef\u001b[0m\u001b[0;34m(\u001b[0m\u001b[0mmass_def\u001b[0m\u001b[0;34m)\u001b[0m\u001b[0;34m:\u001b[0m\u001b[0;34m\u001b[0m\u001b[0;34m\u001b[0m\u001b[0m\n\u001b[0m\u001b[1;32m     34\u001b[0m                 raise ValueError(\"Halo bias \" + self.name +\n\u001b[1;32m     35\u001b[0m                                  \u001b[0;34m\" is not compatible with mass definition\"\u001b[0m \u001b[0;34m+\u001b[0m\u001b[0;34m\u001b[0m\u001b[0;34m\u001b[0m\u001b[0m\n",
      "\u001b[0;32m/opt/lsst/software/stack/python/miniconda3-4.7.10/envs/lsst-scipipe-4d7b902/lib/python3.7/site-packages/pyccl/halos/hbias.py\u001b[0m in \u001b[0;36m_check_mdef\u001b[0;34m(self, mdef)\u001b[0m\n\u001b[1;32m     75\u001b[0m         \"\"\"\n\u001b[1;32m     76\u001b[0m         \u001b[0;32mif\u001b[0m \u001b[0mself\u001b[0m\u001b[0;34m.\u001b[0m\u001b[0mmass_def_strict\u001b[0m\u001b[0;34m:\u001b[0m\u001b[0;34m\u001b[0m\u001b[0;34m\u001b[0m\u001b[0m\n\u001b[0;32m---> 77\u001b[0;31m             \u001b[0;32mreturn\u001b[0m \u001b[0mself\u001b[0m\u001b[0;34m.\u001b[0m\u001b[0m_check_mdef_strict\u001b[0m\u001b[0;34m(\u001b[0m\u001b[0mmdef\u001b[0m\u001b[0;34m)\u001b[0m\u001b[0;34m\u001b[0m\u001b[0;34m\u001b[0m\u001b[0m\n\u001b[0m\u001b[1;32m     78\u001b[0m         \u001b[0;32mreturn\u001b[0m \u001b[0;32mFalse\u001b[0m\u001b[0;34m\u001b[0m\u001b[0;34m\u001b[0m\u001b[0m\n\u001b[1;32m     79\u001b[0m \u001b[0;34m\u001b[0m\u001b[0m\n",
      "\u001b[0;32m/opt/lsst/software/stack/python/miniconda3-4.7.10/envs/lsst-scipipe-4d7b902/lib/python3.7/site-packages/pyccl/halos/hbias.py\u001b[0m in \u001b[0;36m_check_mdef_strict\u001b[0;34m(self, mdef)\u001b[0m\n\u001b[1;32m    335\u001b[0m \u001b[0;34m\u001b[0m\u001b[0m\n\u001b[1;32m    336\u001b[0m     \u001b[0;32mdef\u001b[0m \u001b[0m_check_mdef_strict\u001b[0m\u001b[0;34m(\u001b[0m\u001b[0mself\u001b[0m\u001b[0;34m,\u001b[0m \u001b[0mmdef\u001b[0m\u001b[0;34m)\u001b[0m\u001b[0;34m:\u001b[0m\u001b[0;34m\u001b[0m\u001b[0;34m\u001b[0m\u001b[0m\n\u001b[0;32m--> 337\u001b[0;31m         \u001b[0;32mif\u001b[0m \u001b[0mmdef\u001b[0m\u001b[0;34m.\u001b[0m\u001b[0mDelta\u001b[0m \u001b[0;34m==\u001b[0m \u001b[0;34m'fof'\u001b[0m\u001b[0;34m:\u001b[0m\u001b[0;34m\u001b[0m\u001b[0;34m\u001b[0m\u001b[0m\n\u001b[0m\u001b[1;32m    338\u001b[0m             \u001b[0;32mreturn\u001b[0m \u001b[0;32mTrue\u001b[0m\u001b[0;34m\u001b[0m\u001b[0;34m\u001b[0m\u001b[0m\n\u001b[1;32m    339\u001b[0m         \u001b[0;32mreturn\u001b[0m \u001b[0;32mFalse\u001b[0m\u001b[0;34m\u001b[0m\u001b[0;34m\u001b[0m\u001b[0m\n",
      "\u001b[0;31mAttributeError\u001b[0m: 'str' object has no attribute 'Delta'"
     ]
    }
   ],
   "source": [
    "z = 0.25\n",
    "k_small = 1E-4\n",
    "a = 1./(1+z)\n",
    "\n",
    "# concentration relation\n",
    "#c_M_relation = ccl.halos.concentration.ConcentrationBhattacharya13()\n",
    "c_M_relation = ccl.halos.concentration.ConcentrationConstant(c=1, mdef=None)\n",
    "\n",
    "# halo mass function\n",
    "massfunc=ccl.halos.MassFuncTinker10(cosmo)\n",
    "\n",
    "# mass definition\n",
    "# FoF mass definition\n",
    "mass_def = ccl.halos.MassDef('fof', 'matter')\n",
    "\n",
    "# halo bias\n",
    "hbias = ccl.halos.hbias.HaloBiasTinker10(cosmo, mass_def='fof', mass_def_strict=True)\n",
    "\n",
    "# Halo model calculator\n",
    "hmc = ccl.halos.halo_model.HMCalculator(cosmo, massfunc, hbias, mass_def, log10M_min=8.0, log10M_max=16.0, nlog10M=128, integration_method_M='simpson', k_min=1e-05)"
   ]
  },
  {
   "cell_type": "code",
   "execution_count": 68,
   "metadata": {},
   "outputs": [],
   "source": [
    "prof = ccl.halos.HaloProfileHOD(c_M_relation, \n",
    "                                lMmin_0=np.log10(Mmin_fit), lMmin_p=0.0, \n",
    "                                siglM_0=sigma_logM_fit, siglM_p=0.0, \n",
    "                                lM0_0=np.log10(M0_fit), lM0_p=0.0, \n",
    "                                lM1_0=np.log10(M1_fit), lM1_p=0.0, \n",
    "                                alpha_0=alpha_fit, alpha_p=0.0, \n",
    "                                fc_0=fcen_fit, fc_p=0.0, \n",
    "                                bg_0=1.0, bg_p=0.0, bmax_0=1.0, bmax_p=0.0, a_pivot=1.0)\n"
   ]
  },
  {
   "cell_type": "code",
   "execution_count": 86,
   "metadata": {},
   "outputs": [],
   "source": [
    "# get the large scale bias using a small k number. This doesn't work for fof masses. \n",
    "# see https://ccl.readthedocs.io/en/latest/api/pyccl.halos.halo_model.html?highlight=halos.halomod_bias_1pt#pyccl.halos.halo_model.halomod_bias_1pt\n",
    "b = ccl.halos.halomod_bias_1pt(cosmo, hmc, k_small, a, prof, normprof=True)"
   ]
  },
  {
   "cell_type": "code",
   "execution_count": 19,
   "metadata": {},
   "outputs": [
    {
     "data": {
      "image/png": "[encoded data removed]",
      "text/plain": [
       "<Figure size 432x288 with 1 Axes>"
      ]
     },
     "metadata": {
      "needs_background": "light"
     },
     "output_type": "display_data"
    }
   ],
   "source": [
    "\n",
    "plt.figure()\n",
    "cosmos = [cosmo1, cosmo2, cosmo3 ]\n",
    "ls = ['-', '--', ':']\n",
    "colors = ['firebrick', 'tomato', 'orange', 'powderblue', 'teal', 'k']\n",
    "for i, cosmo in enumerate(cosmos):\n",
    "    hmfs = []\n",
    "    # Press & Schechter mass function\n",
    "    hmfs.append(ccl.halos.MassFuncPress74(cosmo))\n",
    "\n",
    "    # Sheth & Tormen mass function\n",
    "    hmfs.append(ccl.halos.MassFuncSheth99(cosmo))\n",
    "\n",
    "    # Tinker 2008 mass function\n",
    "    hmfs.append(ccl.halos.MassFuncTinker08(cosmo))\n",
    "\n",
    "    # Tinker 2010 mass function\n",
    "    hmfs.append(ccl.halos.MassFuncTinker10(cosmo))\n",
    "\n",
    "    # Bocquet 2016 mass function\n",
    "    hmfs.append(ccl.halos.MassFuncBocquet16(cosmo))\n",
    "\n",
    "    # Let's plot all of them at z=0\n",
    "\n",
    "    for j, mf in enumerate(hmfs):\n",
    "        nm = mf.get_mass_function(cosmo, m_arr, 1.)\n",
    "        if i==0:\n",
    "            plt.plot(m_arr, m_arr * nm, label=mf.name, ls = ls[i], color = colors[j])\n",
    "        else:\n",
    "            plt.plot(m_arr, m_arr * nm, ls = ls[i], color = colors[j])\n",
    "plt.xscale('log')\n",
    "plt.ylim([1E9,8.5E9])\n",
    "plt.legend()\n",
    "plt.xlabel(r'$M/M_\\odot$', fontsize=14)\n",
    "plt.ylabel(r'$M\\,\\frac{dn}{d\\log_{10}M}\\,[M_\\odot\\,{\\rm Mpc}^{-3}]$',\n",
    "           fontsize=14);"
   ]
  },
  {
   "cell_type": "markdown",
   "metadata": {},
   "source": [
    "## Try to do the galaxy bias integration myself, using some CCL functions, with FOF masses"
   ]
  },
  {
   "cell_type": "code",
   "execution_count": 111,
   "metadata": {},
   "outputs": [
    {
     "data": {
      "text/plain": [
       "array([0.75895577, 0.76078563, 0.76268375, 0.76465213, 0.76669281,\n",
       "       0.76880791, 0.77099963, 0.77327023, 0.77562204, 0.77805746,\n",
       "       0.78057901, 0.78318925, 0.78589084, 0.78868653, 0.79157919,\n",
       "       0.79457178, 0.79766736, 0.80086911, 0.80418031, 0.80760436,\n",
       "       0.81114478, 0.8148052 , 0.81858942, 0.82250132, 0.82654496,\n",
       "       0.83072452, 0.83504437, 0.83950904, 0.8441232 , 0.84889172,\n",
       "       0.85381964, 0.8589122 , 0.86417485, 0.86961326, 0.87523329,\n",
       "       0.88104106, 0.8870429 , 0.8932454 , 0.89965543, 0.90628009,\n",
       "       0.9131268 , 0.92020326, 0.92751748, 0.93507782, 0.942893  ,\n",
       "       0.95097208, 0.9593245 , 0.96796009, 0.97688909, 0.9861222 ,\n",
       "       0.99567057, 1.00554581, 1.01576003, 1.02632586, 1.03725653,\n",
       "       1.04856582, 1.06026817, 1.07237862, 1.08491288, 1.09788738,\n",
       "       1.11131931, 1.12522667, 1.13962825, 1.15454373, 1.16999368,\n",
       "       1.18599963, 1.20258418, 1.21977098, 1.2375848 , 1.2560516 ,\n",
       "       1.27519856, 1.29505425, 1.31564867, 1.33701332, 1.35918121,\n",
       "       1.382187  , 1.40606709, 1.43085975, 1.45660522, 1.48334577,\n",
       "       1.51112584, 1.53999215, 1.56999387, 1.60118282, 1.63361353,\n",
       "       1.66734346, 1.70243307, 1.73894608, 1.77694975, 1.81651508,\n",
       "       1.85771699, 1.9006345 , 1.94535101, 1.99195458, 2.04053823,\n",
       "       2.09120028, 2.14404463, 2.1991811 , 2.25672583, 2.31680174,\n",
       "       2.37953912, 2.44507596, 2.51355843, 2.58514136, 2.65998887,\n",
       "       2.73827502, 2.82018462, 2.90591374, 2.99567053, 3.08967598,\n",
       "       3.18816485, 3.29138674, 3.39960708, 3.51310814, 3.63219024,\n",
       "       3.75717297, 3.88839665, 4.02622389, 4.17104116, 4.32326038,\n",
       "       4.48332084, 4.65169114, 4.82887144, 5.01539578, 5.21183456,\n",
       "       5.41879726, 5.63693536, 5.86694557])"
      ]
     },
     "execution_count": 111,
     "metadata": {},
     "output_type": "execute_result"
    }
   ],
   "source": [
    "z = 0.25\n",
    "k_small = 1E-4\n",
    "a = 1./(1+z)\n",
    "\n",
    "# Array of masses\n",
    "m_arr = np.geomspace(1E10,1E15,128)\n",
    "\n",
    "# Cosmology\n",
    "cosmo = ccl.Cosmology(Omega_c=0.2199999, Omega_b=0.0448, h=0.71, n_s=0.963, sigma8=0.8, \n",
    "                        A_s=None, Omega_k=0.0, Omega_g=None, Neff=3.046, w0=-1.0, wa=0.0, \n",
    "                        T_CMB=None, bcm_log10Mc=14.07918, bcm_etab=0.5, bcm_ks=55.0, mu_0=0.0, \n",
    "                        sigma_0=0.0, c1_mg=1.0, c2_mg=1.0, lambda_mg=0.0, m_nu=0.0, m_nu_type=None, \n",
    "                        z_mg=None, df_mg=None, transfer_function='boltzmann_camb', matter_power_spectrum='halofit', \n",
    "                        baryons_power_spectrum='nobaryons', mass_function='tinker10', halo_concentration='duffy2008', \n",
    "                        emulator_neutrinos='strict')\n",
    "\n",
    "# halo mass function\n",
    "hmf = ccl.halos.hmfunc.MassFuncSheth99(cosmo, mass_def=None, mass_def_strict=True, use_delta_c_fit=False) #default using FoF masses\n",
    "hmf.get_mass_function(cosmo, m_arr, a, mdef_other=None) # mass function 𝑑𝑛/𝑑log10𝑀 in units of Mpc^-3 (comoving).\n",
    "\n",
    "# halo bias\n",
    "hbias = ccl.halos.hbias.HaloBiasSheth01(cosmo, mass_def=None, mass_def_strict=True) #fof masses will be used by default\n",
    "hbias.get_halo_bias(cosmo, m_arr, a, mdef_other=None)"
   ]
  },
  {
   "cell_type": "code",
   "execution_count": 112,
   "metadata": {},
   "outputs": [],
   "source": [
    "def ngal_hod(z):\n",
    "    \"\"\"\n",
    "    Number density of galaies, based on HOD modeling\n",
    "    input\n",
    "    -----\n",
    "    - z : redshift\n",
    "    output\n",
    "    ------\n",
    "    number density of galaxies, in Mpc^-3\n",
    "    \"\"\"\n",
    "    \n",
    "    #define mass array\n",
    "    m_arr = np.geomspace(7E10,1E15,128)\n",
    "    \n",
    "    # HOD profile\n",
    "    Numgal = N_total(m_arr)\n",
    "    \n",
    "    # convert to scale factor\n",
    "    a = 1./(1+z)\n",
    "    \n",
    "    # HMF calculation\n",
    "    hmf = ccl.halos.hmfunc.MassFuncSheth99(cosmo, mass_def=None, mass_def_strict=True, use_delta_c_fit=False) #default using FoF masses\n",
    "    dndlnM = hmf.get_mass_function(cosmo, m_arr, a, mdef_other=None) # mass function 𝑑𝑛/𝑑log10𝑀 in units of Mpc^-3 (comoving).\n",
    "\n",
    "    # Do the integral in log spaced M\n",
    "    #n_g = integral(dlogM * dn/dlogM <N>)    \n",
    "        \n",
    "    return np.trapz(y=Numgal*dndlnM, x=np.log10(m_arr))"
   ]
  },
  {
   "cell_type": "code",
   "execution_count": 113,
   "metadata": {},
   "outputs": [],
   "source": [
    "def bgal_hod(z):\n",
    "    \"\"\"\n",
    "    Calculates the galaxy bias, based on HOD modeling\n",
    "    input\n",
    "    -----\n",
    "    - z : redshift\n",
    "    output\n",
    "    ------\n",
    "    galaxy bias, dimensionless\n",
    "    \"\"\"\n",
    "    \n",
    "    #define mass array\n",
    "    m_arr = np.geomspace(7E10,1E15,128)\n",
    "    \n",
    "    # HOD profile: number of galaxies in halo from HOD\n",
    "    Numgal = N_total(m_arr)\n",
    "\n",
    "    # galaxy number density calculation\n",
    "    ngal = ngal_hod(z)\n",
    "    \n",
    "    # convert to scale factor\n",
    "    a = 1./(1+z)\n",
    "\n",
    "    # halo bias calculation\n",
    "    hbias = ccl.halos.hbias.HaloBiasSheth01(cosmo, mass_def=None, mass_def_strict=True) #fof masses will be used by default\n",
    "    b_h = hbias.get_halo_bias(cosmo, m_arr, a, mdef_other=None)\n",
    "\n",
    "    # HMF calculation\n",
    "    hmf = ccl.halos.hmfunc.MassFuncSheth99(cosmo, mass_def=None, mass_def_strict=True, use_delta_c_fit=False) #default using FoF masses\n",
    "    dndlnM = hmf.get_mass_function(cosmo, m_arr, a, mdef_other=None) # mass function 𝑑𝑛/𝑑log10𝑀 in units of Mpc^-3 (comoving)\n",
    "\n",
    "    # calculation of average galaxy bias\n",
    "    #for i in range(NMh):\n",
    "    #    integrand[i] = b_h[i] * dndlnM[i] * Numgal[i]\n",
    "    integrand = b_h * dndlnM * Numgal\n",
    "\n",
    "    return np.trapz(y=integrand, x=np.log10(m_arr))/ngal\n"
   ]
  },
  {
   "cell_type": "code",
   "execution_count": 118,
   "metadata": {},
   "outputs": [],
   "source": [
    "zs = np.linspace(0.30, 0.45, 10)\n",
    "bias  = []\n",
    "for z in zs:\n",
    "    bias.append(bgal_hod(z))"
   ]
  },
  {
   "cell_type": "code",
   "execution_count": 119,
   "metadata": {},
   "outputs": [
    {
     "data": {
      "text/plain": [
       "Text(0.5, 1.0, '1st redshift bin')"
      ]
     },
     "execution_count": 119,
     "metadata": {},
     "output_type": "execute_result"
    },
    {
     "data": {
      "image/png": "[encoded data removed]",
      "text/plain": [
       "<Figure size 432x288 with 1 Axes>"
      ]
     },
     "metadata": {
      "needs_background": "light"
     },
     "output_type": "display_data"
    }
   ],
   "source": [
    "plt.plot(zs, bias)\n",
    "plt.xlabel('redshift')\n",
    "plt.ylabel('Galaxy bias from HOD')\n",
    "#plt.axhline(y=bgal_bin1, color = 'red')\n",
    "#plt.plot(zl, nzs[0]/5)\n",
    "#plt.xlim(0,0.5)\n",
    "plt.title('1st redshift bin')"
   ]
  },
  {
   "cell_type": "markdown",
   "metadata": {},
   "source": [
    "## Get the galaxy bias averaged over the redshift distribution"
   ]
  },
  {
   "cell_type": "code",
   "execution_count": 120,
   "metadata": {},
   "outputs": [],
   "source": [
    "def bgal_avg_hod(zl, nzl):\n",
    "    \"\"\"\n",
    "    Calculates the redshift avereged galaxy bias,\n",
    "    based on HOD modeling,\n",
    "    averaged over the lens redshift distribution\n",
    "    ------\n",
    "    average galaxy bias, dimensionless\n",
    "    \"\"\"\n",
    "    # setup integrand\n",
    "    bgal_hod_zs = []\n",
    "    for i in range(len(zl)):\n",
    "        bgal_hod_zs.append(bgal_hod(zl[i]))\n",
    "    bgal_hod_zs = np.array(bgal_hod_zs)\n",
    "    \n",
    "    integrand = bgal_hod_zs * nzl\n",
    "\n",
    "    return np.trapz(y=integrand, x=zl)"
   ]
  },
  {
   "cell_type": "code",
   "execution_count": 117,
   "metadata": {},
   "outputs": [],
   "source": [
    "dir = '/global/cscratch1/sd/jprat/TXPipe/data/cosmodc2/outputs_redmagic/2021/no_shape_noise/7sbins/'\n",
    "zl = np.loadtxt(dir + 'z_lens.txt')\n",
    "nzs = np.loadtxt(dir + 'nzs_lens.txt')"
   ]
  },
  {
   "cell_type": "code",
   "execution_count": 121,
   "metadata": {},
   "outputs": [
    {
     "data": {
      "text/plain": [
       "1.4791095030717494"
      ]
     },
     "execution_count": 121,
     "metadata": {},
     "output_type": "execute_result"
    }
   ],
   "source": [
    "bgal_avg_hod(zl, nzs[1])"
   ]
  },
  {
   "cell_type": "code",
   "execution_count": 122,
   "metadata": {},
   "outputs": [
    {
     "data": {
      "text/plain": [
       "[<matplotlib.lines.Line2D at 0x2aaacedca6d8>]"
      ]
     },
     "execution_count": 122,
     "metadata": {},
     "output_type": "execute_result"
    },
    {
     "data": {
      "image/png": "[encoded data removed]",
      "text/plain": [
       "<Figure size 432x288 with 1 Axes>"
      ]
     },
     "metadata": {
      "needs_background": "light"
     },
     "output_type": "display_data"
    }
   ],
   "source": [
    "plt.plot(zl, nzs[1])"
   ]
  },
  {
   "cell_type": "code",
   "execution_count": 71,
   "metadata": {},
   "outputs": [],
   "source": [
    "# bin 1 \n",
    "b1 = 1.4316230070086657\n",
    "Mmin = 2.11e+12, sigma_logM = 0.56, fcen = 0.25, M1 = 1.84e+13, alpha = 1.12\n",
    "Log(Mmin) = 12.32, sigma_logM = 0.56, fcen = 0.25, Log(M1) = 13.27, alpha = 1.12"
   ]
  },
  {
   "cell_type": "code",
   "execution_count": null,
   "metadata": {},
   "outputs": [],
   "source": [
    "# bin2\n",
    "Mmin = 1.88e+12, sigma_logM = 0.55, fcen = 0.47, M1 = 1.66e+13, alpha = 1.09\n",
    "Log(Mmin) = 12.27, sigma_logM = 0.55, fcen = 0.47, Log(M1) = 13.22, alpha = 1.09"
   ]
  }
 ],
 "metadata": {
  "kernelspec": {
   "display_name": "desc-dia",
   "language": "python",
   "name": "desc-dia"
  },
  "language_info": {
   "codemirror_mode": {
    "name": "ipython",
    "version": 3
   },
   "file_extension": ".py",
   "mimetype": "text/x-python",
   "name": "python",
   "nbconvert_exporter": "python",
   "pygments_lexer": "ipython3",
   "version": "3.7.2"
  }
 },
 "nbformat": 4,
 "nbformat_minor": 4
}
