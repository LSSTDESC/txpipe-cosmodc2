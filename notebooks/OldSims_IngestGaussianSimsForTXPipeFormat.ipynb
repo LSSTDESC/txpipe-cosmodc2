{
 "cells": [
  {
   "cell_type": "code",
   "execution_count": 6,
   "id": "07f2b1da-0725-4efd-bc15-3b56b34962f1",
   "metadata": {},
   "outputs": [],
   "source": [
    "from astropy.io import fits\n",
    "import h5py\n",
    "import numpy as np\n",
    "import os"
   ]
  },
  {
   "cell_type": "markdown",
   "id": "5a78246e-3501-4386-83b6-b983500abc72",
   "metadata": {},
   "source": [
    "## Define some variables here:"
   ]
  },
  {
   "cell_type": "code",
   "execution_count": 2,
   "id": "b974043a-b74b-480a-8b68-4e0089fb5097",
   "metadata": {},
   "outputs": [],
   "source": [
    "seed = 2\n",
    "with_shape_noise = False\n",
    "\n",
    "\n",
    "# number of bins in the gaussian sims:\n",
    "s_bins = 4\n",
    "l_bins = 6"
   ]
  },
  {
   "cell_type": "markdown",
   "id": "74657abc-d3cb-46c7-9c53-0993f08f0289",
   "metadata": {},
   "source": [
    "## Let's check out how the files we would like to create look like"
   ]
  },
  {
   "cell_type": "code",
   "execution_count": 2,
   "id": "dc19ea3a-0eb0-4f31-bd91-8adec73d5652",
   "metadata": {},
   "outputs": [],
   "source": [
    "path_lens_cat = '/global/cscratch1/sd/jprat/TXPipe/data/cosmodc2/outputs_redmagic/2021/june/7sbins/binned_lens_catalog.hdf5'\n",
    "f = h5py.File(path_lens_cat,'r')"
   ]
  },
  {
   "cell_type": "code",
   "execution_count": 3,
   "id": "ecb6a1a0-bf4f-45ae-b44b-94e3a045e3ea",
   "metadata": {},
   "outputs": [
    {
     "data": {
      "text/plain": [
       "<KeysViewHDF5 ['bin_0', 'bin_1', 'bin_2', 'bin_3', 'bin_4', 'bin_all']>"
      ]
     },
     "execution_count": 3,
     "metadata": {},
     "output_type": "execute_result"
    }
   ],
   "source": [
    "f['lens'].keys()"
   ]
  },
  {
   "cell_type": "code",
   "execution_count": 4,
   "id": "a0e55987-07e6-44eb-b4f3-a1d3258b52d9",
   "metadata": {},
   "outputs": [
    {
     "data": {
      "text/plain": [
       "<KeysViewHDF5 []>"
      ]
     },
     "execution_count": 4,
     "metadata": {},
     "output_type": "execute_result"
    }
   ],
   "source": [
    "f['provenance'].keys()"
   ]
  },
  {
   "cell_type": "code",
   "execution_count": 9,
   "id": "645eea68-c23e-4873-a50c-f9015522b958",
   "metadata": {},
   "outputs": [
    {
     "data": {
      "text/plain": [
       "<KeysViewHDF5 ['dec', 'ra', 'weight']>"
      ]
     },
     "execution_count": 9,
     "metadata": {},
     "output_type": "execute_result"
    }
   ],
   "source": [
    "f['lens/bin_all'].keys()"
   ]
  },
  {
   "cell_type": "code",
   "execution_count": 145,
   "id": "47cdd55a-31f4-4ee4-8146-c09f9568b063",
   "metadata": {},
   "outputs": [],
   "source": [
    "path_source_cat = '/global/cscratch1/sd/jprat/TXPipe/data/cosmodc2/outputs_redmagic/2021/june/7sbins/binned_shear_catalog.hdf5'\n",
    "f = h5py.File(path_source_cat,'r')"
   ]
  },
  {
   "cell_type": "code",
   "execution_count": 160,
   "id": "db062b69-8b25-4e11-a11c-6eb98fa3bee1",
   "metadata": {},
   "outputs": [
    {
     "data": {
      "text/plain": [
       "<KeysViewHDF5 ['dec', 'g1', 'g2', 'ra', 'weight']>"
      ]
     },
     "execution_count": 160,
     "metadata": {},
     "output_type": "execute_result"
    }
   ],
   "source": [
    "f['shear/bin_0'].keys()"
   ]
  },
  {
   "cell_type": "code",
   "execution_count": 150,
   "id": "8cdee9fd-d26a-49f2-b853-65230e44810e",
   "metadata": {},
   "outputs": [
    {
     "data": {
      "text/plain": [
       "<KeysViewHDF5 ['bin_0', 'bin_1', 'bin_2', 'bin_3', 'bin_4', 'bin_5', 'bin_6', 'bin_7', 'nbin', 'nbin_source']>"
      ]
     },
     "execution_count": 150,
     "metadata": {},
     "output_type": "execute_result"
    }
   ],
   "source": [
    "f['shear'].attrs.keys()"
   ]
  },
  {
   "cell_type": "code",
   "execution_count": 152,
   "id": "a15ef1ae-3c90-4b15-9e17-a48e1c967f6c",
   "metadata": {},
   "outputs": [
    {
     "data": {
      "text/plain": [
       "8"
      ]
     },
     "execution_count": 152,
     "metadata": {},
     "output_type": "execute_result"
    }
   ],
   "source": [
    "f['shear'].attrs['nbin']"
   ]
  },
  {
   "cell_type": "code",
   "execution_count": 153,
   "id": "bd39969a-00a7-4907-8b7e-d7513f92e6bb",
   "metadata": {},
   "outputs": [
    {
     "data": {
      "text/plain": [
       "7"
      ]
     },
     "execution_count": 153,
     "metadata": {},
     "output_type": "execute_result"
    }
   ],
   "source": [
    "f['shear'].attrs['nbin_source']"
   ]
  },
  {
   "cell_type": "code",
   "execution_count": 63,
   "id": "d3680e49-5e75-4318-b25d-5d43b429a252",
   "metadata": {},
   "outputs": [
    {
     "data": {
      "text/plain": [
       "<KeysViewHDF5 ['bin_0', 'bin_1', 'bin_2', 'bin_3', 'bin_4']>"
      ]
     },
     "execution_count": 63,
     "metadata": {},
     "output_type": "execute_result"
    }
   ],
   "source": [
    "f['randoms/'].keys()"
   ]
  },
  {
   "cell_type": "code",
   "execution_count": 64,
   "id": "24ee75b3-936c-457a-8d73-eb8acdba4945",
   "metadata": {},
   "outputs": [
    {
     "data": {
      "text/plain": [
       "<KeysViewHDF5 ['dec', 'ra', 'z']>"
      ]
     },
     "execution_count": 64,
     "metadata": {},
     "output_type": "execute_result"
    }
   ],
   "source": [
    "f['randoms/bin_0'].keys()"
   ]
  },
  {
   "cell_type": "markdown",
   "id": "114ddd12-9b37-41f7-9284-006b67b1bd60",
   "metadata": {},
   "source": [
    "## Create the h5py file for the the lens sample"
   ]
  },
  {
   "cell_type": "code",
   "execution_count": 11,
   "id": "3faeddbc-3d7b-453c-b5f7-eb1c8ba4544a",
   "metadata": {},
   "outputs": [],
   "source": [
    "for seed in range(2,11):\n",
    "    hf = h5py.File('/global/cscratch1/sd/jprat/gaussian_sims/seed%d/binned_lens_catalog.hdf5'%seed, 'w')\n",
    "    g_lens = hf.create_group('lens')\n",
    "    folder = '/global/cscratch1/sd/jprat/gaussian_sims/seed%d/'%seed\n",
    "\n",
    "    ra_all = []\n",
    "    dec_all = []\n",
    "    w_all = []\n",
    "\n",
    "    for i in range(l_bins):\n",
    "        fits_cat = fits.open(folder + 'cat_count_zbin%d_signalnoise_S.fits'%(i+1))\n",
    "        ra = fits_cat[1].data['ra']\n",
    "        dec = fits_cat[1].data['dec']\n",
    "        w = fits_cat[1].data['w']\n",
    "        ra_all.extend(ra)\n",
    "        dec_all.extend(dec)\n",
    "        w_all.extend(w)\n",
    "        g_lens.create_dataset('bin_%d/ra'%i,data=ra)\n",
    "        g_lens.create_dataset('bin_%d/dec'%i,data=dec)\n",
    "        g_lens.create_dataset('bin_%d/weight'%i,data=w)\n",
    "\n",
    "    g_lens.create_dataset('bin_all/ra',data=np.array(ra_all))\n",
    "    g_lens.create_dataset('bin_all/dec',data=np.array(dec_all))\n",
    "    g_lens.create_dataset('bin_all/weight',data=np.array(w_all))\n",
    "\n",
    "    g_lens.attrs['nbin_lens'] = l_bins\n",
    "\n",
    "    hf.close()"
   ]
  },
  {
   "cell_type": "raw",
   "id": "5f03542c-f77d-4f94-8aa8-06eaa3da8002",
   "metadata": {},
   "source": [
    "### Let's try if it worked. Loading file we created"
   ]
  },
  {
   "cell_type": "raw",
   "id": "51e4f4a6-1039-4c76-92d6-7f79d2d362fe",
   "metadata": {},
   "source": [
    "hf_read = h5py.File('/global/cscratch1/sd/jprat/gaussian_sims/seed%d/binned_lens_catalog.hdf5'%seed, 'r')\n",
    "hf_read.keys()\n",
    "hf_read['lens/bin_all'].keys()"
   ]
  },
  {
   "cell_type": "code",
   "execution_count": 4,
   "id": "bf68c9c7-f4da-44f0-bf41-564e2e1ce641",
   "metadata": {},
   "outputs": [],
   "source": [
    "def make_directory(directory):\n",
    "    if not os.path.exists(directory):\n",
    "        os.makedirs(directory)"
   ]
  },
  {
   "cell_type": "markdown",
   "id": "e9797fe7-663b-4721-9293-dbc93d82a00b",
   "metadata": {},
   "source": [
    "## Let's repeat the process for the source sample"
   ]
  },
  {
   "cell_type": "code",
   "execution_count": 7,
   "id": "a6406914-e1a9-4342-80ca-3ae618b37d22",
   "metadata": {},
   "outputs": [
    {
     "name": "stdout",
     "output_type": "stream",
     "text": [
      "We are saving g1, g2 here: /global/cscratch1/sd/jprat/gaussian_sims/seed2/no_shape_noise/binned_shear_catalog.hdf5\n",
      "We are saving g1, g2 here: /global/cscratch1/sd/jprat/gaussian_sims/seed3/no_shape_noise/binned_shear_catalog.hdf5\n",
      "We are saving g1, g2 here: /global/cscratch1/sd/jprat/gaussian_sims/seed4/no_shape_noise/binned_shear_catalog.hdf5\n",
      "We are saving g1, g2 here: /global/cscratch1/sd/jprat/gaussian_sims/seed5/no_shape_noise/binned_shear_catalog.hdf5\n",
      "We are saving g1, g2 here: /global/cscratch1/sd/jprat/gaussian_sims/seed6/no_shape_noise/binned_shear_catalog.hdf5\n",
      "We are saving g1, g2 here: /global/cscratch1/sd/jprat/gaussian_sims/seed7/no_shape_noise/binned_shear_catalog.hdf5\n",
      "We are saving g1, g2 here: /global/cscratch1/sd/jprat/gaussian_sims/seed8/no_shape_noise/binned_shear_catalog.hdf5\n",
      "We are saving g1, g2 here: /global/cscratch1/sd/jprat/gaussian_sims/seed9/no_shape_noise/binned_shear_catalog.hdf5\n",
      "We are saving g1, g2 here: /global/cscratch1/sd/jprat/gaussian_sims/seed10/no_shape_noise/binned_shear_catalog.hdf5\n"
     ]
    }
   ],
   "source": [
    "for seed in range(2,11):\n",
    "    if with_shape_noise:\n",
    "        path_sources = '/global/cscratch1/sd/jprat/gaussian_sims/seed%d/with_shape_noise/binned_shear_catalog.hdf5'%seed\n",
    "        print('We are saving e1, e2 here:', path_sources)\n",
    "    else:\n",
    "        path_sources = '/global/cscratch1/sd/jprat/gaussian_sims/seed%d/no_shape_noise/binned_shear_catalog.hdf5'%seed  \n",
    "        make_directory('/global/cscratch1/sd/jprat/gaussian_sims/seed%d/no_shape_noise/'%seed)\n",
    "        print('We are saving g1, g2 here:', path_sources)\n",
    "\n",
    "    hf = h5py.File(path_sources, 'w')\n",
    "    g_source = hf.create_group('shear')\n",
    "    folder = '/global/cscratch1/sd/jprat/gaussian_sims/seed%d/'%seed\n",
    "\n",
    "    ra_all = []\n",
    "    dec_all = []\n",
    "    w_all = []\n",
    "    g1_all = []\n",
    "    g2_all = []\n",
    "\n",
    "    for i in range(s_bins):\n",
    "        fits_cat = fits.open(folder + 'cat_shear_zbin%d_signalnoise_S.fits'%(i+1))\n",
    "        ra = fits_cat[1].data['ra']\n",
    "        dec = fits_cat[1].data['dec']\n",
    "        w = fits_cat[1].data['w']\n",
    "        if with_shape_noise:\n",
    "            g1 = fits_cat[1].data['e1']\n",
    "            g2 = fits_cat[1].data['e2']\n",
    "        else:\n",
    "            g1 = fits_cat[1].data['g1']\n",
    "            g2 = fits_cat[1].data['g2']\n",
    "\n",
    "        ra_all.extend(ra)\n",
    "        dec_all.extend(dec)\n",
    "        w_all.extend(w) \n",
    "        g1_all.extend(g1)\n",
    "        g2_all.extend(g2)\n",
    "\n",
    "        g_source.create_dataset('bin_%d/ra'%i,data=ra)\n",
    "        g_source.create_dataset('bin_%d/dec'%i,data=dec)\n",
    "        g_source.create_dataset('bin_%d/weight'%i,data=w)\n",
    "        g_source.create_dataset('bin_%d/g1'%i,data=g1)\n",
    "        g_source.create_dataset('bin_%d/g2'%i,data=g2)\n",
    "\n",
    "    g_source.create_dataset('bin_all/ra',data=np.array(ra_all))\n",
    "    g_source.create_dataset('bin_all/dec',data=np.array(dec_all))\n",
    "    g_source.create_dataset('bin_all/weight',data=np.array(w_all))\n",
    "    g_source.create_dataset('bin_all/g1',data=np.array(g1_all))\n",
    "    g_source.create_dataset('bin_all/g2',data=np.array(g2_all))\n",
    "\n",
    "    # Do the attributes\n",
    "    g_source.attrs['nbin_source'] = s_bins\n",
    "    hf.close()"
   ]
  },
  {
   "cell_type": "markdown",
   "id": "cf8ba776-195a-45c6-92b0-2be2d790f4d4",
   "metadata": {},
   "source": [
    "## Let's do the randoms now"
   ]
  },
  {
   "cell_type": "code",
   "execution_count": 138,
   "id": "01fc5067-6e31-4f86-bd5d-0633105ac34b",
   "metadata": {},
   "outputs": [],
   "source": [
    "hf = h5py.File('/global/cscratch1/sd/jprat/gaussian_sims/seed%d/binned_random_catalog.hdf5'%seed, 'w')\n",
    "g_rand = hf.create_group('randoms')"
   ]
  },
  {
   "cell_type": "code",
   "execution_count": 139,
   "id": "87494256-b759-4a70-90d1-92b5c6dc433d",
   "metadata": {},
   "outputs": [],
   "source": [
    "folder = '/global/cscratch1/sd/jprat/gaussian_sims/seed%d/'%seed\n",
    "\n",
    "ra_all = []\n",
    "dec_all = []\n",
    "z_all = []\n",
    "bin_all = []\n",
    "for i in range(l_bins):\n",
    "    fits_cat = fits.open(folder + 'randoms_maglim_zbin%d.fits'%(i+1))\n",
    "    ra = fits_cat[1].data['ra']\n",
    "    dec = fits_cat[1].data['dec']\n",
    "    z = fits_cat[1].data['z']\n",
    "    \n",
    "    ra_all.extend(ra)\n",
    "    dec_all.extend(dec)\n",
    "    z_all.extend(z) \n",
    "    bin_all.extend(np.ones(len(ra))*i)\n",
    "\n",
    "    g_rand.create_dataset('bin_%d/ra'%i,data=ra)\n",
    "    g_rand.create_dataset('bin_%d/dec'%i,data=dec)\n",
    "    g_rand.create_dataset('bin_%d/z'%i,data=z)\n",
    "    \n",
    "\n",
    "hf.close()"
   ]
  },
  {
   "cell_type": "markdown",
   "id": "01c35ffb-74dc-4bd9-9330-9c845cead52c",
   "metadata": {},
   "source": [
    "## Now check the input of the Jackknife stage in TXPipe, which requires another input than the twopoint stage"
   ]
  },
  {
   "cell_type": "raw",
   "id": "485febcf-ea06-43d2-9d57-99db40ddbda4",
   "metadata": {},
   "source": [
    "rand = h5py.File('/global/cscratch1/sd/jprat/TXPipe/data/cosmodc2/outputs_redmagic/2021/june/7sbins/random_cats.hdf5', 'r')\n",
    "rand['randoms'].keys()"
   ]
  },
  {
   "cell_type": "raw",
   "id": "1bd42b7f-bd67-4786-a1b6-06f66805226a",
   "metadata": {},
   "source": [
    "rand['randoms/bin'][:]"
   ]
  },
  {
   "cell_type": "raw",
   "id": "7c3ab8b2-3e01-496c-8e7a-d456affa09e0",
   "metadata": {},
   "source": [
    "hf_rand = h5py.File('/global/cscratch1/sd/jprat/gaussian_sims/seed%d/random_cats.hdf5'%seed, 'w')\n",
    "g_rand_all = hf_rand.create_group('randoms')"
   ]
  },
  {
   "cell_type": "raw",
   "id": "27b85141-998d-45ae-b906-05d34baa1f7d",
   "metadata": {},
   "source": [
    "g_rand_all.create_dataset('ra',data=np.array(ra_all))\n",
    "g_rand_all.create_dataset('dec',data=np.array(dec_all))\n",
    "g_rand_all.create_dataset('z',data=np.array(z_all))\n",
    "g_rand_all.create_dataset('bin',data=np.array(bin_all))\n",
    "hf_rand.close()"
   ]
  },
  {
   "cell_type": "markdown",
   "id": "2a81632d-85c3-4cab-810a-f7f890201468",
   "metadata": {},
   "source": [
    "## Now let's deal with the metadata file"
   ]
  },
  {
   "cell_type": "code",
   "execution_count": 2,
   "id": "cc764900-f75e-4b99-8c38-0cd6ddc7ac22",
   "metadata": {},
   "outputs": [],
   "source": [
    "meta = h5py.File('/global/cscratch1/sd/jprat/TXPipe/data/cosmodc2/outputs_redmagic/2021/june/7sbins/tracer_metadata.hdf5', 'r')"
   ]
  },
  {
   "cell_type": "code",
   "execution_count": 61,
   "id": "9993f52b-db14-4796-b02e-931d5920b9e3",
   "metadata": {},
   "outputs": [
    {
     "data": {
      "text/plain": [
       "<KeysViewHDF5 ['provenance', 'tracers']>"
      ]
     },
     "execution_count": 61,
     "metadata": {},
     "output_type": "execute_result"
    }
   ],
   "source": [
    "meta.keys()"
   ]
  },
  {
   "cell_type": "code",
   "execution_count": 56,
   "id": "1e8f6150-f4af-4c55-a54b-a5edba192736",
   "metadata": {},
   "outputs": [
    {
     "data": {
      "text/plain": [
       "<KeysViewHDF5 ['N_eff', 'N_eff_2d', 'R_S', 'R_S_2d', 'R_gamma_mean', 'R_gamma_mean_2d', 'R_total', 'R_total_2d', 'lens_counts', 'lens_counts_2d', 'lens_density', 'lens_density_2d', 'mean_e1', 'mean_e1_2d', 'mean_e2', 'mean_e2_2d', 'n_eff', 'sigma_e', 'sigma_e_2d', 'source_counts', 'source_counts_2d', 'source_density', 'source_density_2d']>"
      ]
     },
     "execution_count": 56,
     "metadata": {},
     "output_type": "execute_result"
    }
   ],
   "source": [
    "meta['tracers'].keys()"
   ]
  },
  {
   "cell_type": "code",
   "execution_count": 57,
   "id": "9d3c48ef-b10e-49cf-81af-300c86720a9f",
   "metadata": {},
   "outputs": [],
   "source": [
    "keys = meta['tracers'].keys()"
   ]
  },
  {
   "cell_type": "code",
   "execution_count": 54,
   "id": "c6399684-ac7c-4a5a-ab89-28820dba74f4",
   "metadata": {},
   "outputs": [
    {
     "data": {
      "text/plain": [
       "array([0.01811546, 0.0348763 , 0.0598026 , 0.08908671, 0.1072563 ])"
      ]
     },
     "execution_count": 54,
     "metadata": {},
     "output_type": "execute_result"
    }
   ],
   "source": [
    "meta['tracers/lens_density'][:] "
   ]
  },
  {
   "cell_type": "code",
   "execution_count": 71,
   "id": "b9245b2b-9e24-4ca4-b3db-8a7d8bf0043b",
   "metadata": {},
   "outputs": [
    {
     "data": {
      "text/plain": [
       "array([6401491., 5513226., 9845754., 7546428., 3638492.,  794157.,\n",
       "         92664.], dtype=float32)"
      ]
     },
     "execution_count": 71,
     "metadata": {},
     "output_type": "execute_result"
    }
   ],
   "source": [
    "meta['tracers/N_eff'][:]"
   ]
  },
  {
   "cell_type": "code",
   "execution_count": 72,
   "id": "47cf73f2-05a9-4d7d-b58e-d1753a831461",
   "metadata": {},
   "outputs": [
    {
     "data": {
      "text/plain": [
       "array([6401491, 5513226, 9845754, 7546428, 3638492,  794157,   92664],\n",
       "      dtype=int32)"
      ]
     },
     "execution_count": 72,
     "metadata": {},
     "output_type": "execute_result"
    }
   ],
   "source": [
    "meta['tracers/source_counts'][:]"
   ]
  },
  {
   "cell_type": "code",
   "execution_count": 6,
   "id": "63ce1290-c557-434b-aeb7-9fd89f42785e",
   "metadata": {},
   "outputs": [
    {
     "data": {
      "text/plain": [
       "array([33832212.], dtype=float32)"
      ]
     },
     "execution_count": 6,
     "metadata": {},
     "output_type": "execute_result"
    }
   ],
   "source": [
    "meta['tracers/N_eff_2d'][:]"
   ]
  },
  {
   "cell_type": "code",
   "execution_count": 87,
   "id": "0450f491-79ac-4c51-8ab5-6b75f44cb9b4",
   "metadata": {},
   "outputs": [
    {
     "data": {
      "text/plain": [
       "array([[0., 0.],\n",
       "       [0., 0.]], dtype=float32)"
      ]
     },
     "execution_count": 87,
     "metadata": {},
     "output_type": "execute_result"
    }
   ],
   "source": [
    "meta['tracers/R_S_2d'][:]"
   ]
  },
  {
   "cell_type": "code",
   "execution_count": 8,
   "id": "dbd8c39f-8fc7-493a-93c1-cf7e91b1591f",
   "metadata": {},
   "outputs": [
    {
     "data": {
      "text/plain": [
       "array([0.2600776 , 0.25999746, 0.26015183, 0.2601616 , 0.26032376,\n",
       "       0.260263  , 0.26117256], dtype=float32)"
      ]
     },
     "execution_count": 8,
     "metadata": {},
     "output_type": "execute_result"
    }
   ],
   "source": [
    "meta['tracers/sigma_e'][:]"
   ]
  },
  {
   "cell_type": "code",
   "execution_count": 107,
   "id": "4d137fcb-4ca7-4e53-9a92-7110036fb529",
   "metadata": {},
   "outputs": [
    {
     "data": {
      "text/plain": [
       "array([4.0295334 , 3.4703991 , 6.1975865 , 4.7502346 , 2.290314  ,\n",
       "       0.49989638, 0.05832902], dtype=float32)"
      ]
     },
     "execution_count": 107,
     "metadata": {},
     "output_type": "execute_result"
    }
   ],
   "source": [
    "meta['tracers/n_eff'][:]"
   ]
  },
  {
   "cell_type": "code",
   "execution_count": 108,
   "id": "aad99c5d-c5db-41b8-a7c3-ca8ce4ed12b6",
   "metadata": {},
   "outputs": [
    {
     "data": {
      "text/plain": [
       "array([4.02953349, 3.47039913, 6.19758669, 4.75023465, 2.29031414,\n",
       "       0.49989639, 0.05832902])"
      ]
     },
     "execution_count": 108,
     "metadata": {},
     "output_type": "execute_result"
    }
   ],
   "source": [
    "meta['tracers/source_density'][:]"
   ]
  },
  {
   "cell_type": "markdown",
   "id": "cb4d8986-2ac8-4972-83a5-4126c249a6bb",
   "metadata": {},
   "source": [
    "### Let's create a new metadata file with the right number of redshift bins"
   ]
  },
  {
   "cell_type": "code",
   "execution_count": 156,
   "id": "b9bbf0d4-b519-4c96-a7c6-0fbca138eca5",
   "metadata": {},
   "outputs": [],
   "source": [
    "meta_w = h5py.File('/global/cscratch1/sd/jprat/gaussian_sims/seed%d/tracer_metadata.hdf5'%seed, 'w')"
   ]
  },
  {
   "cell_type": "code",
   "execution_count": 157,
   "id": "301aa12b-562c-4d01-9aa0-b1a53d281f26",
   "metadata": {},
   "outputs": [],
   "source": [
    "tracers = meta_w.create_group('tracers/')"
   ]
  },
  {
   "cell_type": "code",
   "execution_count": 158,
   "id": "a4c0c0e9-5e8b-46f4-b3e7-eda20cabf279",
   "metadata": {},
   "outputs": [],
   "source": [
    "N_eff = [10846462., 10968695., 10696726., 11328877.]\n",
    "N_eff_2d = np.sum(N_eff)\n",
    "R_S = [[[0,0], [0,0]], [[0,0], [0,0]], [[0,0], [0,0]], [[0,0], [0,0]]]\n",
    "R_S_2d = np.sum(R_S, axis = 0)\n",
    "R_gamma_mean = [[[1,0], [0,1]], [[1,0], [0,1]], [[1,0], [0,1]], [[1,0], [0,1]]]\n",
    "R_gamma_mean_2d = np.sum(R_gamma_mean, axis = 0)/s_bins\n",
    "R_total = [[[1,0], [0,1]], [[1,0], [0,1]], [[1,0], [0,1]], [[1,0], [0,1]]]\n",
    "R_total_2d = np.sum(R_gamma_total, axis = 0)/s_bins\n",
    "lens_counts = [10846462, 10846462, 10846462, 10846462, 10846462, 10846462] # invented! copying the source one so far since I don't have it. \n",
    "lens_counts_2d = np.sum(lens_counts)\n",
    "lens_density = [0.1499, 0.1072, 0.1091, 0.1458, 0.1062, 0.1002]\n",
    "lens_density_2d = np.sum(lens_density)\n",
    "mean_e1 = np.zeros(s_bins)\n",
    "mean_e1_2d = 0.\n",
    "mean_e2 = np.zeros(s_bins)\n",
    "mean_e2_2d = 0.\n",
    "n_eff = [0.1499, 0.1499, 0.1499, 0.1499] # Invented!!! copying the lens one so far since I don't have it. \n",
    "sigma_e = [0.37009, 0.39709, 0.39291, 0.45572] # as sqrt(std(e1)**2 + std(e2)**2)\n",
    "sigma_e_2d = np.sum(sigma_e)\n",
    "source_counts = N_eff\n",
    "source_counts_2d = np.sum(source_counts)\n",
    "source_density = n_eff\n",
    "source_density_2d = np.sum(source_density)"
   ]
  },
  {
   "cell_type": "code",
   "execution_count": 159,
   "id": "6d12045f-2bb8-49b7-b1b7-f0e3800f72ac",
   "metadata": {},
   "outputs": [],
   "source": [
    "meta_w.create_dataset('tracers/N_eff',data=np.array(N_eff))\n",
    "meta_w.create_dataset('tracers/N_eff_2d',data=np.array(N_eff_2d))\n",
    "meta_w.create_dataset('tracers/R_S',data=np.array(R_S))\n",
    "meta_w.create_dataset('tracers/R_S_2d',data=np.array(R_S_2d))\n",
    "meta_w.create_dataset('tracers/R_gamma_mean',data=np.array(R_gamma_mean))\n",
    "meta_w.create_dataset('tracers/R_gamma_mean_2d',data=np.array(R_gamma_mean_2d))\n",
    "meta_w.create_dataset('tracers/R_total',data=np.array(R_total))\n",
    "meta_w.create_dataset('tracers/R_total_2d',data=np.array(R_total_2d))\n",
    "meta_w.create_dataset('tracers/lens_counts',data=np.array(lens_counts))\n",
    "meta_w.create_dataset('tracers/lens_counts_2d',data=np.array(lens_counts_2d))\n",
    "meta_w.create_dataset('tracers/lens_density',data=np.array(lens_density))\n",
    "meta_w.create_dataset('tracers/lens_density_2d',data=np.array(lens_density_2d))\n",
    "meta_w.create_dataset('tracers/mean_e1',data=np.array(mean_e1))\n",
    "meta_w.create_dataset('tracers/mean_e1_2d',data=np.array(mean_e1_2d))\n",
    "meta_w.create_dataset('tracers/mean_e2',data=np.array(mean_e2))\n",
    "meta_w.create_dataset('tracers/mean_e2_2d',data=np.array(mean_e2_2d))\n",
    "meta_w.create_dataset('tracers/n_eff',data=np.array(n_eff))\n",
    "meta_w.create_dataset('tracers/sigma_e',data=np.array(sigma_e))\n",
    "meta_w.create_dataset('tracers/sigma_e_2d',data=np.array(sigma_e_2d))\n",
    "meta_w.create_dataset('tracers/source_counts',data=np.array(source_counts))\n",
    "meta_w.create_dataset('tracers/source_counts_2d',data=np.array(source_counts_2d))\n",
    "meta_w.create_dataset('tracers/source_density',data=np.array(source_density))\n",
    "meta_w.create_dataset('tracers/source_density_2d',data=np.array(source_density_2d))\n",
    "\n",
    "\n",
    "# Do the attributes\n",
    "tracers.attrs['area'] = 1763.682 #sq deg, for the south part of Yuukis sims. \n",
    "\n",
    "meta_w.close()"
   ]
  },
  {
   "cell_type": "markdown",
   "id": "893a4c89-9dd1-4aa6-a841-68da5919f5f7",
   "metadata": {},
   "source": [
    "## Let's create the redshift distributions files"
   ]
  },
  {
   "cell_type": "raw",
   "id": "932334ac-e6ad-4b82-b076-ef3b1a68b6b8",
   "metadata": {},
   "source": [
    "# Check out how the output looks like in TXPipe. We need to reproduce it. \n",
    "nz_s = h5py.File('/global/cscratch1/sd/jprat/TXPipe/data/cosmodc2/outputs_redmagic/2021/june/7sbins/shear_photoz_stack.hdf5', 'r')\n",
    "nz_l = h5py.File('/global/cscratch1/sd/jprat/TXPipe/data/cosmodc2/outputs_redmagic/2021/june/7sbins/lens_photoz_stack.hdf5', 'r')"
   ]
  },
  {
   "cell_type": "raw",
   "id": "31422e48-ee2f-42db-b83a-8942027c195a",
   "metadata": {},
   "source": [
    "nz_l['n_of_z/lens'].keys()"
   ]
  },
  {
   "cell_type": "raw",
   "id": "21bbd600-f440-42d3-8cc3-efb07d3016c4",
   "metadata": {},
   "source": [
    "nz_s['n_of_z/source/'].keys()"
   ]
  },
  {
   "cell_type": "raw",
   "id": "a41af369-a9b6-472f-8830-6820df1e79e2",
   "metadata": {},
   "source": [
    "nz_s['n_of_z/source2d/'].keys()"
   ]
  },
  {
   "cell_type": "code",
   "execution_count": 39,
   "id": "685dfc9d-4588-4e10-ae9d-23ea0b180602",
   "metadata": {},
   "outputs": [],
   "source": [
    "# source sample\n",
    "pz_s = h5py.File('/global/cscratch1/sd/jprat/gaussian_sims/seed%d/shear_photoz_stack.hdf5'%seed, 'w')\n",
    "n_of_z = pz_s.create_group('n_of_z')\n",
    "source = pz_s.create_group('n_of_z/source')\n",
    "source2d = pz_s.create_group('n_of_z/source2d')\n",
    "\n",
    "z = np.loadtxt('/global/cscratch1/sd/jprat/gaussian_sims/seed1/nz_source/z.txt') # the nz is the same for all seeds\n",
    "source.create_dataset('z',data=z)\n",
    "source2d.create_dataset('z',data=z)\n",
    "\n",
    "nz_all = np.zeros(len(z))\n",
    "for i in range(s_bins):\n",
    "    nz = np.loadtxt('/global/cscratch1/sd/jprat/gaussian_sims/seed%d/nz_source/bin_%d.txt'%(seed, i+1))\n",
    "    nz_all += nz\n",
    "    source.create_dataset('bin_%d'%i,data=nz)\n",
    "source2d.create_dataset('bin_0',data=nz_all)\n",
    "pz_s.close()"
   ]
  },
  {
   "cell_type": "raw",
   "id": "a0b6ff14-bfdd-4ef7-bc91-440b6b0bcae0",
   "metadata": {},
   "source": [
    "# Check out the output turned out well\n",
    "pz_s_read = h5py.File('/global/cscratch1/sd/jprat/gaussian_sims/seed%d/shear_photoz_stack.hdf5'%seed, 'r')"
   ]
  },
  {
   "cell_type": "raw",
   "id": "59fc73a9-5c8d-44e5-a170-1b7fe35e6aae",
   "metadata": {},
   "source": [
    "pz_s_read['n_of_z/source'].keys()"
   ]
  },
  {
   "cell_type": "code",
   "execution_count": 52,
   "id": "4cbe3a5a-ee36-4fdd-8403-14c2137f4e75",
   "metadata": {},
   "outputs": [],
   "source": [
    "# Lens sample\n",
    "pz_l = h5py.File('/global/cscratch1/sd/jprat/gaussian_sims/seed%d/lens_photoz_stack.hdf5'%seed, 'w')\n",
    "n_of_z = pz_l.create_group('n_of_z')\n",
    "lens = pz_l.create_group('n_of_z/lens')\n",
    "\n",
    "z = np.loadtxt('/global/cscratch1/sd/jprat/gaussian_sims/seed1/nz_lens/z.txt') # the nz is the same for all seeds\n",
    "lens.create_dataset('z',data=z)\n",
    "for i in range(l_bins):\n",
    "    nz = np.loadtxt('/global/cscratch1/sd/jprat/gaussian_sims/seed%d/nz_lens/bin_%d.txt'%(seed, i+1))\n",
    "    lens.create_dataset('bin_%d'%i,data=nz)\n",
    "pz_l.close()\n"
   ]
  },
  {
   "cell_type": "code",
   "execution_count": null,
   "id": "17690f24-afd9-42ed-9685-45dc8a045d67",
   "metadata": {},
   "outputs": [],
   "source": []
  }
 ],
 "metadata": {
  "kernelspec": {
   "display_name": "Python 3",
   "language": "python",
   "name": "python3"
  },
  "language_info": {
   "codemirror_mode": {
    "name": "ipython",
    "version": 3
   },
   "file_extension": ".py",
   "mimetype": "text/x-python",
   "name": "python",
   "nbconvert_exporter": "python",
   "pygments_lexer": "ipython3",
   "version": "3.8.8"
  }
 },
 "nbformat": 4,
 "nbformat_minor": 5
}
