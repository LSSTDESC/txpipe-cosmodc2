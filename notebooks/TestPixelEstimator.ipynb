{
 "cells": [
  {
   "cell_type": "code",
   "execution_count": 1,
   "id": "37045304-d3a8-4242-99cc-d88f365f0d82",
   "metadata": {},
   "outputs": [
    {
     "name": "stderr",
     "output_type": "stream",
     "text": [
      "\n",
      "WARNING: version mismatch between CFITSIO header (v4.000999999999999) and linked library (v4.01).\n",
      "\n",
      "\n",
      "WARNING: version mismatch between CFITSIO header (v4.000999999999999) and linked library (v4.01).\n",
      "\n"
     ]
    },
    {
     "name": "stdout",
     "output_type": "stream",
     "text": [
      "%pylab is deprecated, use %matplotlib inline and import the required libraries.\n",
      "Populating the interactive namespace from numpy and matplotlib\n"
     ]
    },
    {
     "name": "stderr",
     "output_type": "stream",
     "text": [
      "\n",
      "WARNING: version mismatch between CFITSIO header (v4.000999999999999) and linked library (v4.01).\n",
      "\n"
     ]
    }
   ],
   "source": [
    "import treecorr\n",
    "import h5py\n",
    "import pylab as mplot\n",
    "import healpy as hp\n",
    "import sacc\n",
    "%pylab inline"
   ]
  },
  {
   "cell_type": "code",
   "execution_count": 2,
   "id": "d95e3a82-df58-4bf9-8c1a-c11bd39ecc03",
   "metadata": {},
   "outputs": [
    {
     "name": "stdout",
     "output_type": "stream",
     "text": [
      "Keys: <KeysViewHDF5 ['lens', 'provenance']>\n",
      "<KeysViewHDF5 ['bin_0', 'bin_1', 'bin_2', 'bin_3', 'bin_4', 'bin_all']>\n"
     ]
    }
   ],
   "source": [
    "with h5py.File('/global/cfs/cdirs/lsst/groups/WL/users/jprat/gaussian_sims_srdnzs_fullsky/051422/12300area_nside4096/TXPipe_outputs/binned_lens_catalog.hdf5', \"r\") as f:\n",
    "    # List all groups\n",
    "    print(\"Keys: %s\" % f.keys())\n",
    "    a_group_key = list(f.keys())[0]\n",
    "\n",
    "    print(f['lens'].keys())\n",
    "    # Get the data\n",
    "    ra = np.array(f['lens/bin_0/ra'])\n",
    "    dec = np.array(f['lens/bin_0/dec'])\n",
    "    w = np.array(f['lens/bin_0/weight'])"
   ]
  },
  {
   "cell_type": "code",
   "execution_count": null,
   "id": "f9b1433a-1dc2-4ca0-8382-7a2a5bdb058a",
   "metadata": {},
   "outputs": [],
   "source": [
    "# make delta maps"
   ]
  },
  {
   "cell_type": "code",
   "execution_count": null,
   "id": "869af5c7-ab29-44d5-9134-826b3c205a6a",
   "metadata": {},
   "outputs": [],
   "source": []
  },
  {
   "cell_type": "code",
   "execution_count": null,
   "id": "2d44e8a5-aadc-4940-96d6-d1c5ba60631d",
   "metadata": {},
   "outputs": [
    {
     "name": "stdout",
     "output_type": "stream",
     "text": [
      "4\n"
     ]
    }
   ],
   "source": [
    "scale = np.array([2., 1.5, 1.25, 1.25, 1.25])\n",
    "\n",
    "for lensi in range(4,5):\n",
    "    print(lensi)\n",
    "    \n",
    "    with h5py.File('/global/cfs/cdirs/lsst/groups/WL/users/jprat/gaussian_sims_srdnzs_fullsky/051422/12300area_nside4096/TXPipe_outputs/density_maps.hdf5', \"r\") as f:\n",
    "\n",
    "        # Get the data\n",
    "        pix = np.array(f['maps/delta_'+str(lensi)+'/pixel']) \n",
    "        delta = np.array(f['maps/delta_'+str(lensi)+'/value'])\n",
    "        \n",
    "    theta, phi = hp.pix2ang(4096, pix)\n",
    "    dec_pix = 90.-theta/np.pi*180\n",
    "    ra_pix = phi/np.pi*180\n",
    "    mask_small_area = (ra_pix<500)\n",
    "    \n",
    "    \n",
    "    # <NN>\n",
    "    kk = treecorr.KKCorrelation(nbins=20,\n",
    "                                min_sep=2.5,\n",
    "                                max_sep=250.0,\n",
    "                                sep_units='arcmin',\n",
    "                                bin_slop=0.02)\n",
    "\n",
    "    # cat_k1 = treecorr.Catalog(ra=ra_pix[mask_small_area], dec=dec_pix[mask_small_area], k=delta[mask_small_area], ra_units='deg', dec_units='deg')\n",
    "    # kk.process(cat_k1, cat_k1)\n",
    "\n",
    "    cat_k1 = treecorr.Catalog(ra=ra_pix[mask_small_area], dec=dec_pix[mask_small_area], k=delta[mask_small_area], ra_units='deg', dec_units='deg', npatch=50)\n",
    "    kk.process(cat_k1, cat_k1)\n",
    "    cov_jk = kk.estimate_cov('jackknife')\n",
    "\n",
    "    theta      = np.exp(kk.logr)\n",
    "    mean       = kk.xi\n",
    "    weights_kk = kk.weight\n",
    "    npairs_kk  = kk.npairs\n",
    "\n",
    "    np.savez('wtheta_'+str(lensi)+'.npz', mean=mean.copy(), cov=cov_jk.copy())"
   ]
  },
  {
   "cell_type": "code",
   "execution_count": 19,
   "id": "b33c3704-13f3-4022-b890-cad76b910a54",
   "metadata": {},
   "outputs": [
    {
     "name": "stdout",
     "output_type": "stream",
     "text": [
      "[('lens_0', 'lens_0'), ('lens_1', 'lens_0'), ('lens_1', 'lens_1'), ('lens_2', 'lens_0'), ('lens_2', 'lens_1'), ('lens_2', 'lens_2'), ('lens_3', 'lens_0'), ('lens_3', 'lens_1'), ('lens_3', 'lens_2'), ('lens_3', 'lens_3'), ('lens_4', 'lens_0'), ('lens_4', 'lens_1'), ('lens_4', 'lens_2'), ('lens_4', 'lens_3'), ('lens_4', 'lens_4'), ('source_0', 'lens_0'), ('source_0', 'lens_1'), ('source_0', 'lens_2'), ('source_0', 'lens_3'), ('source_0', 'lens_4'), ('source_1', 'lens_0'), ('source_1', 'lens_1'), ('source_1', 'lens_2'), ('source_1', 'lens_3'), ('source_1', 'lens_4'), ('source_2', 'lens_0'), ('source_2', 'lens_1'), ('source_2', 'lens_2'), ('source_2', 'lens_3'), ('source_2', 'lens_4'), ('source_3', 'lens_0'), ('source_3', 'lens_1'), ('source_3', 'lens_2'), ('source_3', 'lens_3'), ('source_3', 'lens_4'), ('source_4', 'lens_0'), ('source_4', 'lens_1'), ('source_4', 'lens_2'), ('source_4', 'lens_3'), ('source_4', 'lens_4'), ('source_0', 'source_0'), ('source_1', 'source_0'), ('source_1', 'source_1'), ('source_2', 'source_0'), ('source_2', 'source_1'), ('source_2', 'source_2'), ('source_3', 'source_0'), ('source_3', 'source_1'), ('source_3', 'source_2'), ('source_3', 'source_3'), ('source_4', 'source_0'), ('source_4', 'source_1'), ('source_4', 'source_2'), ('source_4', 'source_3'), ('source_4', 'source_4')]\n"
     ]
    },
    {
     "data": {
      "image/png": "[encoded data removed]",
      "text/plain": [
       "<Figure size 432x288 with 1 Axes>"
      ]
     },
     "metadata": {
      "needs_background": "light"
     },
     "output_type": "display_data"
    }
   ],
   "source": [
    "TXPipe_cov = sacc.Sacc.load_fits('summary_statistics_real_scaled_shot_noise.sacc')\n",
    "\n",
    "print(TXPipe_cov.get_tracer_combinations())\n",
    "mplot.imshow(TXPipe_cov.covariance.covmat[:20,:20])\n",
    "\n",
    "fsky_all = 12300./(4*np.pi/np.pi**2*180**2)\n",
    "fsky_small = len(ra_pix[mask_small_area])*1.0/hp.nside2npix(4096)"
   ]
  },
  {
   "cell_type": "code",
   "execution_count": 6,
   "id": "bef47a69-ab6d-4b39-b823-7b90b81930c7",
   "metadata": {},
   "outputs": [
    {
     "name": "stdout",
     "output_type": "stream",
     "text": [
      "with scale cuts bin0 chi2/dof= 1.0762543179753163\n",
      "without scale cuts bin0 chi2/dof= 1.836002338150583\n",
      "with scale cuts bin1 chi2/dof= 0.3354583197768528\n",
      "without scale cuts bin1 chi2/dof= 1.688811548874605\n",
      "with scale cuts bin2 chi2/dof= 0.7019536430107773\n",
      "without scale cuts bin2 chi2/dof= 1.3889778787580975\n",
      "with scale cuts bin3 chi2/dof= 0.5313662362319028\n",
      "without scale cuts bin3 chi2/dof= 0.9943166208699796\n"
     ]
    },
    {
     "data": {
      "image/png": "[encoded data removed]",
      "text/plain": [
       "<Figure size 360x864 with 4 Axes>"
      ]
     },
     "metadata": {
      "needs_background": "light"
     },
     "output_type": "display_data"
    }
   ],
   "source": [
    "mplot.figure(figsize=(5,12))\n",
    "scale = np.array([2., 1.5, 1.25, 1.25, 1.25])\n",
    "order = np.array([0,2,5,9,14])\n",
    "TXPipe_cov = sacc.Sacc.load_fits('summary_statistics_real_scaled_shot_noise.sacc')\n",
    "\n",
    "for i in range(4):\n",
    "    \n",
    "    with h5py.File('/global/cfs/cdirs/lsst/groups/WL/users/jprat/gaussian_sims_srdnzs_fullsky/051422/12300area_nside4096/TXPipe_outputs/density_maps.hdf5', \"r\") as f:\n",
    "\n",
    "        # Get the data\n",
    "        pix2 = np.array(f['maps/delta_'+str(i)+'/pixel']) \n",
    "        \n",
    "    theta2, phi2 = hp.pix2ang(4096, pix2)\n",
    "    dec_pix2 = 90.-theta2/np.pi*180\n",
    "    ra_pix2 = phi2/np.pi*180\n",
    "    mask_small_area2 = (ra_pix2<500)\n",
    "    \n",
    "\n",
    "    fsky_all = 12300./(4*np.pi/np.pi**2*180**2)\n",
    "    fsky_small = len(ra_pix2[mask_small_area2])*1.0/hp.nside2npix(4096)\n",
    "    cov_ana = TXPipe_cov.covariance.covmat[20*order[i]:20*(order[i]+1),20*order[i]:20*(order[i]+1)]\n",
    "    #*fsky_all/fsky_small\n",
    "    #print(fsky_all/fsky_small)\n",
    "\n",
    "    \n",
    "    TXPipe = sacc.Sacc.load_fits('twopoint_theory_real.sacc')\n",
    "    theta3, xi = TXPipe.get_theta_xi(\n",
    "        'galaxy_density_xi',\n",
    "        'lens_'+str(i),\n",
    "        'lens_'+str(i))\n",
    "    \n",
    "    wtheta = np.load('wtheta_'+str(i)+'.npz')['mean']\n",
    "    # cov = np.load('wtheta_'+str(i)+'.npz')['cov']\n",
    "\n",
    "    mplot.subplot(5,1,i+1)\n",
    "    mplot.errorbar(theta3, wtheta*scale[i]**2/xi, yerr=np.diag(cov_ana)**0.5/xi, label='bin'+str(i))\n",
    "    mplot.legend()\n",
    "    mplot.xscale('log')\n",
    "    mplot.xlabel('theta')\n",
    "    mplot.ylabel('pixel estimator / theory')\n",
    "    mplot.ylim(0.6,1.4)\n",
    "    mplot.grid()\n",
    "    \n",
    "    nn = [10,8,7,7,6]\n",
    "    \n",
    "    # nn = [1,1,0,0,0]\n",
    "    \n",
    "    chi2 = np.dot(np.dot((wtheta[nn[i]:]*scale[i]**2-xi[nn[i]:]),np.linalg.inv(cov_ana[nn[i]:,nn[i]:])),(wtheta[nn[i]:]*scale[i]**2-xi[nn[i]:]).T)\n",
    "    print('with scale cuts bin'+str(i),'chi2/dof=', chi2/(20-nn[i]))\n",
    "\n",
    "    chi2 = np.dot(np.dot((wtheta*scale[i]**2-xi),np.linalg.inv(cov_ana)),(wtheta*scale[i]**2-xi).T)\n",
    "    print('without scale cuts bin'+str(i),'chi2/dof=', chi2/20)\n",
    "\n",
    "mplot.savefig('wtheta.png')"
   ]
  },
  {
   "cell_type": "code",
   "execution_count": null,
   "id": "0f324a40-0ee9-4513-ac02-60c90c4f1941",
   "metadata": {},
   "outputs": [],
   "source": []
  }
 ],
 "metadata": {
  "kernelspec": {
   "display_name": "desc-python-bleed",
   "language": "python",
   "name": "desc-python-bleed"
  },
  "language_info": {
   "codemirror_mode": {
    "name": "ipython",
    "version": 3
   },
   "file_extension": ".py",
   "mimetype": "text/x-python",
   "name": "python",
   "nbconvert_exporter": "python",
   "pygments_lexer": "ipython3",
   "version": "3.8.13"
  }
 },
 "nbformat": 4,
 "nbformat_minor": 5
}
