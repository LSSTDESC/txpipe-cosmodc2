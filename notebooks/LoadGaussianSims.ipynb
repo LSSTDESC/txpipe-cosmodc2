{
 "cells": [
  {
   "cell_type": "code",
   "execution_count": 5,
   "id": "5819a554-885b-488c-a612-86312766d249",
   "metadata": {},
   "outputs": [],
   "source": [
    "from astropy.io import fits\n",
    "import h5py"
   ]
  },
  {
   "cell_type": "code",
   "execution_count": 8,
   "id": "c5cb8e1f-e4f9-481d-81a9-439a35222679",
   "metadata": {},
   "outputs": [],
   "source": [
    "folder = '/global/cscratch1/sd/jprat/gaussian_sims/seed1/'\n",
    "shear = fits.open(folder + 'cat_shear_zbin1_signalnoise_S.fits')\n",
    "pos = fits.open(folder + 'cat_count_zbin1_signalnoise_S.fits')"
   ]
  },
  {
   "cell_type": "code",
   "execution_count": 5,
   "id": "d34ceb01-b24b-4876-9b49-14ab4067ae64",
   "metadata": {},
   "outputs": [
    {
     "data": {
      "text/plain": [
       "FITS_rec([(4.1671684e-03, -41.791363,  0.07163807,  0.21858622, -0.00429532, -0.00240921,  0.07593339,  0.22099543, 30.077208),\n",
       "          (5.5704545e-03, -41.78094 , -0.02079168, -0.01978052, -0.0010112 , -0.00342595, -0.01978048, -0.01635458, 36.13547 ),\n",
       "          (3.5999933e+02, -41.77318 ,  0.18755609,  0.08119374,  0.0010779 , -0.00487303,  0.18647818,  0.08606676, 13.944377),\n",
       "          ...,\n",
       "          (3.1341232e+02, -40.02332 ,  0.13122234,  0.33484054,  0.00104142, -0.00280825,  0.13018091,  0.33764878, 37.858322),\n",
       "          (3.1341272e+02, -40.02256 ,  0.07978594, -0.40736982,  0.00103886, -0.00279788,  0.07874707, -0.40457195, 42.09044 ),\n",
       "          (3.1341528e+02, -40.02014 , -0.1662699 ,  0.16630867,  0.00099067, -0.00273839, -0.16726057,  0.16904706, 45.48615 )],\n",
       "         dtype=(numpy.record, [('RA', '>f4'), ('DEC', '>f4'), ('E1', '>f4'), ('E2', '>f4'), ('G1', '>f4'), ('G2', '>f4'), ('rG1', '>f4'), ('rG2', '>f4'), ('W', '>f4')]))"
      ]
     },
     "execution_count": 5,
     "metadata": {},
     "output_type": "execute_result"
    }
   ],
   "source": [
    "shear[1].data"
   ]
  },
  {
   "cell_type": "code",
   "execution_count": 6,
   "id": "997c536d-9c75-43c4-bc9c-0e23f35f5a9d",
   "metadata": {},
   "outputs": [],
   "source": [
    "w = shear[1].data['W']"
   ]
  },
  {
   "cell_type": "code",
   "execution_count": 7,
   "id": "e3f9e193-ffbe-47cf-8334-3338aa29b909",
   "metadata": {},
   "outputs": [
    {
     "data": {
      "text/plain": [
       "array([30.077208, 36.13547 , 13.944377, ..., 37.858322, 42.09044 ,\n",
       "       45.48615 ], dtype=float32)"
      ]
     },
     "execution_count": 7,
     "metadata": {},
     "output_type": "execute_result"
    }
   ],
   "source": [
    "w"
   ]
  },
  {
   "cell_type": "code",
   "execution_count": 9,
   "id": "75638004-9e51-48c4-b7dd-f9e448f76692",
   "metadata": {},
   "outputs": [
    {
     "data": {
      "text/plain": [
       "FITS_rec([( 8.7890625, -39.996506, 1.), (30.805664 , -39.996506, 1.),\n",
       "          (45.81299  , -39.996506, 1.), ..., (59.728542 , -67.771996, 1.),\n",
       "          (59.728542 , -67.771996, 1.), (59.775078 , -67.771996, 1.)],\n",
       "         dtype=(numpy.record, [('RA', '>f4'), ('DEC', '>f4'), ('W', '>f4')]))"
      ]
     },
     "execution_count": 9,
     "metadata": {},
     "output_type": "execute_result"
    }
   ],
   "source": [
    "pos[1].data"
   ]
  },
  {
   "cell_type": "code",
   "execution_count": 7,
   "id": "d5d3c680-ae12-4437-abb8-2e9fb42c4137",
   "metadata": {},
   "outputs": [],
   "source": [
    "s2file = h5py.File('/global/cscratch1/sd/jprat/gaussian_sims/seed2/no_shape_noise/binned_shear_catalog.hdf5','r')\n",
    "s3file = h5py.File('/global/cscratch1/sd/jprat/gaussian_sims/seed3/no_shape_noise/binned_shear_catalog.hdf5','r')"
   ]
  },
  {
   "cell_type": "code",
   "execution_count": 27,
   "id": "3e1a77d2-ea74-40c2-a076-05f195264817",
   "metadata": {},
   "outputs": [
    {
     "data": {
      "text/plain": [
       "array([1.6125691e-03, 1.5516735e-02, 3.5997638e+02, 3.5998773e+02,\n",
       "       3.5997690e+02, 3.5999567e+02, 3.5999017e+02, 6.4750493e-02,\n",
       "       5.5640891e-02, 6.2064383e-02], dtype=float32)"
      ]
     },
     "execution_count": 27,
     "metadata": {},
     "output_type": "execute_result"
    }
   ],
   "source": [
    "s2file['shear/bin_3/ra'][:10]"
   ]
  },
  {
   "cell_type": "code",
   "execution_count": 26,
   "id": "41d60353-6b21-4fda-8b9a-5891d58c8fae",
   "metadata": {},
   "outputs": [
    {
     "data": {
      "text/plain": [
       "array([1.6125691e-03, 1.5516735e-02, 3.5997638e+02, 3.5998773e+02,\n",
       "       3.5997690e+02, 3.5999567e+02, 3.5999017e+02, 6.4750493e-02,\n",
       "       5.5640891e-02, 6.2064383e-02], dtype=float32)"
      ]
     },
     "execution_count": 26,
     "metadata": {},
     "output_type": "execute_result"
    }
   ],
   "source": [
    "s3file['shear/bin_3/ra'][:10]"
   ]
  },
  {
   "cell_type": "code",
   "execution_count": null,
   "id": "02eea4f0-81c0-4902-8dd7-c7078f578506",
   "metadata": {},
   "outputs": [],
   "source": []
  }
 ],
 "metadata": {
  "kernelspec": {
   "display_name": "Python 3",
   "language": "python",
   "name": "python3"
  },
  "language_info": {
   "codemirror_mode": {
    "name": "ipython",
    "version": 3
   },
   "file_extension": ".py",
   "mimetype": "text/x-python",
   "name": "python",
   "nbconvert_exporter": "python",
   "pygments_lexer": "ipython3",
   "version": "3.7.4"
  }
 },
 "nbformat": 4,
 "nbformat_minor": 5
}
