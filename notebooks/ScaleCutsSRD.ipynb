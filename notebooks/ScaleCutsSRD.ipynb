{
 "cells": [
  {
   "cell_type": "markdown",
   "metadata": {},
   "source": [
    "## Obtain SRD scale cuts for galaxy clustering and galaxy-galaxy lensing (given a kmax)"
   ]
  },
  {
   "cell_type": "code",
   "execution_count": 1,
   "metadata": {},
   "outputs": [],
   "source": [
    "import numpy as np\n",
    "from astropy.cosmology import FlatLambdaCDM"
   ]
  },
  {
   "cell_type": "code",
   "execution_count": 2,
   "metadata": {},
   "outputs": [
    {
     "name": "stdout",
     "output_type": "stream",
     "text": [
      "[1186.71766394 1885.2381223  2511.417963   3070.96831163 3571.09175523] Mpc\n"
     ]
    }
   ],
   "source": [
    "cosmo = FlatLambdaCDM(H0=71, Om0=2.647887e-01, Tcmb0=2.725000e+00)\n",
    "z_mean_l = [0.3, 0.5, 0.7, 0.9, 1.1] \n",
    "print(cosmo.comoving_distance(np.array(z_mean_l)))\n",
    "chi_of_zl = np.array(cosmo.comoving_distance(np.array(z_mean_l)))"
   ]
  },
  {
   "cell_type": "code",
   "execution_count": 3,
   "metadata": {},
   "outputs": [
    {
     "name": "stdout",
     "output_type": "stream",
     "text": [
      "[252.27086242 401.05572005 534.43202612 653.61625038 760.14254387]\n",
      "[42.81112728 26.92892648 20.20836977 16.52345699 14.20786152] arcmin\n"
     ]
    }
   ],
   "source": [
    "kmax = 0.213 # Mpc, equivalent to 0.3h/Mpc from page 47 here https://arxiv.org/pdf/1809.01669.pdf \n",
    "lmax_zl = kmax*chi_of_zl-0.5 #based on Eq.(4) from https://arxiv.org/pdf/1809.01669.pdf\n",
    "print(lmax_zl)\n",
    "\n",
    "theta_min_zl = 180/lmax_zl*60\n",
    "print(theta_min_zl, 'arcmin')"
   ]
  },
  {
   "cell_type": "code",
   "execution_count": null,
   "metadata": {},
   "outputs": [],
   "source": []
  }
 ],
 "metadata": {
  "kernelspec": {
   "display_name": "Python 3",
   "language": "python",
   "name": "python3"
  },
  "language_info": {
   "codemirror_mode": {
    "name": "ipython",
    "version": 3
   },
   "file_extension": ".py",
   "mimetype": "text/x-python",
   "name": "python",
   "nbconvert_exporter": "python",
   "pygments_lexer": "ipython3",
   "version": "3.7.4"
  }
 },
 "nbformat": 4,
 "nbformat_minor": 2
}
