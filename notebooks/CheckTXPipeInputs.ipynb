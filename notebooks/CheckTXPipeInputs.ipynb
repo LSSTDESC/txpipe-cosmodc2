{
 "cells": [
  {
   "cell_type": "code",
   "execution_count": 4,
   "id": "89b06788-8161-4304-ab52-8cd9b42fb760",
   "metadata": {},
   "outputs": [],
   "source": [
    "import h5py \n",
    "import numpy as np\n",
    "import pandas as pd"
   ]
  },
  {
   "cell_type": "code",
   "execution_count": 36,
   "id": "49d90537-cb7a-4bbf-81eb-113881e370ee",
   "metadata": {},
   "outputs": [],
   "source": [
    "path_shear_catalog = '/global/projecta/projectdirs/lsst/groups/WL/users/zuntz/data/cosmoDC2-1.1.4_oneyear_unit_response/shear_catalog.hdf5' #needed for source selector, output of TXCosmoDC2Mock\n",
    "path_photometry_catalog = '/global/projecta/projectdirs/lsst/groups/WL/users/zuntz/data/cosmoDC2-1.1.4_oneyear_unit_response/photometry_catalog.hdf5' # output of TXCosmoDC2Mock, needed for lens auxiliar maps\n",
    "#path_lens_photometry_catalog = '/global/projecta/projectdirs/lsst/groups/WL/users/zuntz/data/cosmoDC2-1.1.4_oneyear_unit_response/photometry_catalog.hdf5' # its the same as in above\n",
    "path_photoz_trained_model = '/global/projecta/projectdirs/lsst/groups/WL/users/zuntz/data/cosmoDC2-1.1.4_oneyear_unit_response/cosmoDC2_trees_i25.3.npy'\n",
    "path_calibration_table = '/global/projecta/projectdirs/lsst/groups/WL/users/zuntz/data/cosmoDC2-1.1.4_oneyear_unit_response/sample_cosmodc2_w10year_errors.dat' #needed for source selector\n",
    "path_redmagic_catalog = '/global/projecta/projectdirs/lsst/groups/WL/users/zuntz/data/redmagic/cosmoDC2_v1.1.4_run_redmagic_highdens.fit'"
   ]
  },
  {
   "cell_type": "code",
   "execution_count": 3,
   "id": "26b632f1-d610-47d2-85fe-bfafffd96b12",
   "metadata": {},
   "outputs": [],
   "source": [
    "shear = h5py.File(path_shear_catalog,'r')"
   ]
  },
  {
   "cell_type": "code",
   "execution_count": 4,
   "id": "1180c610-e8b1-42aa-b1fd-c044374fc669",
   "metadata": {},
   "outputs": [
    {
     "data": {
      "text/plain": [
       "<KeysViewHDF5 ['metacal', 'provenance', 'shear']>"
      ]
     },
     "execution_count": 4,
     "metadata": {},
     "output_type": "execute_result"
    }
   ],
   "source": [
    "shear.keys()"
   ]
  },
  {
   "cell_type": "code",
   "execution_count": 5,
   "id": "2ef94206-88ba-4b25-891d-4451cca28716",
   "metadata": {},
   "outputs": [
    {
     "data": {
      "text/plain": [
       "<KeysViewHDF5 ['dec', 'id', 'mcal_T', 'mcal_T_1m', 'mcal_T_1p', 'mcal_T_2m', 'mcal_T_2p', 'mcal_T_err', 'mcal_T_err_1m', 'mcal_T_err_1p', 'mcal_T_err_2m', 'mcal_T_err_2p', 'mcal_flags', 'mcal_flags_1m', 'mcal_flags_1p', 'mcal_flags_2m', 'mcal_flags_2p', 'mcal_g1', 'mcal_g1_1m', 'mcal_g1_1p', 'mcal_g1_2m', 'mcal_g1_2p', 'mcal_g2', 'mcal_g2_1m', 'mcal_g2_1p', 'mcal_g2_2m', 'mcal_g2_2p', 'mcal_mag_err_i', 'mcal_mag_err_i_1m', 'mcal_mag_err_i_1p', 'mcal_mag_err_i_2m', 'mcal_mag_err_i_2p', 'mcal_mag_err_r', 'mcal_mag_err_r_1m', 'mcal_mag_err_r_1p', 'mcal_mag_err_r_2m', 'mcal_mag_err_r_2p', 'mcal_mag_err_z', 'mcal_mag_err_z_1m', 'mcal_mag_err_z_1p', 'mcal_mag_err_z_2m', 'mcal_mag_err_z_2p', 'mcal_mag_i', 'mcal_mag_i_1m', 'mcal_mag_i_1p', 'mcal_mag_i_2m', 'mcal_mag_i_2p', 'mcal_mag_r', 'mcal_mag_r_1m', 'mcal_mag_r_1p', 'mcal_mag_r_2m', 'mcal_mag_r_2p', 'mcal_mag_z', 'mcal_mag_z_1m', 'mcal_mag_z_1p', 'mcal_mag_z_2m', 'mcal_mag_z_2p', 'mcal_psf_T_mean', 'mcal_psf_g1', 'mcal_psf_g2', 'mcal_s2n', 'mcal_s2n_1m', 'mcal_s2n_1p', 'mcal_s2n_2m', 'mcal_s2n_2p', 'psf_g1', 'psf_g2', 'ra', 'redshift_true', 'true_g1', 'true_g2', 'weight']>"
      ]
     },
     "execution_count": 5,
     "metadata": {},
     "output_type": "execute_result"
    }
   ],
   "source": [
    "shear['metacal'].keys()"
   ]
  },
  {
   "cell_type": "code",
   "execution_count": 8,
   "id": "b4f1df17-1342-4716-9f5e-dfb6597b7e17",
   "metadata": {},
   "outputs": [
    {
     "data": {
      "text/plain": [
       "array([0.00110605, 0.0009216 , 0.00047376, 0.00248905, 0.00071098,\n",
       "       0.00037512, 0.00043556, 0.00293025, 0.00015762, 0.00041904])"
      ]
     },
     "execution_count": 8,
     "metadata": {},
     "output_type": "execute_result"
    }
   ],
   "source": [
    "shear['metacal/mcal_mag_err_z_2p'][0:10]"
   ]
  },
  {
   "cell_type": "code",
   "execution_count": 11,
   "id": "1f053a95-d078-4bef-b464-9b11eaa51831",
   "metadata": {},
   "outputs": [
    {
     "data": {
      "text/plain": [
       "<KeysViewHDF5 ['dec', 'id', 'mcal_T', 'mcal_T_1m', 'mcal_T_1p', 'mcal_T_2m', 'mcal_T_2p', 'mcal_T_err', 'mcal_T_err_1m', 'mcal_T_err_1p', 'mcal_T_err_2m', 'mcal_T_err_2p', 'mcal_flags', 'mcal_flags_1m', 'mcal_flags_1p', 'mcal_flags_2m', 'mcal_flags_2p', 'mcal_g1', 'mcal_g1_1m', 'mcal_g1_1p', 'mcal_g1_2m', 'mcal_g1_2p', 'mcal_g2', 'mcal_g2_1m', 'mcal_g2_1p', 'mcal_g2_2m', 'mcal_g2_2p', 'mcal_mag_err_i', 'mcal_mag_err_i_1m', 'mcal_mag_err_i_1p', 'mcal_mag_err_i_2m', 'mcal_mag_err_i_2p', 'mcal_mag_err_r', 'mcal_mag_err_r_1m', 'mcal_mag_err_r_1p', 'mcal_mag_err_r_2m', 'mcal_mag_err_r_2p', 'mcal_mag_err_z', 'mcal_mag_err_z_1m', 'mcal_mag_err_z_1p', 'mcal_mag_err_z_2m', 'mcal_mag_err_z_2p', 'mcal_mag_i', 'mcal_mag_i_1m', 'mcal_mag_i_1p', 'mcal_mag_i_2m', 'mcal_mag_i_2p', 'mcal_mag_r', 'mcal_mag_r_1m', 'mcal_mag_r_1p', 'mcal_mag_r_2m', 'mcal_mag_r_2p', 'mcal_mag_z', 'mcal_mag_z_1m', 'mcal_mag_z_1p', 'mcal_mag_z_2m', 'mcal_mag_z_2p', 'mcal_psf_T_mean', 'mcal_psf_g1', 'mcal_psf_g2', 'mcal_s2n', 'mcal_s2n_1m', 'mcal_s2n_1p', 'mcal_s2n_2m', 'mcal_s2n_2p', 'psf_g1', 'psf_g2', 'ra', 'redshift_true', 'true_g1', 'true_g2', 'weight']>"
      ]
     },
     "execution_count": 11,
     "metadata": {},
     "output_type": "execute_result"
    }
   ],
   "source": [
    "shear['shear'].keys()"
   ]
  },
  {
   "cell_type": "code",
   "execution_count": 9,
   "id": "88992e7a-08f6-4e99-8821-90534d14878a",
   "metadata": {},
   "outputs": [],
   "source": [
    "photo = h5py.File(path_photometry_catalog,'r')"
   ]
  },
  {
   "cell_type": "code",
   "execution_count": 12,
   "id": "38491001-3eab-4100-8670-14dac79f5a89",
   "metadata": {},
   "outputs": [
    {
     "data": {
      "text/plain": [
       "<KeysViewHDF5 ['dec', 'extendedness', 'g_mag', 'g_mag_err', 'i_mag', 'i_mag_err', 'id', 'mag_err_g', 'mag_err_i', 'mag_err_r', 'mag_err_u', 'mag_err_y', 'mag_err_z', 'mag_g', 'mag_i', 'mag_r', 'mag_u', 'mag_y', 'mag_z', 'r_mag', 'r_mag_err', 'ra', 'redshift_true', 'shear_1', 'shear_2', 'size_true', 'snr_g', 'snr_i', 'snr_r', 'snr_u', 'snr_y', 'snr_z', 'u_mag', 'u_mag_err', 'y_mag', 'y_mag_err', 'z_mag', 'z_mag_err']>"
      ]
     },
     "execution_count": 12,
     "metadata": {},
     "output_type": "execute_result"
    }
   ],
   "source": [
    "photo['photometry'].keys()"
   ]
  },
  {
   "cell_type": "code",
   "execution_count": 34,
   "id": "35e5b219-ba08-4f43-a199-8bb38ce826c1",
   "metadata": {},
   "outputs": [],
   "source": [
    "caltable = f = pd.read_csv(path_calibration_table)"
   ]
  },
  {
   "cell_type": "code",
   "execution_count": 35,
   "id": "f41e65d2-5ed9-4f99-ae41-486c5b48f3e8",
   "metadata": {},
   "outputs": [
    {
     "data": {
      "text/html": [
       "<div>\n",
       "<style scoped>\n",
       "    .dataframe tbody tr th:only-of-type {\n",
       "        vertical-align: middle;\n",
       "    }\n",
       "\n",
       "    .dataframe tbody tr th {\n",
       "        vertical-align: top;\n",
       "    }\n",
       "\n",
       "    .dataframe thead th {\n",
       "        text-align: right;\n",
       "    }\n",
       "</style>\n",
       "<table border=\"1\" class=\"dataframe\">\n",
       "  <thead>\n",
       "    <tr style=\"text-align: right;\">\n",
       "      <th></th>\n",
       "      <th>#id sz ra dec u uerr g gerr r rerr i ierr z zerr y yerr galid Av</th>\n",
       "    </tr>\n",
       "  </thead>\n",
       "  <tbody>\n",
       "    <tr>\n",
       "      <th>0</th>\n",
       "      <td>0 0.0220 62.584977 -40.334110  17.6159 0.0050 ...</td>\n",
       "    </tr>\n",
       "    <tr>\n",
       "      <th>1</th>\n",
       "      <td>100 0.0489 62.737951 -40.310046  19.3351 0.005...</td>\n",
       "    </tr>\n",
       "    <tr>\n",
       "      <th>2</th>\n",
       "      <td>200 0.0258 61.679292 -41.217925  23.0562 0.014...</td>\n",
       "    </tr>\n",
       "    <tr>\n",
       "      <th>3</th>\n",
       "      <td>300 0.0292 62.836708 -40.058639  23.7464 0.025...</td>\n",
       "    </tr>\n",
       "    <tr>\n",
       "      <th>4</th>\n",
       "      <td>400 0.0336 62.349167 -40.069310  23.1186 0.015...</td>\n",
       "    </tr>\n",
       "    <tr>\n",
       "      <th>5</th>\n",
       "      <td>500 0.0325 61.570107 -40.943441  23.6385 0.022...</td>\n",
       "    </tr>\n",
       "    <tr>\n",
       "      <th>6</th>\n",
       "      <td>600 0.0706 61.901785 -39.756100  19.2633 0.005...</td>\n",
       "    </tr>\n",
       "    <tr>\n",
       "      <th>7</th>\n",
       "      <td>700 0.0634 61.389067 -39.275928  24.7660 0.061...</td>\n",
       "    </tr>\n",
       "    <tr>\n",
       "      <th>8</th>\n",
       "      <td>800 0.0672 61.260704 -40.817689  25.3300 0.102...</td>\n",
       "    </tr>\n",
       "    <tr>\n",
       "      <th>9</th>\n",
       "      <td>900 0.0522 62.217480 -40.393876  22.1550 0.008...</td>\n",
       "    </tr>\n",
       "    <tr>\n",
       "      <th>10</th>\n",
       "      <td>1000 0.0587 61.769055 -39.095970  22.1930 0.00...</td>\n",
       "    </tr>\n",
       "    <tr>\n",
       "      <th>11</th>\n",
       "      <td>1100 0.0684 61.853141 -40.445004  26.2448 0.23...</td>\n",
       "    </tr>\n",
       "    <tr>\n",
       "      <th>12</th>\n",
       "      <td>1200 0.0613 61.891983 -40.901151  24.8306 0.06...</td>\n",
       "    </tr>\n",
       "    <tr>\n",
       "      <th>13</th>\n",
       "      <td>1300 0.0549 60.884026 -40.237558  23.0042 0.01...</td>\n",
       "    </tr>\n",
       "    <tr>\n",
       "      <th>14</th>\n",
       "      <td>1400 0.0623 62.717614 -40.828996  24.7060 0.05...</td>\n",
       "    </tr>\n",
       "    <tr>\n",
       "      <th>15</th>\n",
       "      <td>1500 0.0578 62.191850 -39.628936  24.0322 0.03...</td>\n",
       "    </tr>\n",
       "    <tr>\n",
       "      <th>16</th>\n",
       "      <td>1600 0.0611 61.578500 -40.255427  25.6569 0.13...</td>\n",
       "    </tr>\n",
       "    <tr>\n",
       "      <th>17</th>\n",
       "      <td>1700 0.0623 62.161861 -40.493417  25.5600 0.12...</td>\n",
       "    </tr>\n",
       "    <tr>\n",
       "      <th>18</th>\n",
       "      <td>1800 0.0794 62.334726 -41.106786  23.1512 0.01...</td>\n",
       "    </tr>\n",
       "    <tr>\n",
       "      <th>19</th>\n",
       "      <td>1900 0.0903 61.549143 -40.195733  19.5091 0.00...</td>\n",
       "    </tr>\n",
       "    <tr>\n",
       "      <th>20</th>\n",
       "      <td>2000 0.0763 62.418638 -39.844746  24.3296 0.04...</td>\n",
       "    </tr>\n",
       "    <tr>\n",
       "      <th>21</th>\n",
       "      <td>2100 0.0920 61.776163 -39.699382  21.9577 0.00...</td>\n",
       "    </tr>\n",
       "    <tr>\n",
       "      <th>22</th>\n",
       "      <td>2200 0.0772 62.375401 -40.934345  20.4769 0.00...</td>\n",
       "    </tr>\n",
       "    <tr>\n",
       "      <th>23</th>\n",
       "      <td>2300 0.0995 61.867050 -40.071268  23.6508 0.02...</td>\n",
       "    </tr>\n",
       "    <tr>\n",
       "      <th>24</th>\n",
       "      <td>2400 0.1001 62.365690 -41.193744  26.2293 0.23...</td>\n",
       "    </tr>\n",
       "    <tr>\n",
       "      <th>25</th>\n",
       "      <td>2500 0.0775 62.556887 -39.813917  23.8582 0.02...</td>\n",
       "    </tr>\n",
       "    <tr>\n",
       "      <th>26</th>\n",
       "      <td>2600 0.0858 62.490000 -40.784133  25.4960 0.11...</td>\n",
       "    </tr>\n",
       "    <tr>\n",
       "      <th>27</th>\n",
       "      <td>2700 0.0972 62.114707 -40.132664  25.5915 0.13...</td>\n",
       "    </tr>\n",
       "    <tr>\n",
       "      <th>28</th>\n",
       "      <td>2800 0.0965 61.653525 -39.062666  23.4189 0.01...</td>\n",
       "    </tr>\n",
       "    <tr>\n",
       "      <th>29</th>\n",
       "      <td>2900 0.0828 62.438715 -40.805393  26.2164 0.23...</td>\n",
       "    </tr>\n",
       "    <tr>\n",
       "      <th>...</th>\n",
       "      <td>...</td>\n",
       "    </tr>\n",
       "    <tr>\n",
       "      <th>104074</th>\n",
       "      <td>10407400 2.5202 65.834908 -38.044652  25.4784 ...</td>\n",
       "    </tr>\n",
       "    <tr>\n",
       "      <th>104075</th>\n",
       "      <td>10407500 2.5396 66.702121 -38.731638  24.8733 ...</td>\n",
       "    </tr>\n",
       "    <tr>\n",
       "      <th>104076</th>\n",
       "      <td>10407600 2.5330 66.550366 -37.800771  24.7814 ...</td>\n",
       "    </tr>\n",
       "    <tr>\n",
       "      <th>104077</th>\n",
       "      <td>10407700 2.5145 66.256477 -38.367487  26.8702 ...</td>\n",
       "    </tr>\n",
       "    <tr>\n",
       "      <th>104078</th>\n",
       "      <td>10407800 2.4610 67.096805 -38.707444  28.1779 ...</td>\n",
       "    </tr>\n",
       "    <tr>\n",
       "      <th>104079</th>\n",
       "      <td>10407900 2.5122 65.950124 -38.626926  25.4649 ...</td>\n",
       "    </tr>\n",
       "    <tr>\n",
       "      <th>104080</th>\n",
       "      <td>10408000 2.6078 66.369127 -39.182582  25.5228 ...</td>\n",
       "    </tr>\n",
       "    <tr>\n",
       "      <th>104081</th>\n",
       "      <td>10408100 2.6014 65.463870 -37.948711  24.8793 ...</td>\n",
       "    </tr>\n",
       "    <tr>\n",
       "      <th>104082</th>\n",
       "      <td>10408200 2.5851 66.718502 -38.598549  24.8216 ...</td>\n",
       "    </tr>\n",
       "    <tr>\n",
       "      <th>104083</th>\n",
       "      <td>10408300 2.6495 66.682568 -38.857849  25.4563 ...</td>\n",
       "    </tr>\n",
       "    <tr>\n",
       "      <th>104084</th>\n",
       "      <td>10408400 2.6262 64.999665 -38.573688  26.3477 ...</td>\n",
       "    </tr>\n",
       "    <tr>\n",
       "      <th>104085</th>\n",
       "      <td>10408500 2.6136 65.766604 -39.440811  25.6927 ...</td>\n",
       "    </tr>\n",
       "    <tr>\n",
       "      <th>104086</th>\n",
       "      <td>10408600 2.5938 66.016736 -38.066004  23.9843 ...</td>\n",
       "    </tr>\n",
       "    <tr>\n",
       "      <th>104087</th>\n",
       "      <td>10408700 2.7131 67.315952 -38.745485  25.9693 ...</td>\n",
       "    </tr>\n",
       "    <tr>\n",
       "      <th>104088</th>\n",
       "      <td>10408800 2.7251 66.237816 -38.781262  26.5363 ...</td>\n",
       "    </tr>\n",
       "    <tr>\n",
       "      <th>104089</th>\n",
       "      <td>10408900 2.7088 66.906982 -38.715204  24.7397 ...</td>\n",
       "    </tr>\n",
       "    <tr>\n",
       "      <th>104090</th>\n",
       "      <td>10409000 2.6662 67.014047 -38.446636  24.7803 ...</td>\n",
       "    </tr>\n",
       "    <tr>\n",
       "      <th>104091</th>\n",
       "      <td>10409100 2.6959 65.196200 -39.096484  23.3849 ...</td>\n",
       "    </tr>\n",
       "    <tr>\n",
       "      <th>104092</th>\n",
       "      <td>10409200 2.7075 65.667964 -39.162422  25.6192 ...</td>\n",
       "    </tr>\n",
       "    <tr>\n",
       "      <th>104093</th>\n",
       "      <td>10409300 2.7640 65.543633 -38.178764  26.4196 ...</td>\n",
       "    </tr>\n",
       "    <tr>\n",
       "      <th>104094</th>\n",
       "      <td>10409400 2.7844 66.351051 -38.018459  25.3790 ...</td>\n",
       "    </tr>\n",
       "    <tr>\n",
       "      <th>104095</th>\n",
       "      <td>10409500 2.7824 66.405631 -37.914837  25.5534 ...</td>\n",
       "    </tr>\n",
       "    <tr>\n",
       "      <th>104096</th>\n",
       "      <td>10409600 2.7893 66.003104 -39.739997  26.5325 ...</td>\n",
       "    </tr>\n",
       "    <tr>\n",
       "      <th>104097</th>\n",
       "      <td>10409700 2.8185 66.908028 -38.385662  25.9781 ...</td>\n",
       "    </tr>\n",
       "    <tr>\n",
       "      <th>104098</th>\n",
       "      <td>10409800 2.8550 65.768176 -39.577184  26.6445 ...</td>\n",
       "    </tr>\n",
       "    <tr>\n",
       "      <th>104099</th>\n",
       "      <td>10409900 2.8531 65.820556 -37.911725  27.6754 ...</td>\n",
       "    </tr>\n",
       "    <tr>\n",
       "      <th>104100</th>\n",
       "      <td>10410000 2.8760 67.040719 -38.408924  28.2485 ...</td>\n",
       "    </tr>\n",
       "    <tr>\n",
       "      <th>104101</th>\n",
       "      <td>10410100 2.9215 66.338044 -38.558236  26.7672 ...</td>\n",
       "    </tr>\n",
       "    <tr>\n",
       "      <th>104102</th>\n",
       "      <td>10410200 3.0305 66.287684 -38.883792  29.0782 ...</td>\n",
       "    </tr>\n",
       "    <tr>\n",
       "      <th>104103</th>\n",
       "      <td>10410300 2.9476 65.884390 -39.271043  25.8659 ...</td>\n",
       "    </tr>\n",
       "  </tbody>\n",
       "</table>\n",
       "<p>104104 rows × 1 columns</p>\n",
       "</div>"
      ],
      "text/plain": [
       "       #id sz ra dec u uerr g gerr r rerr i ierr z zerr y yerr galid Av\n",
       "0       0 0.0220 62.584977 -40.334110  17.6159 0.0050 ...              \n",
       "1       100 0.0489 62.737951 -40.310046  19.3351 0.005...              \n",
       "2       200 0.0258 61.679292 -41.217925  23.0562 0.014...              \n",
       "3       300 0.0292 62.836708 -40.058639  23.7464 0.025...              \n",
       "4       400 0.0336 62.349167 -40.069310  23.1186 0.015...              \n",
       "5       500 0.0325 61.570107 -40.943441  23.6385 0.022...              \n",
       "6       600 0.0706 61.901785 -39.756100  19.2633 0.005...              \n",
       "7       700 0.0634 61.389067 -39.275928  24.7660 0.061...              \n",
       "8       800 0.0672 61.260704 -40.817689  25.3300 0.102...              \n",
       "9       900 0.0522 62.217480 -40.393876  22.1550 0.008...              \n",
       "10      1000 0.0587 61.769055 -39.095970  22.1930 0.00...              \n",
       "11      1100 0.0684 61.853141 -40.445004  26.2448 0.23...              \n",
       "12      1200 0.0613 61.891983 -40.901151  24.8306 0.06...              \n",
       "13      1300 0.0549 60.884026 -40.237558  23.0042 0.01...              \n",
       "14      1400 0.0623 62.717614 -40.828996  24.7060 0.05...              \n",
       "15      1500 0.0578 62.191850 -39.628936  24.0322 0.03...              \n",
       "16      1600 0.0611 61.578500 -40.255427  25.6569 0.13...              \n",
       "17      1700 0.0623 62.161861 -40.493417  25.5600 0.12...              \n",
       "18      1800 0.0794 62.334726 -41.106786  23.1512 0.01...              \n",
       "19      1900 0.0903 61.549143 -40.195733  19.5091 0.00...              \n",
       "20      2000 0.0763 62.418638 -39.844746  24.3296 0.04...              \n",
       "21      2100 0.0920 61.776163 -39.699382  21.9577 0.00...              \n",
       "22      2200 0.0772 62.375401 -40.934345  20.4769 0.00...              \n",
       "23      2300 0.0995 61.867050 -40.071268  23.6508 0.02...              \n",
       "24      2400 0.1001 62.365690 -41.193744  26.2293 0.23...              \n",
       "25      2500 0.0775 62.556887 -39.813917  23.8582 0.02...              \n",
       "26      2600 0.0858 62.490000 -40.784133  25.4960 0.11...              \n",
       "27      2700 0.0972 62.114707 -40.132664  25.5915 0.13...              \n",
       "28      2800 0.0965 61.653525 -39.062666  23.4189 0.01...              \n",
       "29      2900 0.0828 62.438715 -40.805393  26.2164 0.23...              \n",
       "...                                                   ...              \n",
       "104074  10407400 2.5202 65.834908 -38.044652  25.4784 ...              \n",
       "104075  10407500 2.5396 66.702121 -38.731638  24.8733 ...              \n",
       "104076  10407600 2.5330 66.550366 -37.800771  24.7814 ...              \n",
       "104077  10407700 2.5145 66.256477 -38.367487  26.8702 ...              \n",
       "104078  10407800 2.4610 67.096805 -38.707444  28.1779 ...              \n",
       "104079  10407900 2.5122 65.950124 -38.626926  25.4649 ...              \n",
       "104080  10408000 2.6078 66.369127 -39.182582  25.5228 ...              \n",
       "104081  10408100 2.6014 65.463870 -37.948711  24.8793 ...              \n",
       "104082  10408200 2.5851 66.718502 -38.598549  24.8216 ...              \n",
       "104083  10408300 2.6495 66.682568 -38.857849  25.4563 ...              \n",
       "104084  10408400 2.6262 64.999665 -38.573688  26.3477 ...              \n",
       "104085  10408500 2.6136 65.766604 -39.440811  25.6927 ...              \n",
       "104086  10408600 2.5938 66.016736 -38.066004  23.9843 ...              \n",
       "104087  10408700 2.7131 67.315952 -38.745485  25.9693 ...              \n",
       "104088  10408800 2.7251 66.237816 -38.781262  26.5363 ...              \n",
       "104089  10408900 2.7088 66.906982 -38.715204  24.7397 ...              \n",
       "104090  10409000 2.6662 67.014047 -38.446636  24.7803 ...              \n",
       "104091  10409100 2.6959 65.196200 -39.096484  23.3849 ...              \n",
       "104092  10409200 2.7075 65.667964 -39.162422  25.6192 ...              \n",
       "104093  10409300 2.7640 65.543633 -38.178764  26.4196 ...              \n",
       "104094  10409400 2.7844 66.351051 -38.018459  25.3790 ...              \n",
       "104095  10409500 2.7824 66.405631 -37.914837  25.5534 ...              \n",
       "104096  10409600 2.7893 66.003104 -39.739997  26.5325 ...              \n",
       "104097  10409700 2.8185 66.908028 -38.385662  25.9781 ...              \n",
       "104098  10409800 2.8550 65.768176 -39.577184  26.6445 ...              \n",
       "104099  10409900 2.8531 65.820556 -37.911725  27.6754 ...              \n",
       "104100  10410000 2.8760 67.040719 -38.408924  28.2485 ...              \n",
       "104101  10410100 2.9215 66.338044 -38.558236  26.7672 ...              \n",
       "104102  10410200 3.0305 66.287684 -38.883792  29.0782 ...              \n",
       "104103  10410300 2.9476 65.884390 -39.271043  25.8659 ...              \n",
       "\n",
       "[104104 rows x 1 columns]"
      ]
     },
     "execution_count": 35,
     "metadata": {},
     "output_type": "execute_result"
    }
   ],
   "source": [
    "caltable"
   ]
  },
  {
   "cell_type": "markdown",
   "id": "7d397bf0-3be4-42fa-92b5-a9d2e2007731",
   "metadata": {},
   "source": [
    "## Check some TXPipe outputs"
   ]
  },
  {
   "cell_type": "code",
   "execution_count": 2,
   "id": "466e9b51-280e-4a67-a4ba-041e9413053e",
   "metadata": {},
   "outputs": [],
   "source": [
    "path_output = '../../TXPipe/data/cosmodc2/outputs_redmagic/2021/december14/7sbins/'"
   ]
  },
  {
   "cell_type": "code",
   "execution_count": 14,
   "id": "429f84c4-eab4-4319-a288-3bb25d2e4a7f",
   "metadata": {},
   "outputs": [],
   "source": [
    "shear_tomo_cat = h5py.File(path_output+'shear_tomography_catalog.hdf5','r')"
   ]
  },
  {
   "cell_type": "code",
   "execution_count": 15,
   "id": "575e8585-1ab2-4826-a4da-5f51520a15a3",
   "metadata": {},
   "outputs": [
    {
     "data": {
      "text/plain": [
       "<KeysViewHDF5 ['provenance', 'response', 'tomography']>"
      ]
     },
     "execution_count": 15,
     "metadata": {},
     "output_type": "execute_result"
    }
   ],
   "source": [
    "shear_tomo_cat.keys()"
   ]
  },
  {
   "cell_type": "code",
   "execution_count": 16,
   "id": "ac974027-73e2-4d20-86ca-f7c9592f40ef",
   "metadata": {},
   "outputs": [
    {
     "data": {
      "text/plain": [
       "<KeysViewHDF5 ['N_eff', 'N_eff_2d', 'mean_e1', 'mean_e1_2d', 'mean_e2', 'mean_e2_2d', 'sigma_e', 'sigma_e_2d', 'source_bin', 'source_counts', 'source_counts_2d']>"
      ]
     },
     "execution_count": 16,
     "metadata": {},
     "output_type": "execute_result"
    }
   ],
   "source": [
    "shear_tomo_cat['tomography'].keys()"
   ]
  },
  {
   "cell_type": "code",
   "execution_count": 19,
   "id": "3f3cdc52-2bd9-4d44-9bcd-5ff06a0b3a6b",
   "metadata": {},
   "outputs": [
    {
     "data": {
      "text/plain": [
       "<HDF5 dataset \"mean_e1\": shape (7,), type \"<f4\">"
      ]
     },
     "execution_count": 19,
     "metadata": {},
     "output_type": "execute_result"
    }
   ],
   "source": [
    "shear_tomo_cat['tomography/mean_e1']"
   ]
  },
  {
   "cell_type": "code",
   "execution_count": 20,
   "id": "281a14ce-d02a-4403-a69a-7291446f9dc7",
   "metadata": {},
   "outputs": [
    {
     "data": {
      "text/plain": [
       "<HDF5 dataset \"source_bin\": shape (209893233,), type \"<i4\">"
      ]
     },
     "execution_count": 20,
     "metadata": {},
     "output_type": "execute_result"
    }
   ],
   "source": [
    "shear_tomo_cat['tomography/source_bin']"
   ]
  },
  {
   "cell_type": "code",
   "execution_count": 23,
   "id": "96cf3755-4b6a-4586-84d4-6a194a25b64e",
   "metadata": {},
   "outputs": [
    {
     "data": {
      "text/plain": [
       "<HDF5 dataset \"sigma_e\": shape (7,), type \"<f4\">"
      ]
     },
     "execution_count": 23,
     "metadata": {},
     "output_type": "execute_result"
    }
   ],
   "source": [
    "shear_tomo_cat['tomography/sigma_e']"
   ]
  },
  {
   "cell_type": "code",
   "execution_count": 24,
   "id": "5f03c8db-77cc-4d47-996e-ed71568572b0",
   "metadata": {},
   "outputs": [
    {
     "data": {
      "text/plain": [
       "<HDF5 dataset \"source_counts\": shape (7,), type \"<i4\">"
      ]
     },
     "execution_count": 24,
     "metadata": {},
     "output_type": "execute_result"
    }
   ],
   "source": [
    "shear_tomo_cat['tomography/source_counts']"
   ]
  },
  {
   "cell_type": "code",
   "execution_count": 26,
   "id": "6e6a03b5-0cc4-4c22-8384-2f9e97bd454b",
   "metadata": {},
   "outputs": [
    {
     "data": {
      "text/plain": [
       "<KeysViewHDF5 ['R_S', 'R_S_2d', 'R_gamma', 'R_gamma_mean', 'R_gamma_mean_2d', 'R_total', 'R_total_2d']>"
      ]
     },
     "execution_count": 26,
     "metadata": {},
     "output_type": "execute_result"
    }
   ],
   "source": [
    "shear_tomo_cat['response'].keys()"
   ]
  },
  {
   "cell_type": "code",
   "execution_count": 28,
   "id": "5bb777ad-dc28-4d29-bd0f-b26673b4eebc",
   "metadata": {},
   "outputs": [
    {
     "data": {
      "text/plain": [
       "<HDF5 dataset \"R_gamma\": shape (209893233, 2, 2), type \"<f4\">"
      ]
     },
     "execution_count": 28,
     "metadata": {},
     "output_type": "execute_result"
    }
   ],
   "source": [
    "shear_tomo_cat['response/R_gamma']"
   ]
  },
  {
   "cell_type": "markdown",
   "id": "ce9af407-8279-4fd5-bbac-89b7259e5afd",
   "metadata": {},
   "source": [
    "### Lens cats"
   ]
  },
  {
   "cell_type": "code",
   "execution_count": 4,
   "id": "98dd5c5b-4138-4f50-ad34-c330ced2ad2f",
   "metadata": {},
   "outputs": [],
   "source": [
    "lens_cat = h5py.File(path_output+'lens_catalog.hdf5','r')"
   ]
  },
  {
   "cell_type": "code",
   "execution_count": 6,
   "id": "226ca144-fbd6-4769-9e11-54ee2b71375e",
   "metadata": {},
   "outputs": [
    {
     "data": {
      "text/plain": [
       "<KeysViewHDF5 ['lens', 'provenance']>"
      ]
     },
     "execution_count": 6,
     "metadata": {},
     "output_type": "execute_result"
    }
   ],
   "source": [
    "lens_cat.keys()"
   ]
  },
  {
   "cell_type": "code",
   "execution_count": 7,
   "id": "b00d6157-0ea0-43f8-87e8-5698453312c4",
   "metadata": {},
   "outputs": [
    {
     "data": {
      "text/plain": [
       "<KeysViewHDF5 ['chisq', 'dec', 'mag_err_g', 'mag_err_i', 'mag_err_r', 'mag_err_y', 'mag_err_z', 'mag_g', 'mag_i', 'mag_r', 'mag_y', 'mag_z', 'ra', 'zredmagic']>"
      ]
     },
     "execution_count": 7,
     "metadata": {},
     "output_type": "execute_result"
    }
   ],
   "source": [
    "lens_cat['lens'].keys()"
   ]
  },
  {
   "cell_type": "code",
   "execution_count": 10,
   "id": "b2635da3-0201-419c-9a28-eefec42c8e7f",
   "metadata": {},
   "outputs": [
    {
     "data": {
      "text/plain": [
       "<KeysViewHDF5 []>"
      ]
     },
     "execution_count": 10,
     "metadata": {},
     "output_type": "execute_result"
    }
   ],
   "source": [
    "lens_cat['provenance'].keys()"
   ]
  },
  {
   "cell_type": "code",
   "execution_count": 5,
   "id": "3c09ad58-44d8-4641-8b6d-f266005107b7",
   "metadata": {},
   "outputs": [],
   "source": [
    "lens_tomo_cat = h5py.File(path_output+'lens_tomography_catalog.hdf5','r')"
   ]
  },
  {
   "cell_type": "code",
   "execution_count": 6,
   "id": "285e29b8-8055-48a3-a280-5cf012c826d9",
   "metadata": {},
   "outputs": [
    {
     "data": {
      "text/plain": [
       "<KeysViewHDF5 ['provenance', 'tomography']>"
      ]
     },
     "execution_count": 6,
     "metadata": {},
     "output_type": "execute_result"
    }
   ],
   "source": [
    "lens_tomo_cat.keys()"
   ]
  },
  {
   "cell_type": "code",
   "execution_count": 7,
   "id": "abb06ed0-90aa-4e22-b886-0a17af84afba",
   "metadata": {},
   "outputs": [
    {
     "data": {
      "text/plain": [
       "<KeysViewHDF5 ['lens_bin', 'lens_counts', 'lens_counts_2d', 'lens_weight']>"
      ]
     },
     "execution_count": 7,
     "metadata": {},
     "output_type": "execute_result"
    }
   ],
   "source": [
    "lens_tomo_cat['tomography'].keys()"
   ]
  },
  {
   "cell_type": "code",
   "execution_count": 8,
   "id": "d7bc248d-5a7b-478c-ad27-e34549b00af0",
   "metadata": {},
   "outputs": [
    {
     "data": {
      "text/plain": [
       "array([2, 2, 2, 0, 3, 3, 3, 2, 2, 3], dtype=int32)"
      ]
     },
     "execution_count": 8,
     "metadata": {},
     "output_type": "execute_result"
    }
   ],
   "source": [
    "lens_tomo_cat['tomography/lens_bin'][:10]"
   ]
  },
  {
   "cell_type": "code",
   "execution_count": 17,
   "id": "1a5db26e-83bd-4721-bea7-8fad08e3aad7",
   "metadata": {},
   "outputs": [
    {
     "data": {
      "text/plain": [
       "array([ 28779,  55406,  95005, 141527, 170392], dtype=int32)"
      ]
     },
     "execution_count": 17,
     "metadata": {},
     "output_type": "execute_result"
    }
   ],
   "source": [
    "lens_tomo_cat['tomography/lens_counts'][:]"
   ]
  },
  {
   "cell_type": "code",
   "execution_count": 18,
   "id": "8d8015b2-425c-4a34-b75b-62a46b165e7e",
   "metadata": {},
   "outputs": [
    {
     "data": {
      "text/plain": [
       "array([491109], dtype=int32)"
      ]
     },
     "execution_count": 18,
     "metadata": {},
     "output_type": "execute_result"
    }
   ],
   "source": [
    "lens_tomo_cat['tomography/lens_counts_2d'][:]"
   ]
  },
  {
   "cell_type": "code",
   "execution_count": 10,
   "id": "011e793f-82da-4a4f-a01d-b0e2d8f6e492",
   "metadata": {},
   "outputs": [
    {
     "data": {
      "text/plain": [
       "577613"
      ]
     },
     "execution_count": 10,
     "metadata": {},
     "output_type": "execute_result"
    }
   ],
   "source": [
    "len(lens_tomo_cat['tomography/lens_weight'][:])"
   ]
  },
  {
   "cell_type": "code",
   "execution_count": 12,
   "id": "debb94c8-d4d2-4285-8581-b3dfcc9518ee",
   "metadata": {},
   "outputs": [],
   "source": [
    "lens_z = h5py.File(path_output+'lens_photoz_stack.hdf5','r')"
   ]
  },
  {
   "cell_type": "code",
   "execution_count": 13,
   "id": "44054b77-eb6a-4aa1-946f-2f0511df31d2",
   "metadata": {},
   "outputs": [
    {
     "data": {
      "text/plain": [
       "<KeysViewHDF5 ['n_of_z', 'provenance']>"
      ]
     },
     "execution_count": 13,
     "metadata": {},
     "output_type": "execute_result"
    }
   ],
   "source": [
    "lens_z.keys()"
   ]
  },
  {
   "cell_type": "code",
   "execution_count": 14,
   "id": "253d8930-12f3-4763-9bb3-f1fc5939bd3f",
   "metadata": {},
   "outputs": [
    {
     "data": {
      "text/plain": [
       "<KeysViewHDF5 ['lens']>"
      ]
     },
     "execution_count": 14,
     "metadata": {},
     "output_type": "execute_result"
    }
   ],
   "source": [
    "lens_z['n_of_z'].keys()"
   ]
  },
  {
   "cell_type": "code",
   "execution_count": 16,
   "id": "991ad99b-c76e-4a7b-9b8b-362348ee0202",
   "metadata": {},
   "outputs": [
    {
     "data": {
      "text/plain": [
       "<KeysViewHDF5 ['bin_0', 'bin_1', 'bin_2', 'bin_3', 'bin_4', 'z']>"
      ]
     },
     "execution_count": 16,
     "metadata": {},
     "output_type": "execute_result"
    }
   ],
   "source": [
    "lens_z['n_of_z/lens'].keys()"
   ]
  },
  {
   "cell_type": "code",
   "execution_count": 20,
   "id": "ce4b3ed2-a8b9-4ddf-971d-b630b23213d5",
   "metadata": {},
   "outputs": [
    {
     "data": {
      "text/plain": [
       "array([0., 0., 0., 0., 0., 0., 0., 0., 0., 0.])"
      ]
     },
     "execution_count": 20,
     "metadata": {},
     "output_type": "execute_result"
    }
   ],
   "source": [
    "lens_z['n_of_z/lens/bin_0'][:10]"
   ]
  },
  {
   "cell_type": "code",
   "execution_count": 19,
   "id": "58da1a9f-ca21-474b-80cc-813da7665fdd",
   "metadata": {},
   "outputs": [
    {
     "data": {
      "text/plain": [
       "array([0.  , 0.01, 0.02, 0.03, 0.04, 0.05, 0.06, 0.07, 0.08, 0.09])"
      ]
     },
     "execution_count": 19,
     "metadata": {},
     "output_type": "execute_result"
    }
   ],
   "source": [
    "lens_z['n_of_z/lens/z'][:10]"
   ]
  },
  {
   "cell_type": "code",
   "execution_count": null,
   "id": "cd946679-2516-48a9-9187-80e94d47e438",
   "metadata": {},
   "outputs": [],
   "source": []
  }
 ],
 "metadata": {
  "kernelspec": {
   "display_name": "desc-stack-dev",
   "language": "python",
   "name": "desc-stack-dev"
  },
  "language_info": {
   "codemirror_mode": {
    "name": "ipython",
    "version": 3
   },
   "file_extension": ".py",
   "mimetype": "text/x-python",
   "name": "python",
   "nbconvert_exporter": "python",
   "pygments_lexer": "ipython3",
   "version": "3.7.2"
  }
 },
 "nbformat": 4,
 "nbformat_minor": 5
}
